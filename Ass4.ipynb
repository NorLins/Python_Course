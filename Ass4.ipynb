{
 "cells": [
  {
   "cell_type": "markdown",
   "id": "7e465df9-d157-4b4e-88eb-3bdbf25ff0b9",
   "metadata": {
    "jp-MarkdownHeadingCollapsed": true,
    "tags": []
   },
   "source": [
    "# *MoMA's* artists and their collaboration network\n",
    "## Data project for \"2021W 136010-1 Introduction to DH Tools and Methods\". \n",
    "##### Nora Linser (01315533) 2022-01-23\n",
    "\n",
    "# Introduction\n",
    "*The Museum of Modern Art* in New York provides two datasets on *github*, one containing the artists that are represented in their collections and the other one the artworks itselt. \n",
    "Ithe artworks themselves. \n",
    "I will use the datasets, particularly the artwork dataset, to conduct a social network analysis of the artists represented in the *MoMA* collections. In doing so, I will assume that there is a social connection between the artists who collaborated in the creation of an artwork. \n",
    "\n",
    "# Research question and objective\n",
    "The goal of this project is to examine the dataset and create a network analysis based on the shared authorship of artworks by artists. \n",
    "A graph object will be created and centrality measures (Betwenness Centrality, Closeness Centrality, Degree distribution) will be calculated and displayed in plots (histograms and graphs). The size of the nodes in the respective diagrams should depend on the displayed centrality measures. Based on one of the centrality measures, a subgraph containing only the 100 most important nodes should be computed. A nice representation of this subgraph is the goal of the network investigation, where also some of the node attributes like gender or origin should be reflected (<font color =darkred>this part is not finished yet, but will be fulfilled in the Final Assignment</font>). \n",
    "\n",
    "# Source\n",
    "*MoMA* notes in the README file on Github that some of the data is not complete and that other information is not \"approved by the curator.\" They also make it clear that use of the data is at the user's risk. \n",
    "MoMA planned to update the records on Github monthly, but the last update was done in January 2021. This is also the version (1.62) that I downloaded to use for this project.\n",
    "\n",
    "## Reference:  \n",
    "- Data collected by: Moma – Museum of modern Art.\n",
    "- Dataset: 15,222 records. Encoding: UTF-8. \n",
    "- Data format: .csv and JSON.\n",
    "- Data distribution via [Github](https://github.com/MuseumofModernArt/collection) by the users John Halderman and momadm. \n",
    "- Licensing: CC0 License.\n",
    "- Digital object identifier DOI: 10.5281/zenodo.4408594\n",
    "- [Presidential URL](https://zenodo.org/record/4408594#.YcGKvC1h1pR)\n",
    "- Version: v1.62, release date: 2021/01/01\n",
    "- Day and time of download: 2021/12/21 12:43 PM \n",
    "\n",
    "## Short citation:\n",
    "Moma – Museum of Modern Art (2021/01/01), Artists (Data file in CSV Format). Doi: 10.5281/zenodo.4408594. Retrieved from https://github.com/MuseumofModernArt/collection  \n",
    "\n",
    "Moma – Museum of Modern Art (2021/01/01), Artwork (Data file in CSV Format). Doi: 10.5281/zenodo.4408594. Retrieved from https://github.com/MuseumofModernArt/collection \n"
   ]
  },
  {
   "cell_type": "markdown",
   "id": "78f806e4-6865-4df3-913c-50aa61a73f98",
   "metadata": {
    "jp-MarkdownHeadingCollapsed": true,
    "tags": []
   },
   "source": [
    "# Importing the dataset and getting a first overview\n",
    "Setting up the working environment:"
   ]
  },
  {
   "cell_type": "code",
   "execution_count": 1,
   "id": "0c12af78-d55e-421c-8e1e-f52ebe1833a0",
   "metadata": {},
   "outputs": [],
   "source": [
    "#Setting up the working environment\n",
    "import pandas as pd"
   ]
  },
  {
   "cell_type": "markdown",
   "id": "b5bad2df-15b4-476b-a708-c01a85a266ec",
   "metadata": {},
   "source": [
    "Importing the files and displaying the first overview:"
   ]
  },
  {
   "cell_type": "code",
   "execution_count": 2,
   "id": "7b25fb45-08cd-4f6e-9cb2-01e152cab989",
   "metadata": {},
   "outputs": [
    {
     "data": {
      "text/html": [
       "<div>\n",
       "<style scoped>\n",
       "    .dataframe tbody tr th:only-of-type {\n",
       "        vertical-align: middle;\n",
       "    }\n",
       "\n",
       "    .dataframe tbody tr th {\n",
       "        vertical-align: top;\n",
       "    }\n",
       "\n",
       "    .dataframe thead th {\n",
       "        text-align: right;\n",
       "    }\n",
       "</style>\n",
       "<table border=\"1\" class=\"dataframe\">\n",
       "  <thead>\n",
       "    <tr style=\"text-align: right;\">\n",
       "      <th></th>\n",
       "      <th>Title</th>\n",
       "      <th>Artist</th>\n",
       "      <th>ConstituentID</th>\n",
       "      <th>ArtistBio</th>\n",
       "      <th>Nationality</th>\n",
       "      <th>BeginDate</th>\n",
       "      <th>EndDate</th>\n",
       "      <th>Gender</th>\n",
       "      <th>Date</th>\n",
       "      <th>Medium</th>\n",
       "      <th>...</th>\n",
       "      <th>ThumbnailURL</th>\n",
       "      <th>Circumference (cm)</th>\n",
       "      <th>Depth (cm)</th>\n",
       "      <th>Diameter (cm)</th>\n",
       "      <th>Height (cm)</th>\n",
       "      <th>Length (cm)</th>\n",
       "      <th>Weight (kg)</th>\n",
       "      <th>Width (cm)</th>\n",
       "      <th>Seat Height (cm)</th>\n",
       "      <th>Duration (sec.)</th>\n",
       "    </tr>\n",
       "  </thead>\n",
       "  <tbody>\n",
       "    <tr>\n",
       "      <th>0</th>\n",
       "      <td>Ferdinandsbrücke Project, Vienna, Austria (Ele...</td>\n",
       "      <td>Otto Wagner</td>\n",
       "      <td>6210</td>\n",
       "      <td>(Austrian, 1841–1918)</td>\n",
       "      <td>(Austrian)</td>\n",
       "      <td>(1841)</td>\n",
       "      <td>(1918)</td>\n",
       "      <td>(Male)</td>\n",
       "      <td>1896</td>\n",
       "      <td>Ink and cut-and-pasted painted pages on paper</td>\n",
       "      <td>...</td>\n",
       "      <td>http://www.moma.org/media/W1siZiIsIjU5NDA1Il0s...</td>\n",
       "      <td>NaN</td>\n",
       "      <td>NaN</td>\n",
       "      <td>NaN</td>\n",
       "      <td>48.6000</td>\n",
       "      <td>NaN</td>\n",
       "      <td>NaN</td>\n",
       "      <td>168.9000</td>\n",
       "      <td>NaN</td>\n",
       "      <td>NaN</td>\n",
       "    </tr>\n",
       "    <tr>\n",
       "      <th>1</th>\n",
       "      <td>City of Music, National Superior Conservatory ...</td>\n",
       "      <td>Christian de Portzamparc</td>\n",
       "      <td>7470</td>\n",
       "      <td>(French, born 1944)</td>\n",
       "      <td>(French)</td>\n",
       "      <td>(1944)</td>\n",
       "      <td>(0)</td>\n",
       "      <td>(Male)</td>\n",
       "      <td>1987</td>\n",
       "      <td>Paint and colored pencil on print</td>\n",
       "      <td>...</td>\n",
       "      <td>http://www.moma.org/media/W1siZiIsIjk3Il0sWyJw...</td>\n",
       "      <td>NaN</td>\n",
       "      <td>NaN</td>\n",
       "      <td>NaN</td>\n",
       "      <td>40.6401</td>\n",
       "      <td>NaN</td>\n",
       "      <td>NaN</td>\n",
       "      <td>29.8451</td>\n",
       "      <td>NaN</td>\n",
       "      <td>NaN</td>\n",
       "    </tr>\n",
       "    <tr>\n",
       "      <th>2</th>\n",
       "      <td>Villa near Vienna Project, Outside Vienna, Aus...</td>\n",
       "      <td>Emil Hoppe</td>\n",
       "      <td>7605</td>\n",
       "      <td>(Austrian, 1876–1957)</td>\n",
       "      <td>(Austrian)</td>\n",
       "      <td>(1876)</td>\n",
       "      <td>(1957)</td>\n",
       "      <td>(Male)</td>\n",
       "      <td>1903</td>\n",
       "      <td>Graphite, pen, color pencil, ink, and gouache ...</td>\n",
       "      <td>...</td>\n",
       "      <td>http://www.moma.org/media/W1siZiIsIjk4Il0sWyJw...</td>\n",
       "      <td>NaN</td>\n",
       "      <td>NaN</td>\n",
       "      <td>NaN</td>\n",
       "      <td>34.3000</td>\n",
       "      <td>NaN</td>\n",
       "      <td>NaN</td>\n",
       "      <td>31.8000</td>\n",
       "      <td>NaN</td>\n",
       "      <td>NaN</td>\n",
       "    </tr>\n",
       "    <tr>\n",
       "      <th>3</th>\n",
       "      <td>The Manhattan Transcripts Project, New York, N...</td>\n",
       "      <td>Bernard Tschumi</td>\n",
       "      <td>7056</td>\n",
       "      <td>(French and Swiss, born Switzerland 1944)</td>\n",
       "      <td>()</td>\n",
       "      <td>(1944)</td>\n",
       "      <td>(0)</td>\n",
       "      <td>(Male)</td>\n",
       "      <td>1980</td>\n",
       "      <td>Photographic reproduction with colored synthet...</td>\n",
       "      <td>...</td>\n",
       "      <td>http://www.moma.org/media/W1siZiIsIjEyNCJdLFsi...</td>\n",
       "      <td>NaN</td>\n",
       "      <td>NaN</td>\n",
       "      <td>NaN</td>\n",
       "      <td>50.8000</td>\n",
       "      <td>NaN</td>\n",
       "      <td>NaN</td>\n",
       "      <td>50.8000</td>\n",
       "      <td>NaN</td>\n",
       "      <td>NaN</td>\n",
       "    </tr>\n",
       "    <tr>\n",
       "      <th>4</th>\n",
       "      <td>Villa, project, outside Vienna, Austria, Exter...</td>\n",
       "      <td>Emil Hoppe</td>\n",
       "      <td>7605</td>\n",
       "      <td>(Austrian, 1876–1957)</td>\n",
       "      <td>(Austrian)</td>\n",
       "      <td>(1876)</td>\n",
       "      <td>(1957)</td>\n",
       "      <td>(Male)</td>\n",
       "      <td>1903</td>\n",
       "      <td>Graphite, color pencil, ink, and gouache on tr...</td>\n",
       "      <td>...</td>\n",
       "      <td>http://www.moma.org/media/W1siZiIsIjEyNiJdLFsi...</td>\n",
       "      <td>NaN</td>\n",
       "      <td>NaN</td>\n",
       "      <td>NaN</td>\n",
       "      <td>38.4000</td>\n",
       "      <td>NaN</td>\n",
       "      <td>NaN</td>\n",
       "      <td>19.1000</td>\n",
       "      <td>NaN</td>\n",
       "      <td>NaN</td>\n",
       "    </tr>\n",
       "    <tr>\n",
       "      <th>5</th>\n",
       "      <td>The Manhattan Transcripts Project, New York, N...</td>\n",
       "      <td>Bernard Tschumi</td>\n",
       "      <td>7056</td>\n",
       "      <td>(French and Swiss, born Switzerland 1944)</td>\n",
       "      <td>()</td>\n",
       "      <td>(1944)</td>\n",
       "      <td>(0)</td>\n",
       "      <td>(Male)</td>\n",
       "      <td>1976-77</td>\n",
       "      <td>Gelatin silver photograph</td>\n",
       "      <td>...</td>\n",
       "      <td>http://www.moma.org/media/W1siZiIsIjE0OCJdLFsi...</td>\n",
       "      <td>NaN</td>\n",
       "      <td>NaN</td>\n",
       "      <td>NaN</td>\n",
       "      <td>35.6000</td>\n",
       "      <td>NaN</td>\n",
       "      <td>NaN</td>\n",
       "      <td>45.7000</td>\n",
       "      <td>NaN</td>\n",
       "      <td>NaN</td>\n",
       "    </tr>\n",
       "    <tr>\n",
       "      <th>6</th>\n",
       "      <td>The Manhattan Transcripts Project, New York, N...</td>\n",
       "      <td>Bernard Tschumi</td>\n",
       "      <td>7056</td>\n",
       "      <td>(French and Swiss, born Switzerland 1944)</td>\n",
       "      <td>()</td>\n",
       "      <td>(1944)</td>\n",
       "      <td>(0)</td>\n",
       "      <td>(Male)</td>\n",
       "      <td>1976-77</td>\n",
       "      <td>Gelatin silver photographs</td>\n",
       "      <td>...</td>\n",
       "      <td>http://www.moma.org/media/W1siZiIsIjE0OSJdLFsi...</td>\n",
       "      <td>NaN</td>\n",
       "      <td>NaN</td>\n",
       "      <td>NaN</td>\n",
       "      <td>35.6000</td>\n",
       "      <td>NaN</td>\n",
       "      <td>NaN</td>\n",
       "      <td>45.7000</td>\n",
       "      <td>NaN</td>\n",
       "      <td>NaN</td>\n",
       "    </tr>\n",
       "    <tr>\n",
       "      <th>7</th>\n",
       "      <td>The Manhattan Transcripts Project, New York, N...</td>\n",
       "      <td>Bernard Tschumi</td>\n",
       "      <td>7056</td>\n",
       "      <td>(French and Swiss, born Switzerland 1944)</td>\n",
       "      <td>()</td>\n",
       "      <td>(1944)</td>\n",
       "      <td>(0)</td>\n",
       "      <td>(Male)</td>\n",
       "      <td>1976-77</td>\n",
       "      <td>Gelatin silver photograph</td>\n",
       "      <td>...</td>\n",
       "      <td>http://www.moma.org/media/W1siZiIsIjE0OSJdLFsi...</td>\n",
       "      <td>NaN</td>\n",
       "      <td>NaN</td>\n",
       "      <td>NaN</td>\n",
       "      <td>35.6000</td>\n",
       "      <td>NaN</td>\n",
       "      <td>NaN</td>\n",
       "      <td>45.7000</td>\n",
       "      <td>NaN</td>\n",
       "      <td>NaN</td>\n",
       "    </tr>\n",
       "    <tr>\n",
       "      <th>8</th>\n",
       "      <td>The Manhattan Transcripts Project, New York, N...</td>\n",
       "      <td>Bernard Tschumi</td>\n",
       "      <td>7056</td>\n",
       "      <td>(French and Swiss, born Switzerland 1944)</td>\n",
       "      <td>()</td>\n",
       "      <td>(1944)</td>\n",
       "      <td>(0)</td>\n",
       "      <td>(Male)</td>\n",
       "      <td>1976-77</td>\n",
       "      <td>Gelatin silver photograph</td>\n",
       "      <td>...</td>\n",
       "      <td>http://www.moma.org/media/W1siZiIsIjE1MCJdLFsi...</td>\n",
       "      <td>NaN</td>\n",
       "      <td>NaN</td>\n",
       "      <td>NaN</td>\n",
       "      <td>35.6000</td>\n",
       "      <td>NaN</td>\n",
       "      <td>NaN</td>\n",
       "      <td>45.7000</td>\n",
       "      <td>NaN</td>\n",
       "      <td>NaN</td>\n",
       "    </tr>\n",
       "    <tr>\n",
       "      <th>9</th>\n",
       "      <td>The Manhattan Transcripts Project, New York, N...</td>\n",
       "      <td>Bernard Tschumi</td>\n",
       "      <td>7056</td>\n",
       "      <td>(French and Swiss, born Switzerland 1944)</td>\n",
       "      <td>()</td>\n",
       "      <td>(1944)</td>\n",
       "      <td>(0)</td>\n",
       "      <td>(Male)</td>\n",
       "      <td>1976-77</td>\n",
       "      <td>Gelatin silver photograph</td>\n",
       "      <td>...</td>\n",
       "      <td>http://www.moma.org/media/W1siZiIsIjE1MSJdLFsi...</td>\n",
       "      <td>NaN</td>\n",
       "      <td>NaN</td>\n",
       "      <td>NaN</td>\n",
       "      <td>35.6000</td>\n",
       "      <td>NaN</td>\n",
       "      <td>NaN</td>\n",
       "      <td>45.7000</td>\n",
       "      <td>NaN</td>\n",
       "      <td>NaN</td>\n",
       "    </tr>\n",
       "    <tr>\n",
       "      <th>10</th>\n",
       "      <td>The Manhattan Transcripts Project, New York, N...</td>\n",
       "      <td>Bernard Tschumi</td>\n",
       "      <td>7056</td>\n",
       "      <td>(French and Swiss, born Switzerland 1944)</td>\n",
       "      <td>()</td>\n",
       "      <td>(1944)</td>\n",
       "      <td>(0)</td>\n",
       "      <td>(Male)</td>\n",
       "      <td>1976-77</td>\n",
       "      <td>Gelatin silver photograph</td>\n",
       "      <td>...</td>\n",
       "      <td>http://www.moma.org/media/W1siZiIsIjE1MyJdLFsi...</td>\n",
       "      <td>NaN</td>\n",
       "      <td>NaN</td>\n",
       "      <td>NaN</td>\n",
       "      <td>35.6000</td>\n",
       "      <td>NaN</td>\n",
       "      <td>NaN</td>\n",
       "      <td>45.7000</td>\n",
       "      <td>NaN</td>\n",
       "      <td>NaN</td>\n",
       "    </tr>\n",
       "    <tr>\n",
       "      <th>11</th>\n",
       "      <td>The Manhattan Transcripts Project, New York, N...</td>\n",
       "      <td>Bernard Tschumi</td>\n",
       "      <td>7056</td>\n",
       "      <td>(French and Swiss, born Switzerland 1944)</td>\n",
       "      <td>()</td>\n",
       "      <td>(1944)</td>\n",
       "      <td>(0)</td>\n",
       "      <td>(Male)</td>\n",
       "      <td>1976-77</td>\n",
       "      <td>Gelatin silver photograph</td>\n",
       "      <td>...</td>\n",
       "      <td>http://www.moma.org/media/W1siZiIsIjE1NCJdLFsi...</td>\n",
       "      <td>NaN</td>\n",
       "      <td>NaN</td>\n",
       "      <td>NaN</td>\n",
       "      <td>35.6000</td>\n",
       "      <td>NaN</td>\n",
       "      <td>NaN</td>\n",
       "      <td>45.7000</td>\n",
       "      <td>NaN</td>\n",
       "      <td>NaN</td>\n",
       "    </tr>\n",
       "    <tr>\n",
       "      <th>12</th>\n",
       "      <td>The Manhattan Transcripts Project, New York, N...</td>\n",
       "      <td>Bernard Tschumi</td>\n",
       "      <td>7056</td>\n",
       "      <td>(French and Swiss, born Switzerland 1944)</td>\n",
       "      <td>()</td>\n",
       "      <td>(1944)</td>\n",
       "      <td>(0)</td>\n",
       "      <td>(Male)</td>\n",
       "      <td>1976-77</td>\n",
       "      <td>Gelatin silver photograph</td>\n",
       "      <td>...</td>\n",
       "      <td>http://www.moma.org/media/W1siZiIsIjE1NSJdLFsi...</td>\n",
       "      <td>NaN</td>\n",
       "      <td>NaN</td>\n",
       "      <td>NaN</td>\n",
       "      <td>35.6000</td>\n",
       "      <td>NaN</td>\n",
       "      <td>NaN</td>\n",
       "      <td>45.7000</td>\n",
       "      <td>NaN</td>\n",
       "      <td>NaN</td>\n",
       "    </tr>\n",
       "    <tr>\n",
       "      <th>13</th>\n",
       "      <td>The Manhattan Transcripts Project, New York, N...</td>\n",
       "      <td>Bernard Tschumi</td>\n",
       "      <td>7056</td>\n",
       "      <td>(French and Swiss, born Switzerland 1944)</td>\n",
       "      <td>()</td>\n",
       "      <td>(1944)</td>\n",
       "      <td>(0)</td>\n",
       "      <td>(Male)</td>\n",
       "      <td>1976-77</td>\n",
       "      <td>Gelatin silver photograph</td>\n",
       "      <td>...</td>\n",
       "      <td>http://www.moma.org/media/W1siZiIsIjE1NiJdLFsi...</td>\n",
       "      <td>NaN</td>\n",
       "      <td>NaN</td>\n",
       "      <td>NaN</td>\n",
       "      <td>35.6000</td>\n",
       "      <td>NaN</td>\n",
       "      <td>NaN</td>\n",
       "      <td>45.7000</td>\n",
       "      <td>NaN</td>\n",
       "      <td>NaN</td>\n",
       "    </tr>\n",
       "    <tr>\n",
       "      <th>14</th>\n",
       "      <td>The Manhattan Transcripts Project, New York, N...</td>\n",
       "      <td>Bernard Tschumi</td>\n",
       "      <td>7056</td>\n",
       "      <td>(French and Swiss, born Switzerland 1944)</td>\n",
       "      <td>()</td>\n",
       "      <td>(1944)</td>\n",
       "      <td>(0)</td>\n",
       "      <td>(Male)</td>\n",
       "      <td>1976-77</td>\n",
       "      <td>Gelatin silver photograph</td>\n",
       "      <td>...</td>\n",
       "      <td>http://www.moma.org/media/W1siZiIsIjE1NyJdLFsi...</td>\n",
       "      <td>NaN</td>\n",
       "      <td>NaN</td>\n",
       "      <td>NaN</td>\n",
       "      <td>35.6000</td>\n",
       "      <td>NaN</td>\n",
       "      <td>NaN</td>\n",
       "      <td>45.7000</td>\n",
       "      <td>NaN</td>\n",
       "      <td>NaN</td>\n",
       "    </tr>\n",
       "  </tbody>\n",
       "</table>\n",
       "<p>15 rows × 29 columns</p>\n",
       "</div>"
      ],
      "text/plain": [
       "                                                Title  \\\n",
       "0   Ferdinandsbrücke Project, Vienna, Austria (Ele...   \n",
       "1   City of Music, National Superior Conservatory ...   \n",
       "2   Villa near Vienna Project, Outside Vienna, Aus...   \n",
       "3   The Manhattan Transcripts Project, New York, N...   \n",
       "4   Villa, project, outside Vienna, Austria, Exter...   \n",
       "5   The Manhattan Transcripts Project, New York, N...   \n",
       "6   The Manhattan Transcripts Project, New York, N...   \n",
       "7   The Manhattan Transcripts Project, New York, N...   \n",
       "8   The Manhattan Transcripts Project, New York, N...   \n",
       "9   The Manhattan Transcripts Project, New York, N...   \n",
       "10  The Manhattan Transcripts Project, New York, N...   \n",
       "11  The Manhattan Transcripts Project, New York, N...   \n",
       "12  The Manhattan Transcripts Project, New York, N...   \n",
       "13  The Manhattan Transcripts Project, New York, N...   \n",
       "14  The Manhattan Transcripts Project, New York, N...   \n",
       "\n",
       "                      Artist ConstituentID  \\\n",
       "0                Otto Wagner          6210   \n",
       "1   Christian de Portzamparc          7470   \n",
       "2                 Emil Hoppe          7605   \n",
       "3            Bernard Tschumi          7056   \n",
       "4                 Emil Hoppe          7605   \n",
       "5            Bernard Tschumi          7056   \n",
       "6            Bernard Tschumi          7056   \n",
       "7            Bernard Tschumi          7056   \n",
       "8            Bernard Tschumi          7056   \n",
       "9            Bernard Tschumi          7056   \n",
       "10           Bernard Tschumi          7056   \n",
       "11           Bernard Tschumi          7056   \n",
       "12           Bernard Tschumi          7056   \n",
       "13           Bernard Tschumi          7056   \n",
       "14           Bernard Tschumi          7056   \n",
       "\n",
       "                                    ArtistBio Nationality BeginDate EndDate  \\\n",
       "0                       (Austrian, 1841–1918)  (Austrian)    (1841)  (1918)   \n",
       "1                         (French, born 1944)    (French)    (1944)     (0)   \n",
       "2                       (Austrian, 1876–1957)  (Austrian)    (1876)  (1957)   \n",
       "3   (French and Swiss, born Switzerland 1944)          ()    (1944)     (0)   \n",
       "4                       (Austrian, 1876–1957)  (Austrian)    (1876)  (1957)   \n",
       "5   (French and Swiss, born Switzerland 1944)          ()    (1944)     (0)   \n",
       "6   (French and Swiss, born Switzerland 1944)          ()    (1944)     (0)   \n",
       "7   (French and Swiss, born Switzerland 1944)          ()    (1944)     (0)   \n",
       "8   (French and Swiss, born Switzerland 1944)          ()    (1944)     (0)   \n",
       "9   (French and Swiss, born Switzerland 1944)          ()    (1944)     (0)   \n",
       "10  (French and Swiss, born Switzerland 1944)          ()    (1944)     (0)   \n",
       "11  (French and Swiss, born Switzerland 1944)          ()    (1944)     (0)   \n",
       "12  (French and Swiss, born Switzerland 1944)          ()    (1944)     (0)   \n",
       "13  (French and Swiss, born Switzerland 1944)          ()    (1944)     (0)   \n",
       "14  (French and Swiss, born Switzerland 1944)          ()    (1944)     (0)   \n",
       "\n",
       "    Gender     Date                                             Medium  ...  \\\n",
       "0   (Male)     1896      Ink and cut-and-pasted painted pages on paper  ...   \n",
       "1   (Male)     1987                  Paint and colored pencil on print  ...   \n",
       "2   (Male)     1903  Graphite, pen, color pencil, ink, and gouache ...  ...   \n",
       "3   (Male)     1980  Photographic reproduction with colored synthet...  ...   \n",
       "4   (Male)     1903  Graphite, color pencil, ink, and gouache on tr...  ...   \n",
       "5   (Male)  1976-77                          Gelatin silver photograph  ...   \n",
       "6   (Male)  1976-77                         Gelatin silver photographs  ...   \n",
       "7   (Male)  1976-77                          Gelatin silver photograph  ...   \n",
       "8   (Male)  1976-77                          Gelatin silver photograph  ...   \n",
       "9   (Male)  1976-77                          Gelatin silver photograph  ...   \n",
       "10  (Male)  1976-77                          Gelatin silver photograph  ...   \n",
       "11  (Male)  1976-77                          Gelatin silver photograph  ...   \n",
       "12  (Male)  1976-77                          Gelatin silver photograph  ...   \n",
       "13  (Male)  1976-77                          Gelatin silver photograph  ...   \n",
       "14  (Male)  1976-77                          Gelatin silver photograph  ...   \n",
       "\n",
       "                                         ThumbnailURL Circumference (cm)  \\\n",
       "0   http://www.moma.org/media/W1siZiIsIjU5NDA1Il0s...                NaN   \n",
       "1   http://www.moma.org/media/W1siZiIsIjk3Il0sWyJw...                NaN   \n",
       "2   http://www.moma.org/media/W1siZiIsIjk4Il0sWyJw...                NaN   \n",
       "3   http://www.moma.org/media/W1siZiIsIjEyNCJdLFsi...                NaN   \n",
       "4   http://www.moma.org/media/W1siZiIsIjEyNiJdLFsi...                NaN   \n",
       "5   http://www.moma.org/media/W1siZiIsIjE0OCJdLFsi...                NaN   \n",
       "6   http://www.moma.org/media/W1siZiIsIjE0OSJdLFsi...                NaN   \n",
       "7   http://www.moma.org/media/W1siZiIsIjE0OSJdLFsi...                NaN   \n",
       "8   http://www.moma.org/media/W1siZiIsIjE1MCJdLFsi...                NaN   \n",
       "9   http://www.moma.org/media/W1siZiIsIjE1MSJdLFsi...                NaN   \n",
       "10  http://www.moma.org/media/W1siZiIsIjE1MyJdLFsi...                NaN   \n",
       "11  http://www.moma.org/media/W1siZiIsIjE1NCJdLFsi...                NaN   \n",
       "12  http://www.moma.org/media/W1siZiIsIjE1NSJdLFsi...                NaN   \n",
       "13  http://www.moma.org/media/W1siZiIsIjE1NiJdLFsi...                NaN   \n",
       "14  http://www.moma.org/media/W1siZiIsIjE1NyJdLFsi...                NaN   \n",
       "\n",
       "   Depth (cm) Diameter (cm) Height (cm) Length (cm) Weight (kg)  Width (cm)  \\\n",
       "0         NaN           NaN     48.6000         NaN         NaN    168.9000   \n",
       "1         NaN           NaN     40.6401         NaN         NaN     29.8451   \n",
       "2         NaN           NaN     34.3000         NaN         NaN     31.8000   \n",
       "3         NaN           NaN     50.8000         NaN         NaN     50.8000   \n",
       "4         NaN           NaN     38.4000         NaN         NaN     19.1000   \n",
       "5         NaN           NaN     35.6000         NaN         NaN     45.7000   \n",
       "6         NaN           NaN     35.6000         NaN         NaN     45.7000   \n",
       "7         NaN           NaN     35.6000         NaN         NaN     45.7000   \n",
       "8         NaN           NaN     35.6000         NaN         NaN     45.7000   \n",
       "9         NaN           NaN     35.6000         NaN         NaN     45.7000   \n",
       "10        NaN           NaN     35.6000         NaN         NaN     45.7000   \n",
       "11        NaN           NaN     35.6000         NaN         NaN     45.7000   \n",
       "12        NaN           NaN     35.6000         NaN         NaN     45.7000   \n",
       "13        NaN           NaN     35.6000         NaN         NaN     45.7000   \n",
       "14        NaN           NaN     35.6000         NaN         NaN     45.7000   \n",
       "\n",
       "   Seat Height (cm) Duration (sec.)  \n",
       "0               NaN             NaN  \n",
       "1               NaN             NaN  \n",
       "2               NaN             NaN  \n",
       "3               NaN             NaN  \n",
       "4               NaN             NaN  \n",
       "5               NaN             NaN  \n",
       "6               NaN             NaN  \n",
       "7               NaN             NaN  \n",
       "8               NaN             NaN  \n",
       "9               NaN             NaN  \n",
       "10              NaN             NaN  \n",
       "11              NaN             NaN  \n",
       "12              NaN             NaN  \n",
       "13              NaN             NaN  \n",
       "14              NaN             NaN  \n",
       "\n",
       "[15 rows x 29 columns]"
      ]
     },
     "execution_count": 2,
     "metadata": {},
     "output_type": "execute_result"
    }
   ],
   "source": [
    "#Import the file downloaded from github\n",
    "artworksAll = pd.read_csv(\"/Users/linsernora/Pyhton_Course/Python_CourseNorLins/MoMAartworks/Artworks.csv\")\n",
    "artworksAll.head(15)"
   ]
  },
  {
   "cell_type": "markdown",
   "id": "6e8b945f-4197-4463-b48e-16337a4f957b",
   "metadata": {},
   "source": [
    "My first attemt to find out if there are objects listed with more than one artist in the Artist column was no very helpful.\n",
    "I though my just printing a couple of rows I might get an impression of the data. "
   ]
  },
  {
   "cell_type": "code",
   "execution_count": 3,
   "id": "2a406f5b-12df-42f5-a9be-6ae2c8a15564",
   "metadata": {},
   "outputs": [
    {
     "name": "stdout",
     "output_type": "stream",
     "text": [
      "0                  Otto Wagner\n",
      "1     Christian de Portzamparc\n",
      "2                   Emil Hoppe\n",
      "3              Bernard Tschumi\n",
      "4                   Emil Hoppe\n",
      "5              Bernard Tschumi\n",
      "6              Bernard Tschumi\n",
      "7              Bernard Tschumi\n",
      "8              Bernard Tschumi\n",
      "9              Bernard Tschumi\n",
      "10             Bernard Tschumi\n",
      "11             Bernard Tschumi\n",
      "12             Bernard Tschumi\n",
      "13             Bernard Tschumi\n",
      "14             Bernard Tschumi\n",
      "15             Bernard Tschumi\n",
      "16             Bernard Tschumi\n",
      "17             Bernard Tschumi\n",
      "18             Bernard Tschumi\n",
      "19             Bernard Tschumi\n",
      "20             Bernard Tschumi\n",
      "21             Bernard Tschumi\n",
      "22             Bernard Tschumi\n",
      "23             Bernard Tschumi\n",
      "24             Bernard Tschumi\n",
      "25             Bernard Tschumi\n",
      "26             Bernard Tschumi\n",
      "27             Bernard Tschumi\n",
      "28             Bernard Tschumi\n",
      "29             Bernard Tschumi\n",
      "Name: Artist, dtype: object\n"
     ]
    }
   ],
   "source": [
    "#investing the artist column\n",
    "print(artworksAll[\"Artist\"].head(30))"
   ]
  },
  {
   "cell_type": "markdown",
   "id": "21bd1f47-67ff-4b50-a3a3-0787eb96d40d",
   "metadata": {},
   "source": [
    "Getting all the column labels."
   ]
  },
  {
   "cell_type": "code",
   "execution_count": 4,
   "id": "d1ea616a-bd3f-4739-8e8b-a57ced5df7f3",
   "metadata": {},
   "outputs": [
    {
     "data": {
      "text/plain": [
       "['Title',\n",
       " 'Artist',\n",
       " 'ConstituentID',\n",
       " 'ArtistBio',\n",
       " 'Nationality',\n",
       " 'BeginDate',\n",
       " 'EndDate',\n",
       " 'Gender',\n",
       " 'Date',\n",
       " 'Medium',\n",
       " 'Dimensions',\n",
       " 'CreditLine',\n",
       " 'AccessionNumber',\n",
       " 'Classification',\n",
       " 'Department',\n",
       " 'DateAcquired',\n",
       " 'Cataloged',\n",
       " 'ObjectID',\n",
       " 'URL',\n",
       " 'ThumbnailURL',\n",
       " 'Circumference (cm)',\n",
       " 'Depth (cm)',\n",
       " 'Diameter (cm)',\n",
       " 'Height (cm)',\n",
       " 'Length (cm)',\n",
       " 'Weight (kg)',\n",
       " 'Width (cm)',\n",
       " 'Seat Height (cm)',\n",
       " 'Duration (sec.)']"
      ]
     },
     "execution_count": 4,
     "metadata": {},
     "output_type": "execute_result"
    }
   ],
   "source": [
    "#listing all the column headers of the dataset: \n",
    "list(artworksAll.columns.values)"
   ]
  },
  {
   "cell_type": "markdown",
   "id": "7ed56a13-cfc3-4e41-9689-45916c8e6a3e",
   "metadata": {},
   "source": [
    "## Finding multiple artist occurrences"
   ]
  },
  {
   "cell_type": "markdown",
   "id": "cfa0ddab-0e38-482d-9148-cd90c754f90e",
   "metadata": {},
   "source": [
    "I tried to find out if there are rows with more than on artist by using the .isin() method. \n",
    "At first I though that the given result would suggest that there are no commas in the column. \n",
    "To use this approach I would have needed to take further steps with this result and to find out in which columns the result is \"True\". "
   ]
  },
  {
   "cell_type": "code",
   "execution_count": 5,
   "id": "ffc2b814-5dfc-4e63-bed5-2dd5e147b2f4",
   "metadata": {},
   "outputs": [
    {
     "data": {
      "text/plain": [
       "0    False\n",
       "1    False\n",
       "2    False\n",
       "3    False\n",
       "4    False\n",
       "Name: Artist, dtype: bool"
      ]
     },
     "execution_count": 5,
     "metadata": {},
     "output_type": "execute_result"
    }
   ],
   "source": [
    "#checking if there are rows with multiple artists in the Artist column\n",
    "artists = artworksAll[\"Artist\"]\n",
    "multiple = artists.isin([\",\"])\n",
    "multiple.head()\n"
   ]
  },
  {
   "cell_type": "markdown",
   "id": "0f20d6f9-ee93-4cb6-8a45-b6b584be05f6",
   "metadata": {},
   "source": [
    "The next apprach was more useful. Subsetting the rows that contain a \",\" in the \"Artist\" column and assigning it to a new DataFrame *multipleArtists*.\n",
    "The .info() methods shows that there are 8059 entries in the dataset where there is more than one artist mentioned in the \"Artist\" column. "
   ]
  },
  {
   "cell_type": "code",
   "execution_count": 6,
   "id": "16ebbb0e-ef6c-4599-a174-90787b76df6a",
   "metadata": {},
   "outputs": [
    {
     "name": "stdout",
     "output_type": "stream",
     "text": [
      "<class 'pandas.core.frame.DataFrame'>\n",
      "Int64Index: 8059 entries, 65 to 138146\n",
      "Data columns (total 29 columns):\n",
      " #   Column              Non-Null Count  Dtype  \n",
      "---  ------              --------------  -----  \n",
      " 0   Title               8057 non-null   object \n",
      " 1   Artist              8059 non-null   object \n",
      " 2   ConstituentID       8059 non-null   object \n",
      " 3   ArtistBio           7786 non-null   object \n",
      " 4   Nationality         8059 non-null   object \n",
      " 5   BeginDate           8059 non-null   object \n",
      " 6   EndDate             8059 non-null   object \n",
      " 7   Gender              8059 non-null   object \n",
      " 8   Date                7710 non-null   object \n",
      " 9   Medium              7518 non-null   object \n",
      " 10  Dimensions          7500 non-null   object \n",
      " 11  CreditLine          7876 non-null   object \n",
      " 12  AccessionNumber     8059 non-null   object \n",
      " 13  Classification      8059 non-null   object \n",
      " 14  Department          8059 non-null   object \n",
      " 15  DateAcquired        7497 non-null   object \n",
      " 16  Cataloged           8059 non-null   object \n",
      " 17  ObjectID            8059 non-null   int64  \n",
      " 18  URL                 5508 non-null   object \n",
      " 19  ThumbnailURL        4519 non-null   object \n",
      " 20  Circumference (cm)  1 non-null      float64\n",
      " 21  Depth (cm)          2357 non-null   float64\n",
      " 22  Diameter (cm)       271 non-null    float64\n",
      " 23  Height (cm)         6861 non-null   float64\n",
      " 24  Length (cm)         118 non-null    float64\n",
      " 25  Weight (kg)         8 non-null      float64\n",
      " 26  Width (cm)          6661 non-null   float64\n",
      " 27  Seat Height (cm)    0 non-null      float64\n",
      " 28  Duration (sec.)     288 non-null    float64\n",
      "dtypes: float64(9), int64(1), object(19)\n",
      "memory usage: 1.8+ MB\n"
     ]
    }
   ],
   "source": [
    "#Subsetting the rows with more than one artist. \n",
    "multipleArtists = artworksAll[artworksAll[\"Artist\"].str.contains(\",\")==True]\n",
    "multipleArtists.info()"
   ]
  },
  {
   "cell_type": "markdown",
   "id": "ff21a982-05ca-4e41-9b22-834dbf3277d2",
   "metadata": {},
   "source": [
    "Before geoing any further I wanted to check if the dataset is restricted to show one object per row. As the result shows, there are no duplicate \"ObjectID\"'s in the dataset. "
   ]
  },
  {
   "cell_type": "code",
   "execution_count": 7,
   "id": "760a9f0f-1462-4699-b36d-a654954829f4",
   "metadata": {},
   "outputs": [
    {
     "data": {
      "text/html": [
       "<div>\n",
       "<style scoped>\n",
       "    .dataframe tbody tr th:only-of-type {\n",
       "        vertical-align: middle;\n",
       "    }\n",
       "\n",
       "    .dataframe tbody tr th {\n",
       "        vertical-align: top;\n",
       "    }\n",
       "\n",
       "    .dataframe thead th {\n",
       "        text-align: right;\n",
       "    }\n",
       "</style>\n",
       "<table border=\"1\" class=\"dataframe\">\n",
       "  <thead>\n",
       "    <tr style=\"text-align: right;\">\n",
       "      <th></th>\n",
       "      <th>Title</th>\n",
       "      <th>Artist</th>\n",
       "      <th>ConstituentID</th>\n",
       "      <th>ArtistBio</th>\n",
       "      <th>Nationality</th>\n",
       "      <th>BeginDate</th>\n",
       "      <th>EndDate</th>\n",
       "      <th>Gender</th>\n",
       "      <th>Date</th>\n",
       "      <th>Medium</th>\n",
       "      <th>...</th>\n",
       "      <th>ThumbnailURL</th>\n",
       "      <th>Circumference (cm)</th>\n",
       "      <th>Depth (cm)</th>\n",
       "      <th>Diameter (cm)</th>\n",
       "      <th>Height (cm)</th>\n",
       "      <th>Length (cm)</th>\n",
       "      <th>Weight (kg)</th>\n",
       "      <th>Width (cm)</th>\n",
       "      <th>Seat Height (cm)</th>\n",
       "      <th>Duration (sec.)</th>\n",
       "    </tr>\n",
       "  </thead>\n",
       "  <tbody>\n",
       "  </tbody>\n",
       "</table>\n",
       "<p>0 rows × 29 columns</p>\n",
       "</div>"
      ],
      "text/plain": [
       "Empty DataFrame\n",
       "Columns: [Title, Artist, ConstituentID, ArtistBio, Nationality, BeginDate, EndDate, Gender, Date, Medium, Dimensions, CreditLine, AccessionNumber, Classification, Department, DateAcquired, Cataloged, ObjectID, URL, ThumbnailURL, Circumference (cm), Depth (cm), Diameter (cm), Height (cm), Length (cm), Weight (kg), Width (cm), Seat Height (cm), Duration (sec.)]\n",
       "Index: []\n",
       "\n",
       "[0 rows x 29 columns]"
      ]
     },
     "execution_count": 7,
     "metadata": {},
     "output_type": "execute_result"
    }
   ],
   "source": [
    "#checking if there are objectsIds mentioned more than once: \n",
    "objectIds = artworksAll[\"ObjectID\"]\n",
    "artworksAll[objectIds.isin(objectIds[objectIds.duplicated()])]\n"
   ]
  },
  {
   "cell_type": "markdown",
   "id": "7b4df2f2-86b1-4ea8-85f0-720803757d06",
   "metadata": {
    "tags": []
   },
   "source": [
    "## Cleaning the data\n",
    "Reducing the columns that are not needed for the task."
   ]
  },
  {
   "cell_type": "code",
   "execution_count": 8,
   "id": "f71a031f-4479-42fe-bfc0-4695a09d7ee0",
   "metadata": {},
   "outputs": [],
   "source": [
    "#reducing the dataframe, only keeping the columns that are needed: \n",
    "multipleArtists = multipleArtists[[\"Title\", \"Artist\", \"ConstituentID\", \"ObjectID\"]]"
   ]
  },
  {
   "cell_type": "code",
   "execution_count": 9,
   "id": "b3903e80-b70d-472a-ade2-a55a34f1bda4",
   "metadata": {},
   "outputs": [
    {
     "data": {
      "text/html": [
       "<div>\n",
       "<style scoped>\n",
       "    .dataframe tbody tr th:only-of-type {\n",
       "        vertical-align: middle;\n",
       "    }\n",
       "\n",
       "    .dataframe tbody tr th {\n",
       "        vertical-align: top;\n",
       "    }\n",
       "\n",
       "    .dataframe thead th {\n",
       "        text-align: right;\n",
       "    }\n",
       "</style>\n",
       "<table border=\"1\" class=\"dataframe\">\n",
       "  <thead>\n",
       "    <tr style=\"text-align: right;\">\n",
       "      <th></th>\n",
       "      <th>Title</th>\n",
       "      <th>Artist</th>\n",
       "      <th>ConstituentID</th>\n",
       "      <th>ObjectID</th>\n",
       "    </tr>\n",
       "  </thead>\n",
       "  <tbody>\n",
       "    <tr>\n",
       "      <th>65</th>\n",
       "      <td>House IV Project, Falls Village, Connecticut (...</td>\n",
       "      <td>Peter Eisenman, Robert Cole</td>\n",
       "      <td>6969, 8134</td>\n",
       "      <td>81</td>\n",
       "    </tr>\n",
       "    <tr>\n",
       "      <th>66</th>\n",
       "      <td>Villa dall'Ava, Paris (Saint-Cloud), France, E...</td>\n",
       "      <td>Rem Koolhaas, Madelon Vriesendorp</td>\n",
       "      <td>6956, 6957</td>\n",
       "      <td>82</td>\n",
       "    </tr>\n",
       "    <tr>\n",
       "      <th>76</th>\n",
       "      <td>Regional Administrative Center, project \"Tries...</td>\n",
       "      <td>Aldo Rossi, Gianni Braghieri, M. Bosshard</td>\n",
       "      <td>7661, 8131, 8180</td>\n",
       "      <td>100</td>\n",
       "    </tr>\n",
       "    <tr>\n",
       "      <th>107</th>\n",
       "      <td>Woodland Crematorium, Woodland Cemetery, Stock...</td>\n",
       "      <td>Erik Gunnar Asplund, Sigurd Lewerentz</td>\n",
       "      <td>27, 24452</td>\n",
       "      <td>148</td>\n",
       "    </tr>\n",
       "    <tr>\n",
       "      <th>110</th>\n",
       "      <td>Palais de la Découverte Project, Paris, France...</td>\n",
       "      <td>Paul Nelson, Frantz Jourdain, Oscar Nitzchke</td>\n",
       "      <td>8102, 6703, 4312</td>\n",
       "      <td>151</td>\n",
       "    </tr>\n",
       "  </tbody>\n",
       "</table>\n",
       "</div>"
      ],
      "text/plain": [
       "                                                 Title  \\\n",
       "65   House IV Project, Falls Village, Connecticut (...   \n",
       "66   Villa dall'Ava, Paris (Saint-Cloud), France, E...   \n",
       "76   Regional Administrative Center, project \"Tries...   \n",
       "107  Woodland Crematorium, Woodland Cemetery, Stock...   \n",
       "110  Palais de la Découverte Project, Paris, France...   \n",
       "\n",
       "                                           Artist     ConstituentID  ObjectID  \n",
       "65                    Peter Eisenman, Robert Cole        6969, 8134        81  \n",
       "66              Rem Koolhaas, Madelon Vriesendorp        6956, 6957        82  \n",
       "76      Aldo Rossi, Gianni Braghieri, M. Bosshard  7661, 8131, 8180       100  \n",
       "107         Erik Gunnar Asplund, Sigurd Lewerentz         27, 24452       148  \n",
       "110  Paul Nelson, Frantz Jourdain, Oscar Nitzchke  8102, 6703, 4312       151  "
      ]
     },
     "execution_count": 9,
     "metadata": {},
     "output_type": "execute_result"
    }
   ],
   "source": [
    "#checking if it worked: \n",
    "multipleArtists.head()"
   ]
  },
  {
   "cell_type": "code",
   "execution_count": 10,
   "id": "7d19582d-cb5c-4836-aac8-7ba66bb6b614",
   "metadata": {},
   "outputs": [
    {
     "name": "stdout",
     "output_type": "stream",
     "text": [
      "<class 'pandas.core.frame.DataFrame'>\n",
      "Int64Index: 8059 entries, 65 to 138146\n",
      "Data columns (total 4 columns):\n",
      " #   Column         Non-Null Count  Dtype \n",
      "---  ------         --------------  ----- \n",
      " 0   Title          8057 non-null   object\n",
      " 1   Artist         8059 non-null   object\n",
      " 2   ConstituentID  8059 non-null   object\n",
      " 3   ObjectID       8059 non-null   int64 \n",
      "dtypes: int64(1), object(3)\n",
      "memory usage: 314.8+ KB\n"
     ]
    }
   ],
   "source": [
    "multipleArtists.info()"
   ]
  },
  {
   "cell_type": "markdown",
   "id": "2b46f410-4bb3-410f-a628-d227f181f2f7",
   "metadata": {},
   "source": [
    "### Splitting up the values\n",
    "Next step is to split up the values from the columns \"Artist\", \"Constitutent ID\" and \"Title\" into separate rows. \n",
    "So that each artist occurrence is mentioned in its own row. The data in the columns \"Title\" and \"ObjektID\" needs to be copied to the new observations. \n",
    "\n",
    "With a little help of *stackoverflow* I created the following approach of stacking and unstacking that provides me with the desired output. I created a new dataframe with the result called *singleArtist*."
   ]
  },
  {
   "cell_type": "code",
   "execution_count": 11,
   "id": "7ae7cec2-ad83-4816-ae79-f192dfccaef5",
   "metadata": {},
   "outputs": [],
   "source": [
    "#Stacking and unstacking the data to move every artist-occurrence from the \"Artist\" column into separate lines. \n",
    "#Without loosing the data that needs to be copied. \n",
    "singleArtist = (multipleArtists.set_index(['Title', 'ObjectID'])\n",
    "   .stack()\n",
    "   .str.split(',', expand=True)\n",
    "   .stack()\n",
    "   .unstack(-2)\n",
    "   .reset_index(-1, drop=True)\n",
    "   .reset_index()\n",
    ")"
   ]
  },
  {
   "cell_type": "code",
   "execution_count": 12,
   "id": "301b129e-bc96-488c-96e1-5da7ec0cf187",
   "metadata": {},
   "outputs": [
    {
     "data": {
      "text/html": [
       "<div>\n",
       "<style scoped>\n",
       "    .dataframe tbody tr th:only-of-type {\n",
       "        vertical-align: middle;\n",
       "    }\n",
       "\n",
       "    .dataframe tbody tr th {\n",
       "        vertical-align: top;\n",
       "    }\n",
       "\n",
       "    .dataframe thead th {\n",
       "        text-align: right;\n",
       "    }\n",
       "</style>\n",
       "<table border=\"1\" class=\"dataframe\">\n",
       "  <thead>\n",
       "    <tr style=\"text-align: right;\">\n",
       "      <th></th>\n",
       "      <th>Title</th>\n",
       "      <th>ObjectID</th>\n",
       "      <th>Artist</th>\n",
       "      <th>ConstituentID</th>\n",
       "    </tr>\n",
       "  </thead>\n",
       "  <tbody>\n",
       "    <tr>\n",
       "      <th>0</th>\n",
       "      <td>NaN</td>\n",
       "      <td>136435</td>\n",
       "      <td>Brian Buczak</td>\n",
       "      <td>37999</td>\n",
       "    </tr>\n",
       "    <tr>\n",
       "      <th>1</th>\n",
       "      <td>NaN</td>\n",
       "      <td>136435</td>\n",
       "      <td>Geoffrey Hendricks</td>\n",
       "      <td>2591</td>\n",
       "    </tr>\n",
       "    <tr>\n",
       "      <th>2</th>\n",
       "      <td>NaN</td>\n",
       "      <td>136971</td>\n",
       "      <td>George Maciunas</td>\n",
       "      <td>21398</td>\n",
       "    </tr>\n",
       "    <tr>\n",
       "      <th>3</th>\n",
       "      <td>NaN</td>\n",
       "      <td>136971</td>\n",
       "      <td>Giuseppe Chiari</td>\n",
       "      <td>36943</td>\n",
       "    </tr>\n",
       "    <tr>\n",
       "      <th>4</th>\n",
       "      <td>!</td>\n",
       "      <td>139486</td>\n",
       "      <td>Hi Red Center</td>\n",
       "      <td>36946</td>\n",
       "    </tr>\n",
       "    <tr>\n",
       "      <th>...</th>\n",
       "      <td>...</td>\n",
       "      <td>...</td>\n",
       "      <td>...</td>\n",
       "      <td>...</td>\n",
       "    </tr>\n",
       "    <tr>\n",
       "      <th>24895</th>\n",
       "      <td>Über Sieben Brücken Mußt Du Gehen,</td>\n",
       "      <td>195085</td>\n",
       "      <td>Thomas Wachweger</td>\n",
       "      <td>48388</td>\n",
       "    </tr>\n",
       "    <tr>\n",
       "      <th>24896</th>\n",
       "      <td>Šerefudin White Mosque, Visoko, Bosnia and Her...</td>\n",
       "      <td>273898</td>\n",
       "      <td>Valentin Jeck</td>\n",
       "      <td>69800</td>\n",
       "    </tr>\n",
       "    <tr>\n",
       "      <th>24897</th>\n",
       "      <td>Šerefudin White Mosque, Visoko, Bosnia and Her...</td>\n",
       "      <td>273898</td>\n",
       "      <td>Zlatko Ugljen</td>\n",
       "      <td>50030</td>\n",
       "    </tr>\n",
       "    <tr>\n",
       "      <th>24898</th>\n",
       "      <td>“Off-Air” Australia</td>\n",
       "      <td>292298</td>\n",
       "      <td>Ant Farm</td>\n",
       "      <td>32176</td>\n",
       "    </tr>\n",
       "    <tr>\n",
       "      <th>24899</th>\n",
       "      <td>“Off-Air” Australia</td>\n",
       "      <td>292298</td>\n",
       "      <td>Chip Lord</td>\n",
       "      <td>32750</td>\n",
       "    </tr>\n",
       "  </tbody>\n",
       "</table>\n",
       "<p>24900 rows × 4 columns</p>\n",
       "</div>"
      ],
      "text/plain": [
       "                                                   Title  ObjectID  \\\n",
       "0                                                    NaN    136435   \n",
       "1                                                    NaN    136435   \n",
       "2                                                    NaN    136971   \n",
       "3                                                    NaN    136971   \n",
       "4                                                      !    139486   \n",
       "...                                                  ...       ...   \n",
       "24895                 Über Sieben Brücken Mußt Du Gehen,    195085   \n",
       "24896  Šerefudin White Mosque, Visoko, Bosnia and Her...    273898   \n",
       "24897  Šerefudin White Mosque, Visoko, Bosnia and Her...    273898   \n",
       "24898                                “Off-Air” Australia    292298   \n",
       "24899                                “Off-Air” Australia    292298   \n",
       "\n",
       "                    Artist ConstituentID  \n",
       "0             Brian Buczak         37999  \n",
       "1       Geoffrey Hendricks          2591  \n",
       "2          George Maciunas         21398  \n",
       "3          Giuseppe Chiari         36943  \n",
       "4            Hi Red Center         36946  \n",
       "...                    ...           ...  \n",
       "24895     Thomas Wachweger         48388  \n",
       "24896        Valentin Jeck         69800  \n",
       "24897        Zlatko Ugljen         50030  \n",
       "24898             Ant Farm         32176  \n",
       "24899            Chip Lord         32750  \n",
       "\n",
       "[24900 rows x 4 columns]"
      ]
     },
     "execution_count": 12,
     "metadata": {},
     "output_type": "execute_result"
    }
   ],
   "source": [
    "#calling singleArtist to see if it worked: \n",
    "singleArtist"
   ]
  },
  {
   "cell_type": "markdown",
   "id": "ee5659f9-7e27-4691-a81e-cf711a5ff8b8",
   "metadata": {},
   "source": [
    "Investing if the first rows do not hold any data in the Title column or if something went wrong there. "
   ]
  },
  {
   "cell_type": "code",
   "execution_count": 13,
   "id": "adef595f-633a-44b5-9996-fdd078a0443f",
   "metadata": {},
   "outputs": [
    {
     "data": {
      "text/html": [
       "<div>\n",
       "<style scoped>\n",
       "    .dataframe tbody tr th:only-of-type {\n",
       "        vertical-align: middle;\n",
       "    }\n",
       "\n",
       "    .dataframe tbody tr th {\n",
       "        vertical-align: top;\n",
       "    }\n",
       "\n",
       "    .dataframe thead th {\n",
       "        text-align: right;\n",
       "    }\n",
       "</style>\n",
       "<table border=\"1\" class=\"dataframe\">\n",
       "  <thead>\n",
       "    <tr style=\"text-align: right;\">\n",
       "      <th></th>\n",
       "      <th>Title</th>\n",
       "      <th>Artist</th>\n",
       "      <th>ConstituentID</th>\n",
       "      <th>ObjectID</th>\n",
       "    </tr>\n",
       "  </thead>\n",
       "  <tbody>\n",
       "    <tr>\n",
       "      <th>101013</th>\n",
       "      <td>NaN</td>\n",
       "      <td>Brian Buczak, Geoffrey Hendricks</td>\n",
       "      <td>37999, 2591</td>\n",
       "      <td>136435</td>\n",
       "    </tr>\n",
       "  </tbody>\n",
       "</table>\n",
       "</div>"
      ],
      "text/plain": [
       "       Title                            Artist ConstituentID  ObjectID\n",
       "101013   NaN  Brian Buczak, Geoffrey Hendricks   37999, 2591    136435"
      ]
     },
     "execution_count": 13,
     "metadata": {},
     "output_type": "execute_result"
    }
   ],
   "source": [
    "#chechking if the object does not have a title of if I made I mistake: \n",
    "multipleArtists[multipleArtists[\"ObjectID\"] == 136435]"
   ]
  },
  {
   "cell_type": "markdown",
   "id": "79202f2c-9b8d-4f12-a2c1-80ab089c53bd",
   "metadata": {},
   "source": [
    "The artwork does not hold any data as Titel.\n",
    "Making sure the stacking worked and also the constiutent IDs were split up accordingly to the artist names. "
   ]
  },
  {
   "cell_type": "code",
   "execution_count": 14,
   "id": "adede72f-c415-4d47-b144-dc7f4065a88e",
   "metadata": {},
   "outputs": [
    {
     "data": {
      "text/html": [
       "<div>\n",
       "<style scoped>\n",
       "    .dataframe tbody tr th:only-of-type {\n",
       "        vertical-align: middle;\n",
       "    }\n",
       "\n",
       "    .dataframe tbody tr th {\n",
       "        vertical-align: top;\n",
       "    }\n",
       "\n",
       "    .dataframe thead th {\n",
       "        text-align: right;\n",
       "    }\n",
       "</style>\n",
       "<table border=\"1\" class=\"dataframe\">\n",
       "  <thead>\n",
       "    <tr style=\"text-align: right;\">\n",
       "      <th></th>\n",
       "      <th>Title</th>\n",
       "      <th>ObjectID</th>\n",
       "      <th>Artist</th>\n",
       "      <th>ConstituentID</th>\n",
       "    </tr>\n",
       "  </thead>\n",
       "  <tbody>\n",
       "    <tr>\n",
       "      <th>10153</th>\n",
       "      <td>House IV Project, Falls Village, Connecticut (...</td>\n",
       "      <td>81</td>\n",
       "      <td>Peter Eisenman</td>\n",
       "      <td>6969</td>\n",
       "    </tr>\n",
       "    <tr>\n",
       "      <th>10154</th>\n",
       "      <td>House IV Project, Falls Village, Connecticut (...</td>\n",
       "      <td>81</td>\n",
       "      <td>Robert Cole</td>\n",
       "      <td>8134</td>\n",
       "    </tr>\n",
       "  </tbody>\n",
       "</table>\n",
       "</div>"
      ],
      "text/plain": [
       "                                                   Title  ObjectID  \\\n",
       "10153  House IV Project, Falls Village, Connecticut (...        81   \n",
       "10154  House IV Project, Falls Village, Connecticut (...        81   \n",
       "\n",
       "               Artist ConstituentID  \n",
       "10153  Peter Eisenman          6969  \n",
       "10154     Robert Cole          8134  "
      ]
     },
     "execution_count": 14,
     "metadata": {},
     "output_type": "execute_result"
    }
   ],
   "source": [
    "#checking if I split up the Constitutent IDs correctly\n",
    "singleArtist[singleArtist[\"ObjectID\"] == 81]"
   ]
  },
  {
   "cell_type": "code",
   "execution_count": 15,
   "id": "a587f17a-4d02-466f-94e5-f958d6122199",
   "metadata": {},
   "outputs": [
    {
     "data": {
      "text/html": [
       "<div>\n",
       "<style scoped>\n",
       "    .dataframe tbody tr th:only-of-type {\n",
       "        vertical-align: middle;\n",
       "    }\n",
       "\n",
       "    .dataframe tbody tr th {\n",
       "        vertical-align: top;\n",
       "    }\n",
       "\n",
       "    .dataframe thead th {\n",
       "        text-align: right;\n",
       "    }\n",
       "</style>\n",
       "<table border=\"1\" class=\"dataframe\">\n",
       "  <thead>\n",
       "    <tr style=\"text-align: right;\">\n",
       "      <th></th>\n",
       "      <th>Title</th>\n",
       "      <th>ObjectID</th>\n",
       "      <th>Artist</th>\n",
       "      <th>ConstituentID</th>\n",
       "    </tr>\n",
       "  </thead>\n",
       "  <tbody>\n",
       "    <tr>\n",
       "      <th>10153</th>\n",
       "      <td>House IV Project, Falls Village, Connecticut (...</td>\n",
       "      <td>81</td>\n",
       "      <td>Peter Eisenman</td>\n",
       "      <td>6969</td>\n",
       "    </tr>\n",
       "  </tbody>\n",
       "</table>\n",
       "</div>"
      ],
      "text/plain": [
       "                                                   Title  ObjectID  \\\n",
       "10153  House IV Project, Falls Village, Connecticut (...        81   \n",
       "\n",
       "               Artist ConstituentID  \n",
       "10153  Peter Eisenman          6969  "
      ]
     },
     "execution_count": 15,
     "metadata": {},
     "output_type": "execute_result"
    }
   ],
   "source": [
    "singleArtist[singleArtist[\"Artist\"] == \"Peter Eisenman\"]"
   ]
  },
  {
   "cell_type": "markdown",
   "id": "2b80fa0d-dadf-40e8-bdca-b1af8be7b183",
   "metadata": {},
   "source": [
    "The multiple occurrences in the \"Artist\"Column are split up into separate lines, the metadata was copied in to the lines as wanted. "
   ]
  },
  {
   "cell_type": "markdown",
   "id": "d9c27562-4e3c-46c3-899a-cb930ef00b76",
   "metadata": {},
   "source": [
    "Before adding the additional rows for each artist, the dataframe contained 'r: mutipleArtists.count()' 8059 elements. Now, after splitting up the multiple occurrences, the dataframe holds 24900 elements. \n",
    "This might be to big to comfortable work with in my environment, but I will try it out. "
   ]
  },
  {
   "cell_type": "markdown",
   "id": "3e69dcf6-e1ab-4fd5-a97f-bad9c93337a5",
   "metadata": {
    "jp-MarkdownHeadingCollapsed": true,
    "tags": []
   },
   "source": [
    "## Creating a Graph object\n",
    "To investigate the network and to be able to draw graphs"
   ]
  },
  {
   "cell_type": "markdown",
   "id": "64f4254c-8055-42a5-baa6-d3535e4ac8a2",
   "metadata": {},
   "source": [
    "Creating a nodelist with unique values"
   ]
  },
  {
   "cell_type": "code",
   "execution_count": 16,
   "id": "49a8bd6e-780a-411c-87ed-2c0ec0f56133",
   "metadata": {},
   "outputs": [
    {
     "data": {
      "text/plain": [
       "array([136435, 136971, 139486, ..., 195085, 273898, 292298])"
      ]
     },
     "execution_count": 16,
     "metadata": {},
     "output_type": "execute_result"
    }
   ],
   "source": [
    "#creating a unique list of all the possible nodes, I might need that later.\n",
    "objectnodes = singleArtist[\"ObjectID\"].unique()\n",
    "objectnodes"
   ]
  },
  {
   "cell_type": "code",
   "execution_count": 17,
   "id": "43982b76-212c-4316-9709-507fb5d07174",
   "metadata": {},
   "outputs": [
    {
     "name": "stdout",
     "output_type": "stream",
     "text": [
      "Count of objectnodes in the dataframe singleArtist: 8059\n"
     ]
    }
   ],
   "source": [
    "#how many objects are we dealing with in the dataset singleArtist?\n",
    "print(\"Count of objectnodes in the dataframe singleArtist:\", len(objectnodes))"
   ]
  },
  {
   "cell_type": "code",
   "execution_count": 18,
   "id": "bb521189-8cc7-45c7-80ae-b69b9a3b9b78",
   "metadata": {},
   "outputs": [
    {
     "name": "stdout",
     "output_type": "stream",
     "text": [
      "Count of artistnodes in the dataframe singleArtist: 5840\n"
     ]
    }
   ],
   "source": [
    "#creating a unique list of nodes for the ArtistID's\n",
    "artistnodes = singleArtist[\"ConstituentID\"].unique()\n",
    "#how many unique artists are in the singleArtist dataframe?\n",
    "print(\"Count of artistnodes in the dataframe singleArtist:\", len(artistnodes))"
   ]
  },
  {
   "cell_type": "markdown",
   "id": "29652e9e-9b49-4f47-a7b9-3c27b5bc68a1",
   "metadata": {},
   "source": [
    "Importing networkx and matplotlib packages for further investigation and vizualisation of the social network. "
   ]
  },
  {
   "cell_type": "code",
   "execution_count": 19,
   "id": "770db9a1-80e0-4157-92f8-9cfa6cce2390",
   "metadata": {},
   "outputs": [],
   "source": [
    "import networkx as nx\n",
    "from networkx import Graph as NXGraph\n",
    "from networkx.drawing.nx_agraph import graphviz_layout\n",
    "import matplotlib.pyplot as plt\n",
    "import matplotlib.colors as mcolors"
   ]
  },
  {
   "cell_type": "markdown",
   "id": "9b423a8d-6e7b-43a0-a866-bf9577b04de9",
   "metadata": {},
   "source": [
    "Creating a undirected graph object and drawing it"
   ]
  },
  {
   "cell_type": "code",
   "execution_count": 20,
   "id": "e4df3ac1-0edd-4624-8d3d-b4b206b08169",
   "metadata": {},
   "outputs": [],
   "source": [
    "#creating an empty graph\n",
    "G = nx.Graph()"
   ]
  },
  {
   "cell_type": "code",
   "execution_count": 21,
   "id": "5cc87ea8-45df-413d-847d-d3b7ab503c58",
   "metadata": {},
   "outputs": [],
   "source": [
    "#creating an edgelist containging only the ObjectIDs and the ConstitutentIDs. might be useful later.\n",
    "edgelist = multipleArtists[[\"ObjectID\", \"ConstituentID\"]]"
   ]
  },
  {
   "cell_type": "code",
   "execution_count": 22,
   "id": "48b3673a-aeb7-4094-ae34-ca419abdd090",
   "metadata": {},
   "outputs": [],
   "source": [
    "#adding the edges: \n",
    "G= nx.from_pandas_edgelist(edgelist, source=\"ObjectID\", target=\"ConstituentID\")"
   ]
  },
  {
   "cell_type": "code",
   "execution_count": 23,
   "id": "0ba41470-c099-46fd-b350-95ae52534561",
   "metadata": {},
   "outputs": [],
   "source": [
    "#don't run again if not needed, takes a long time. \n",
    "#nx.draw(G)"
   ]
  },
  {
   "cell_type": "markdown",
   "id": "894f2c09-2382-4f69-9205-dfed10bd2f44",
   "metadata": {},
   "source": [
    "Running this takes up to 10 minutes. To comfortably work with the dataset, I need to reduce the size.  "
   ]
  },
  {
   "cell_type": "markdown",
   "id": "d902773a-34e3-4af9-bc78-a5e3abe466d6",
   "metadata": {
    "jp-MarkdownHeadingCollapsed": true,
    "tags": []
   },
   "source": [
    "# Reducing the size fo the graph object\n",
    "The graph object holding the complete data needs to be reduced, it slows down my computer to much. \n",
    "For this project I will limit the dataset based on the aquisition date of the object. \n",
    "\n",
    "Only the objects that where arquired between the years 1980 and 2000 stay in the dataset. To do this I subset the original dataframe with a slice on the \"DateAquired\" column. \n",
    "To do so I set the \"DateAcquired\" column as index and sort the dataframe based on that values. "
   ]
  },
  {
   "cell_type": "code",
   "execution_count": 24,
   "id": "21c2b7d4-69b5-4d8d-937e-3b0b8be8ba5a",
   "metadata": {},
   "outputs": [
    {
     "data": {
      "text/html": [
       "<div>\n",
       "<style scoped>\n",
       "    .dataframe tbody tr th:only-of-type {\n",
       "        vertical-align: middle;\n",
       "    }\n",
       "\n",
       "    .dataframe tbody tr th {\n",
       "        vertical-align: top;\n",
       "    }\n",
       "\n",
       "    .dataframe thead th {\n",
       "        text-align: right;\n",
       "    }\n",
       "</style>\n",
       "<table border=\"1\" class=\"dataframe\">\n",
       "  <thead>\n",
       "    <tr style=\"text-align: right;\">\n",
       "      <th></th>\n",
       "      <th>Title</th>\n",
       "      <th>Artist</th>\n",
       "      <th>ConstituentID</th>\n",
       "      <th>ArtistBio</th>\n",
       "      <th>Nationality</th>\n",
       "      <th>BeginDate</th>\n",
       "      <th>EndDate</th>\n",
       "      <th>Gender</th>\n",
       "      <th>Date</th>\n",
       "      <th>Medium</th>\n",
       "      <th>...</th>\n",
       "      <th>ThumbnailURL</th>\n",
       "      <th>Circumference (cm)</th>\n",
       "      <th>Depth (cm)</th>\n",
       "      <th>Diameter (cm)</th>\n",
       "      <th>Height (cm)</th>\n",
       "      <th>Length (cm)</th>\n",
       "      <th>Weight (kg)</th>\n",
       "      <th>Width (cm)</th>\n",
       "      <th>Seat Height (cm)</th>\n",
       "      <th>Duration (sec.)</th>\n",
       "    </tr>\n",
       "    <tr>\n",
       "      <th>DateAcquired</th>\n",
       "      <th></th>\n",
       "      <th></th>\n",
       "      <th></th>\n",
       "      <th></th>\n",
       "      <th></th>\n",
       "      <th></th>\n",
       "      <th></th>\n",
       "      <th></th>\n",
       "      <th></th>\n",
       "      <th></th>\n",
       "      <th></th>\n",
       "      <th></th>\n",
       "      <th></th>\n",
       "      <th></th>\n",
       "      <th></th>\n",
       "      <th></th>\n",
       "      <th></th>\n",
       "      <th></th>\n",
       "      <th></th>\n",
       "      <th></th>\n",
       "      <th></th>\n",
       "    </tr>\n",
       "  </thead>\n",
       "  <tbody>\n",
       "    <tr>\n",
       "      <th>1929-11-19</th>\n",
       "      <td>Max Reinhardt (Head) (Kopf)</td>\n",
       "      <td>Oskar Kokoschka</td>\n",
       "      <td>3197</td>\n",
       "      <td>(Austrian, 1886–1980)</td>\n",
       "      <td>(Austrian)</td>\n",
       "      <td>(1886)</td>\n",
       "      <td>(1980)</td>\n",
       "      <td>(Male)</td>\n",
       "      <td>1919</td>\n",
       "      <td>Lithograph</td>\n",
       "      <td>...</td>\n",
       "      <td>http://www.moma.org/media/W1siZiIsIjExOTMxOCJd...</td>\n",
       "      <td>NaN</td>\n",
       "      <td>NaN</td>\n",
       "      <td>NaN</td>\n",
       "      <td>38.6000</td>\n",
       "      <td>NaN</td>\n",
       "      <td>NaN</td>\n",
       "      <td>30.3</td>\n",
       "      <td>NaN</td>\n",
       "      <td>NaN</td>\n",
       "    </tr>\n",
       "    <tr>\n",
       "      <th>1929-11-19</th>\n",
       "      <td>Dialogue (Zwiesprache)</td>\n",
       "      <td>Max Pechstein</td>\n",
       "      <td>4533</td>\n",
       "      <td>(German, 1881–1955)</td>\n",
       "      <td>(German)</td>\n",
       "      <td>(1881)</td>\n",
       "      <td>(1955)</td>\n",
       "      <td>(Male)</td>\n",
       "      <td>1920</td>\n",
       "      <td>Woodcut</td>\n",
       "      <td>...</td>\n",
       "      <td>http://www.moma.org/media/W1siZiIsIjExNDgzMCJd...</td>\n",
       "      <td>NaN</td>\n",
       "      <td>NaN</td>\n",
       "      <td>NaN</td>\n",
       "      <td>40.2000</td>\n",
       "      <td>NaN</td>\n",
       "      <td>NaN</td>\n",
       "      <td>31.9</td>\n",
       "      <td>NaN</td>\n",
       "      <td>NaN</td>\n",
       "    </tr>\n",
       "    <tr>\n",
       "      <th>1929-11-19</th>\n",
       "      <td>The Blessing of Heaven Is Visibly upon Me (Got...</td>\n",
       "      <td>George Grosz</td>\n",
       "      <td>2374</td>\n",
       "      <td>(American, born Germany. 1893–1959)</td>\n",
       "      <td>(American)</td>\n",
       "      <td>(1893)</td>\n",
       "      <td>(1959)</td>\n",
       "      <td>(Male)</td>\n",
       "      <td>1922</td>\n",
       "      <td>Offset lithograph</td>\n",
       "      <td>...</td>\n",
       "      <td>http://www.moma.org/media/W1siZiIsIjEzNDg3MyJd...</td>\n",
       "      <td>NaN</td>\n",
       "      <td>NaN</td>\n",
       "      <td>NaN</td>\n",
       "      <td>45.3000</td>\n",
       "      <td>NaN</td>\n",
       "      <td>NaN</td>\n",
       "      <td>36.7</td>\n",
       "      <td>NaN</td>\n",
       "      <td>NaN</td>\n",
       "    </tr>\n",
       "    <tr>\n",
       "      <th>1929-11-19</th>\n",
       "      <td>Woman, Standing in the Garden (Frau, im Garten...</td>\n",
       "      <td>Oskar Kokoschka</td>\n",
       "      <td>3197</td>\n",
       "      <td>(Austrian, 1886–1980)</td>\n",
       "      <td>(Austrian)</td>\n",
       "      <td>(1886)</td>\n",
       "      <td>(1980)</td>\n",
       "      <td>(Male)</td>\n",
       "      <td>1916</td>\n",
       "      <td>Lithograph</td>\n",
       "      <td>...</td>\n",
       "      <td>http://www.moma.org/media/W1siZiIsIjEyMjU0OCJd...</td>\n",
       "      <td>NaN</td>\n",
       "      <td>NaN</td>\n",
       "      <td>NaN</td>\n",
       "      <td>24.9000</td>\n",
       "      <td>NaN</td>\n",
       "      <td>NaN</td>\n",
       "      <td>14.5</td>\n",
       "      <td>NaN</td>\n",
       "      <td>NaN</td>\n",
       "    </tr>\n",
       "    <tr>\n",
       "      <th>1929-11-19</th>\n",
       "      <td>The Lords of the World (Die Herren der Welt)</td>\n",
       "      <td>Georg Scholz</td>\n",
       "      <td>5260</td>\n",
       "      <td>(German, 1890–1945)</td>\n",
       "      <td>(German)</td>\n",
       "      <td>(1890)</td>\n",
       "      <td>(1945)</td>\n",
       "      <td>(Male)</td>\n",
       "      <td>1922</td>\n",
       "      <td>Lithograph</td>\n",
       "      <td>...</td>\n",
       "      <td>http://www.moma.org/media/W1siZiIsIjEyMjcyMCJd...</td>\n",
       "      <td>NaN</td>\n",
       "      <td>NaN</td>\n",
       "      <td>NaN</td>\n",
       "      <td>29.8451</td>\n",
       "      <td>NaN</td>\n",
       "      <td>NaN</td>\n",
       "      <td>40.0</td>\n",
       "      <td>NaN</td>\n",
       "      <td>NaN</td>\n",
       "    </tr>\n",
       "  </tbody>\n",
       "</table>\n",
       "<p>5 rows × 28 columns</p>\n",
       "</div>"
      ],
      "text/plain": [
       "                                                          Title  \\\n",
       "DateAcquired                                                      \n",
       "1929-11-19                          Max Reinhardt (Head) (Kopf)   \n",
       "1929-11-19                               Dialogue (Zwiesprache)   \n",
       "1929-11-19    The Blessing of Heaven Is Visibly upon Me (Got...   \n",
       "1929-11-19    Woman, Standing in the Garden (Frau, im Garten...   \n",
       "1929-11-19         The Lords of the World (Die Herren der Welt)   \n",
       "\n",
       "                       Artist ConstituentID  \\\n",
       "DateAcquired                                  \n",
       "1929-11-19    Oskar Kokoschka          3197   \n",
       "1929-11-19      Max Pechstein          4533   \n",
       "1929-11-19       George Grosz          2374   \n",
       "1929-11-19    Oskar Kokoschka          3197   \n",
       "1929-11-19       Georg Scholz          5260   \n",
       "\n",
       "                                        ArtistBio Nationality BeginDate  \\\n",
       "DateAcquired                                                              \n",
       "1929-11-19                  (Austrian, 1886–1980)  (Austrian)    (1886)   \n",
       "1929-11-19                    (German, 1881–1955)    (German)    (1881)   \n",
       "1929-11-19    (American, born Germany. 1893–1959)  (American)    (1893)   \n",
       "1929-11-19                  (Austrian, 1886–1980)  (Austrian)    (1886)   \n",
       "1929-11-19                    (German, 1890–1945)    (German)    (1890)   \n",
       "\n",
       "             EndDate  Gender  Date             Medium  ...  \\\n",
       "DateAcquired                                           ...   \n",
       "1929-11-19    (1980)  (Male)  1919         Lithograph  ...   \n",
       "1929-11-19    (1955)  (Male)  1920            Woodcut  ...   \n",
       "1929-11-19    (1959)  (Male)  1922  Offset lithograph  ...   \n",
       "1929-11-19    (1980)  (Male)  1916         Lithograph  ...   \n",
       "1929-11-19    (1945)  (Male)  1922         Lithograph  ...   \n",
       "\n",
       "                                                   ThumbnailURL  \\\n",
       "DateAcquired                                                      \n",
       "1929-11-19    http://www.moma.org/media/W1siZiIsIjExOTMxOCJd...   \n",
       "1929-11-19    http://www.moma.org/media/W1siZiIsIjExNDgzMCJd...   \n",
       "1929-11-19    http://www.moma.org/media/W1siZiIsIjEzNDg3MyJd...   \n",
       "1929-11-19    http://www.moma.org/media/W1siZiIsIjEyMjU0OCJd...   \n",
       "1929-11-19    http://www.moma.org/media/W1siZiIsIjEyMjcyMCJd...   \n",
       "\n",
       "             Circumference (cm) Depth (cm) Diameter (cm) Height (cm)  \\\n",
       "DateAcquired                                                           \n",
       "1929-11-19                  NaN        NaN           NaN     38.6000   \n",
       "1929-11-19                  NaN        NaN           NaN     40.2000   \n",
       "1929-11-19                  NaN        NaN           NaN     45.3000   \n",
       "1929-11-19                  NaN        NaN           NaN     24.9000   \n",
       "1929-11-19                  NaN        NaN           NaN     29.8451   \n",
       "\n",
       "             Length (cm)  Weight (kg) Width (cm) Seat Height (cm)  \\\n",
       "DateAcquired                                                        \n",
       "1929-11-19           NaN          NaN       30.3              NaN   \n",
       "1929-11-19           NaN          NaN       31.9              NaN   \n",
       "1929-11-19           NaN          NaN       36.7              NaN   \n",
       "1929-11-19           NaN          NaN       14.5              NaN   \n",
       "1929-11-19           NaN          NaN       40.0              NaN   \n",
       "\n",
       "              Duration (sec.)  \n",
       "DateAcquired                   \n",
       "1929-11-19                NaN  \n",
       "1929-11-19                NaN  \n",
       "1929-11-19                NaN  \n",
       "1929-11-19                NaN  \n",
       "1929-11-19                NaN  \n",
       "\n",
       "[5 rows x 28 columns]"
      ]
     },
     "execution_count": 24,
     "metadata": {},
     "output_type": "execute_result"
    }
   ],
   "source": [
    "#Setting the DateAcquired Colum as index and sorting it in ascending order. \n",
    "artworks_ind = artworksAll.set_index(\"DateAcquired\").sort_index()\n",
    "artworks_ind.head()"
   ]
  },
  {
   "cell_type": "markdown",
   "id": "7bebf88f-4a82-48b6-9e03-166f13804d02",
   "metadata": {},
   "source": [
    "Next I slice the df brased on the timeframe between 1980 and 2000."
   ]
  },
  {
   "cell_type": "code",
   "execution_count": 25,
   "id": "f2926570-4ebf-45aa-b4a4-566d0067c880",
   "metadata": {},
   "outputs": [
    {
     "name": "stdout",
     "output_type": "stream",
     "text": [
      "<class 'pandas.core.frame.DataFrame'>\n",
      "Index: 21682 entries, 1980-01-01 to 2000-01-01\n",
      "Data columns (total 28 columns):\n",
      " #   Column              Non-Null Count  Dtype  \n",
      "---  ------              --------------  -----  \n",
      " 0   Title               21682 non-null  object \n",
      " 1   Artist              21679 non-null  object \n",
      " 2   ConstituentID       21679 non-null  object \n",
      " 3   ArtistBio           21245 non-null  object \n",
      " 4   Nationality         21679 non-null  object \n",
      " 5   BeginDate           21679 non-null  object \n",
      " 6   EndDate             21679 non-null  object \n",
      " 7   Gender              21679 non-null  object \n",
      " 8   Date                21680 non-null  object \n",
      " 9   Medium              20643 non-null  object \n",
      " 10  Dimensions          20491 non-null  object \n",
      " 11  CreditLine          21028 non-null  object \n",
      " 12  AccessionNumber     21682 non-null  object \n",
      " 13  Classification      21682 non-null  object \n",
      " 14  Department          21682 non-null  object \n",
      " 15  Cataloged           21682 non-null  object \n",
      " 16  ObjectID            21682 non-null  int64  \n",
      " 17  URL                 14664 non-null  object \n",
      " 18  ThumbnailURL        12477 non-null  object \n",
      " 19  Circumference (cm)  0 non-null      float64\n",
      " 20  Depth (cm)          1124 non-null   float64\n",
      " 21  Diameter (cm)       247 non-null    float64\n",
      " 22  Height (cm)         19612 non-null  float64\n",
      " 23  Length (cm)         75 non-null     float64\n",
      " 24  Weight (kg)         23 non-null     float64\n",
      " 25  Width (cm)          19453 non-null  float64\n",
      " 26  Seat Height (cm)    0 non-null      float64\n",
      " 27  Duration (sec.)     681 non-null    float64\n",
      "dtypes: float64(9), int64(1), object(18)\n",
      "memory usage: 4.8+ MB\n"
     ]
    }
   ],
   "source": [
    "#Slicing the DataFrame so we only keep objects with an aquisition date (\"DataAquired\") between 1980 and 2000: \n",
    "artworks_sliced1 = artworks_ind.loc[\"1980-01-01\":\"2000-01-01\"]\n",
    "#getting the info on the new dataset\n",
    "artworks_sliced1.info()"
   ]
  },
  {
   "cell_type": "code",
   "execution_count": 26,
   "id": "ef57429f-3743-40b0-b818-876053ebab8e",
   "metadata": {},
   "outputs": [
    {
     "name": "stdout",
     "output_type": "stream",
     "text": [
      "The new dataframe contains 21682 elements.\n"
     ]
    }
   ],
   "source": [
    "print(\"The new dataframe contains\", len(artworks_sliced1), \"elements.\")"
   ]
  },
  {
   "cell_type": "markdown",
   "id": "fddce2cd-55b1-441e-af54-98c60f8118ae",
   "metadata": {},
   "source": [
    "This slice holds 21682 elements and is still to big. I shorten the timeframe again to only work with objects that were aquired between the years 1980 and 1990."
   ]
  },
  {
   "cell_type": "code",
   "execution_count": 27,
   "id": "52a5d9eb-de8c-489d-9cdc-774c6db86717",
   "metadata": {},
   "outputs": [
    {
     "name": "stdout",
     "output_type": "stream",
     "text": [
      "<class 'pandas.core.frame.DataFrame'>\n",
      "Index: 10187 entries, 1980-01-01 to 1990-01-01\n",
      "Data columns (total 28 columns):\n",
      " #   Column              Non-Null Count  Dtype  \n",
      "---  ------              --------------  -----  \n",
      " 0   Title               10187 non-null  object \n",
      " 1   Artist              10187 non-null  object \n",
      " 2   ConstituentID       10187 non-null  object \n",
      " 3   ArtistBio           9874 non-null   object \n",
      " 4   Nationality         10187 non-null  object \n",
      " 5   BeginDate           10187 non-null  object \n",
      " 6   EndDate             10187 non-null  object \n",
      " 7   Gender              10187 non-null  object \n",
      " 8   Date                10187 non-null  object \n",
      " 9   Medium              9533 non-null   object \n",
      " 10  Dimensions          9733 non-null   object \n",
      " 11  CreditLine          9683 non-null   object \n",
      " 12  AccessionNumber     10187 non-null  object \n",
      " 13  Classification      10187 non-null  object \n",
      " 14  Department          10187 non-null  object \n",
      " 15  Cataloged           10187 non-null  object \n",
      " 16  ObjectID            10187 non-null  int64  \n",
      " 17  URL                 6391 non-null   object \n",
      " 18  ThumbnailURL        5302 non-null   object \n",
      " 19  Circumference (cm)  0 non-null      float64\n",
      " 20  Depth (cm)          457 non-null    float64\n",
      " 21  Diameter (cm)       154 non-null    float64\n",
      " 22  Height (cm)         9397 non-null   float64\n",
      " 23  Length (cm)         39 non-null     float64\n",
      " 24  Weight (kg)         11 non-null     float64\n",
      " 25  Width (cm)          9288 non-null   float64\n",
      " 26  Seat Height (cm)    0 non-null      float64\n",
      " 27  Duration (sec.)     246 non-null    float64\n",
      "dtypes: float64(9), int64(1), object(18)\n",
      "memory usage: 2.3+ MB\n"
     ]
    }
   ],
   "source": [
    "#reducing the slice to the timeframe 1980 until 1990\n",
    "artworks_sliced = artworks_ind.loc[\"1980-01-01\":\"1990-01-01\"]\n",
    "artworks_sliced.info()"
   ]
  },
  {
   "cell_type": "code",
   "execution_count": 28,
   "id": "72e463e2-fb04-4f43-95f1-96e4c1d11421",
   "metadata": {},
   "outputs": [
    {
     "name": "stdout",
     "output_type": "stream",
     "text": [
      "The sliced dataframe contains 10187 elements\n"
     ]
    }
   ],
   "source": [
    "print(\"The sliced dataframe contains\", len(artworks_sliced), \"elements\")"
   ]
  },
  {
   "cell_type": "markdown",
   "id": "f8912368-66d1-4331-a564-72fc05a6445f",
   "metadata": {},
   "source": [
    "With this dataset of 10187 lines I repeat the steps from above.  "
   ]
  },
  {
   "cell_type": "markdown",
   "id": "78b0b522-5f8e-40d6-baa9-1d97d693fa91",
   "metadata": {
    "jp-MarkdownHeadingCollapsed": true,
    "tags": []
   },
   "source": [
    "# Prepping the smaller dataset\n",
    "Repeating the steps from above: Subsetting the rows with multiple artists, removing unnecessary columns, restacking the data so every artist is mentioned in its own row, adding columns with ID an prefix \"artist\" or \"object\" repectiviley. "
   ]
  },
  {
   "cell_type": "code",
   "execution_count": 29,
   "id": "c57b9c60-1eb3-4a17-ba6e-bda296c73276",
   "metadata": {},
   "outputs": [
    {
     "name": "stdout",
     "output_type": "stream",
     "text": [
      "<class 'pandas.core.frame.DataFrame'>\n",
      "Index: 615 entries, 1980-01-01 to 1989-12-22\n",
      "Data columns (total 28 columns):\n",
      " #   Column              Non-Null Count  Dtype  \n",
      "---  ------              --------------  -----  \n",
      " 0   Title               615 non-null    object \n",
      " 1   Artist              615 non-null    object \n",
      " 2   ConstituentID       615 non-null    object \n",
      " 3   ArtistBio           535 non-null    object \n",
      " 4   Nationality         615 non-null    object \n",
      " 5   BeginDate           615 non-null    object \n",
      " 6   EndDate             615 non-null    object \n",
      " 7   Gender              615 non-null    object \n",
      " 8   Date                615 non-null    object \n",
      " 9   Medium              590 non-null    object \n",
      " 10  Dimensions          604 non-null    object \n",
      " 11  CreditLine          479 non-null    object \n",
      " 12  AccessionNumber     615 non-null    object \n",
      " 13  Classification      615 non-null    object \n",
      " 14  Department          615 non-null    object \n",
      " 15  Cataloged           615 non-null    object \n",
      " 16  ObjectID            615 non-null    int64  \n",
      " 17  URL                 284 non-null    object \n",
      " 18  ThumbnailURL        219 non-null    object \n",
      " 19  Circumference (cm)  0 non-null      float64\n",
      " 20  Depth (cm)          50 non-null     float64\n",
      " 21  Diameter (cm)       11 non-null     float64\n",
      " 22  Height (cm)         533 non-null    float64\n",
      " 23  Length (cm)         4 non-null      float64\n",
      " 24  Weight (kg)         0 non-null      float64\n",
      " 25  Width (cm)          528 non-null    float64\n",
      " 26  Seat Height (cm)    0 non-null      float64\n",
      " 27  Duration (sec.)     54 non-null     float64\n",
      "dtypes: float64(9), int64(1), object(18)\n",
      "memory usage: 139.3+ KB\n"
     ]
    }
   ],
   "source": [
    "#Subsetting the rows with more than one artist. \n",
    "multiArtists = artworks_sliced[artworks_sliced[\"Artist\"].str.contains(\",\")==True]\n",
    "multiArtists.info()"
   ]
  },
  {
   "cell_type": "code",
   "execution_count": 30,
   "id": "0b284138-8c53-4338-b1ac-337477e646e1",
   "metadata": {},
   "outputs": [],
   "source": [
    "#only keeping the columns that are needed: \n",
    "multiArtists = multiArtists[[\"Title\", \"Artist\", \"ConstituentID\", \"ObjectID\"]]"
   ]
  },
  {
   "cell_type": "code",
   "execution_count": 31,
   "id": "5f7129c3-aa29-4701-934f-29243bb24524",
   "metadata": {},
   "outputs": [
    {
     "name": "stdout",
     "output_type": "stream",
     "text": [
      "<class 'pandas.core.frame.DataFrame'>\n",
      "RangeIndex: 1559 entries, 0 to 1558\n",
      "Data columns (total 4 columns):\n",
      " #   Column         Non-Null Count  Dtype \n",
      "---  ------         --------------  ----- \n",
      " 0   Title          1559 non-null   object\n",
      " 1   ObjectID       1559 non-null   int64 \n",
      " 2   Artist         1559 non-null   object\n",
      " 3   ConstituentID  1519 non-null   object\n",
      "dtypes: int64(1), object(3)\n",
      "memory usage: 48.8+ KB\n"
     ]
    }
   ],
   "source": [
    "#removing the multiple values and adding them as new rows:\n",
    "single_Artist = (multiArtists.set_index(['Title', 'ObjectID'])\n",
    "   .stack()\n",
    "   .str.split(',', expand=True)\n",
    "   .stack()\n",
    "   .unstack(-2)\n",
    "   .reset_index(-1, drop=True)\n",
    "   .reset_index()\n",
    ")\n",
    "single_Artist.info()"
   ]
  },
  {
   "cell_type": "code",
   "execution_count": 32,
   "id": "f804aaef-2f35-48fc-918a-232a8c149021",
   "metadata": {},
   "outputs": [
    {
     "data": {
      "text/html": [
       "<div>\n",
       "<style scoped>\n",
       "    .dataframe tbody tr th:only-of-type {\n",
       "        vertical-align: middle;\n",
       "    }\n",
       "\n",
       "    .dataframe tbody tr th {\n",
       "        vertical-align: top;\n",
       "    }\n",
       "\n",
       "    .dataframe thead th {\n",
       "        text-align: right;\n",
       "    }\n",
       "</style>\n",
       "<table border=\"1\" class=\"dataframe\">\n",
       "  <thead>\n",
       "    <tr style=\"text-align: right;\">\n",
       "      <th></th>\n",
       "      <th>Title</th>\n",
       "      <th>ObjectID</th>\n",
       "      <th>Artist</th>\n",
       "      <th>ConstituentID</th>\n",
       "    </tr>\n",
       "  </thead>\n",
       "  <tbody>\n",
       "    <tr>\n",
       "      <th>0</th>\n",
       "      <td>\"Kassama\" Corn Flour</td>\n",
       "      <td>5334</td>\n",
       "      <td>Beggarstaffs (James Pryde</td>\n",
       "      <td>437</td>\n",
       "    </tr>\n",
       "    <tr>\n",
       "      <th>1</th>\n",
       "      <td>\"Kassama\" Corn Flour</td>\n",
       "      <td>5334</td>\n",
       "      <td>Scottish 1866-1941 &amp; William Nicholson</td>\n",
       "      <td>NaN</td>\n",
       "    </tr>\n",
       "    <tr>\n",
       "      <th>2</th>\n",
       "      <td>\"Kassama\" Corn Flour</td>\n",
       "      <td>5334</td>\n",
       "      <td>British 1872-1949)</td>\n",
       "      <td>NaN</td>\n",
       "    </tr>\n",
       "    <tr>\n",
       "      <th>3</th>\n",
       "      <td>(Modern Industry)</td>\n",
       "      <td>118266</td>\n",
       "      <td>David Hogan</td>\n",
       "      <td>34833</td>\n",
       "    </tr>\n",
       "    <tr>\n",
       "      <th>4</th>\n",
       "      <td>(Modern Industry)</td>\n",
       "      <td>118266</td>\n",
       "      <td>Fishbone</td>\n",
       "      <td>34792</td>\n",
       "    </tr>\n",
       "  </tbody>\n",
       "</table>\n",
       "</div>"
      ],
      "text/plain": [
       "                  Title  ObjectID                                   Artist  \\\n",
       "0  \"Kassama\" Corn Flour      5334                Beggarstaffs (James Pryde   \n",
       "1  \"Kassama\" Corn Flour      5334   Scottish 1866-1941 & William Nicholson   \n",
       "2  \"Kassama\" Corn Flour      5334                       British 1872-1949)   \n",
       "3     (Modern Industry)    118266                              David Hogan   \n",
       "4     (Modern Industry)    118266                                 Fishbone   \n",
       "\n",
       "  ConstituentID  \n",
       "0           437  \n",
       "1           NaN  \n",
       "2           NaN  \n",
       "3         34833  \n",
       "4         34792  "
      ]
     },
     "execution_count": 32,
     "metadata": {},
     "output_type": "execute_result"
    }
   ],
   "source": [
    "single_Artist.head()"
   ]
  },
  {
   "cell_type": "code",
   "execution_count": 33,
   "id": "b7c0297f-dc2e-428f-99f8-1dfe81515d41",
   "metadata": {},
   "outputs": [
    {
     "name": "stdout",
     "output_type": "stream",
     "text": [
      "Number of elements in the dataframe single_Artist: 1559\n"
     ]
    }
   ],
   "source": [
    "print(\"Number of elements in the dataframe single_Artist:\", len(single_Artist))"
   ]
  },
  {
   "cell_type": "markdown",
   "id": "8bda1fe9-5c9f-4166-986c-2215da7c1add",
   "metadata": {},
   "source": [
    "This leaves us with 1559 entries, a managable size for this social network project. "
   ]
  },
  {
   "cell_type": "markdown",
   "id": "59d29990-a9be-4735-af35-3cc9c9a7c692",
   "metadata": {},
   "source": [
    "## Adding prefixes to the Ids to distinguish them: \n",
    "Before I go any further I am adding new columns to the dataset where I store acombination of the ObjectID and the ConstituentId together with the prefixes \"object\" and \"artist\". The numbers alone would not be distinguishable."
   ]
  },
  {
   "cell_type": "code",
   "execution_count": 34,
   "id": "29e945d4-605b-4002-a4d7-df3939c9211b",
   "metadata": {},
   "outputs": [
    {
     "data": {
      "text/html": [
       "<div>\n",
       "<style scoped>\n",
       "    .dataframe tbody tr th:only-of-type {\n",
       "        vertical-align: middle;\n",
       "    }\n",
       "\n",
       "    .dataframe tbody tr th {\n",
       "        vertical-align: top;\n",
       "    }\n",
       "\n",
       "    .dataframe thead th {\n",
       "        text-align: right;\n",
       "    }\n",
       "</style>\n",
       "<table border=\"1\" class=\"dataframe\">\n",
       "  <thead>\n",
       "    <tr style=\"text-align: right;\">\n",
       "      <th></th>\n",
       "      <th>Title</th>\n",
       "      <th>ObjectID</th>\n",
       "      <th>Artist</th>\n",
       "      <th>ConstituentID</th>\n",
       "      <th>ObjectID_unique</th>\n",
       "    </tr>\n",
       "  </thead>\n",
       "  <tbody>\n",
       "    <tr>\n",
       "      <th>0</th>\n",
       "      <td>\"Kassama\" Corn Flour</td>\n",
       "      <td>5334</td>\n",
       "      <td>Beggarstaffs (James Pryde</td>\n",
       "      <td>437</td>\n",
       "      <td>object5334</td>\n",
       "    </tr>\n",
       "    <tr>\n",
       "      <th>1</th>\n",
       "      <td>\"Kassama\" Corn Flour</td>\n",
       "      <td>5334</td>\n",
       "      <td>Scottish 1866-1941 &amp; William Nicholson</td>\n",
       "      <td>NaN</td>\n",
       "      <td>object5334</td>\n",
       "    </tr>\n",
       "    <tr>\n",
       "      <th>2</th>\n",
       "      <td>\"Kassama\" Corn Flour</td>\n",
       "      <td>5334</td>\n",
       "      <td>British 1872-1949)</td>\n",
       "      <td>NaN</td>\n",
       "      <td>object5334</td>\n",
       "    </tr>\n",
       "    <tr>\n",
       "      <th>3</th>\n",
       "      <td>(Modern Industry)</td>\n",
       "      <td>118266</td>\n",
       "      <td>David Hogan</td>\n",
       "      <td>34833</td>\n",
       "      <td>object118266</td>\n",
       "    </tr>\n",
       "    <tr>\n",
       "      <th>4</th>\n",
       "      <td>(Modern Industry)</td>\n",
       "      <td>118266</td>\n",
       "      <td>Fishbone</td>\n",
       "      <td>34792</td>\n",
       "      <td>object118266</td>\n",
       "    </tr>\n",
       "  </tbody>\n",
       "</table>\n",
       "</div>"
      ],
      "text/plain": [
       "                  Title  ObjectID                                   Artist  \\\n",
       "0  \"Kassama\" Corn Flour      5334                Beggarstaffs (James Pryde   \n",
       "1  \"Kassama\" Corn Flour      5334   Scottish 1866-1941 & William Nicholson   \n",
       "2  \"Kassama\" Corn Flour      5334                       British 1872-1949)   \n",
       "3     (Modern Industry)    118266                              David Hogan   \n",
       "4     (Modern Industry)    118266                                 Fishbone   \n",
       "\n",
       "  ConstituentID ObjectID_unique  \n",
       "0           437      object5334  \n",
       "1           NaN      object5334  \n",
       "2           NaN      object5334  \n",
       "3         34833    object118266  \n",
       "4         34792    object118266  "
      ]
     },
     "execution_count": 34,
     "metadata": {},
     "output_type": "execute_result"
    }
   ],
   "source": [
    "#adding a new column where the ObjectId has the prefix \"object\"\n",
    "single_Artist[\"ObjectID_unique\"] = \"object\" + single_Artist[\"ObjectID\"].astype(str)\n",
    "single_Artist.head()"
   ]
  },
  {
   "cell_type": "code",
   "execution_count": 35,
   "id": "d116761b-2abe-475e-8c40-ece81eb0acf2",
   "metadata": {},
   "outputs": [
    {
     "data": {
      "text/html": [
       "<div>\n",
       "<style scoped>\n",
       "    .dataframe tbody tr th:only-of-type {\n",
       "        vertical-align: middle;\n",
       "    }\n",
       "\n",
       "    .dataframe tbody tr th {\n",
       "        vertical-align: top;\n",
       "    }\n",
       "\n",
       "    .dataframe thead th {\n",
       "        text-align: right;\n",
       "    }\n",
       "</style>\n",
       "<table border=\"1\" class=\"dataframe\">\n",
       "  <thead>\n",
       "    <tr style=\"text-align: right;\">\n",
       "      <th></th>\n",
       "      <th>Title</th>\n",
       "      <th>ObjectID</th>\n",
       "      <th>Artist</th>\n",
       "      <th>ConstituentID</th>\n",
       "      <th>ObjectID_unique</th>\n",
       "      <th>ConstituentID_unique</th>\n",
       "    </tr>\n",
       "  </thead>\n",
       "  <tbody>\n",
       "    <tr>\n",
       "      <th>0</th>\n",
       "      <td>\"Kassama\" Corn Flour</td>\n",
       "      <td>5334</td>\n",
       "      <td>Beggarstaffs (James Pryde</td>\n",
       "      <td>437</td>\n",
       "      <td>object5334</td>\n",
       "      <td>artist437</td>\n",
       "    </tr>\n",
       "    <tr>\n",
       "      <th>1</th>\n",
       "      <td>\"Kassama\" Corn Flour</td>\n",
       "      <td>5334</td>\n",
       "      <td>Scottish 1866-1941 &amp; William Nicholson</td>\n",
       "      <td>NaN</td>\n",
       "      <td>object5334</td>\n",
       "      <td>artistnan</td>\n",
       "    </tr>\n",
       "    <tr>\n",
       "      <th>2</th>\n",
       "      <td>\"Kassama\" Corn Flour</td>\n",
       "      <td>5334</td>\n",
       "      <td>British 1872-1949)</td>\n",
       "      <td>NaN</td>\n",
       "      <td>object5334</td>\n",
       "      <td>artistnan</td>\n",
       "    </tr>\n",
       "    <tr>\n",
       "      <th>3</th>\n",
       "      <td>(Modern Industry)</td>\n",
       "      <td>118266</td>\n",
       "      <td>David Hogan</td>\n",
       "      <td>34833</td>\n",
       "      <td>object118266</td>\n",
       "      <td>artist34833</td>\n",
       "    </tr>\n",
       "    <tr>\n",
       "      <th>4</th>\n",
       "      <td>(Modern Industry)</td>\n",
       "      <td>118266</td>\n",
       "      <td>Fishbone</td>\n",
       "      <td>34792</td>\n",
       "      <td>object118266</td>\n",
       "      <td>artist 34792</td>\n",
       "    </tr>\n",
       "  </tbody>\n",
       "</table>\n",
       "</div>"
      ],
      "text/plain": [
       "                  Title  ObjectID                                   Artist  \\\n",
       "0  \"Kassama\" Corn Flour      5334                Beggarstaffs (James Pryde   \n",
       "1  \"Kassama\" Corn Flour      5334   Scottish 1866-1941 & William Nicholson   \n",
       "2  \"Kassama\" Corn Flour      5334                       British 1872-1949)   \n",
       "3     (Modern Industry)    118266                              David Hogan   \n",
       "4     (Modern Industry)    118266                                 Fishbone   \n",
       "\n",
       "  ConstituentID ObjectID_unique ConstituentID_unique  \n",
       "0           437      object5334            artist437  \n",
       "1           NaN      object5334            artistnan  \n",
       "2           NaN      object5334            artistnan  \n",
       "3         34833    object118266          artist34833  \n",
       "4         34792    object118266         artist 34792  "
      ]
     },
     "execution_count": 35,
     "metadata": {},
     "output_type": "execute_result"
    }
   ],
   "source": [
    "#adding another new column where the ConstitutentID has the prefix \"artist\"\n",
    "single_Artist[\"ConstituentID_unique\"] = \"artist\" + single_Artist[\"ConstituentID\"].astype(str)\n",
    "single_Artist.head()"
   ]
  },
  {
   "cell_type": "code",
   "execution_count": 36,
   "id": "81384fbc-a90b-40b7-8ff9-c1043fd0ddc3",
   "metadata": {},
   "outputs": [
    {
     "data": {
      "text/html": [
       "<div>\n",
       "<style scoped>\n",
       "    .dataframe tbody tr th:only-of-type {\n",
       "        vertical-align: middle;\n",
       "    }\n",
       "\n",
       "    .dataframe tbody tr th {\n",
       "        vertical-align: top;\n",
       "    }\n",
       "\n",
       "    .dataframe thead th {\n",
       "        text-align: right;\n",
       "    }\n",
       "</style>\n",
       "<table border=\"1\" class=\"dataframe\">\n",
       "  <thead>\n",
       "    <tr style=\"text-align: right;\">\n",
       "      <th></th>\n",
       "      <th>Title</th>\n",
       "      <th>ObjectID</th>\n",
       "      <th>Artist</th>\n",
       "      <th>ConstituentID</th>\n",
       "      <th>ObjectID_unique</th>\n",
       "      <th>ConstituentID_unique</th>\n",
       "    </tr>\n",
       "  </thead>\n",
       "  <tbody>\n",
       "    <tr>\n",
       "      <th>0</th>\n",
       "      <td>\"Kassama\" Corn Flour</td>\n",
       "      <td>5334</td>\n",
       "      <td>Beggarstaffs (James Pryde</td>\n",
       "      <td>437</td>\n",
       "      <td>object5334</td>\n",
       "      <td>artist437</td>\n",
       "    </tr>\n",
       "    <tr>\n",
       "      <th>1</th>\n",
       "      <td>\"Kassama\" Corn Flour</td>\n",
       "      <td>5334</td>\n",
       "      <td>Scottish 1866-1941 &amp; William Nicholson</td>\n",
       "      <td>NaN</td>\n",
       "      <td>object5334</td>\n",
       "      <td>artistnan</td>\n",
       "    </tr>\n",
       "    <tr>\n",
       "      <th>2</th>\n",
       "      <td>\"Kassama\" Corn Flour</td>\n",
       "      <td>5334</td>\n",
       "      <td>British 1872-1949)</td>\n",
       "      <td>NaN</td>\n",
       "      <td>object5334</td>\n",
       "      <td>artistnan</td>\n",
       "    </tr>\n",
       "    <tr>\n",
       "      <th>3</th>\n",
       "      <td>(Modern Industry)</td>\n",
       "      <td>118266</td>\n",
       "      <td>David Hogan</td>\n",
       "      <td>34833</td>\n",
       "      <td>object118266</td>\n",
       "      <td>artist34833</td>\n",
       "    </tr>\n",
       "    <tr>\n",
       "      <th>4</th>\n",
       "      <td>(Modern Industry)</td>\n",
       "      <td>118266</td>\n",
       "      <td>Fishbone</td>\n",
       "      <td>34792</td>\n",
       "      <td>object118266</td>\n",
       "      <td>artist34792</td>\n",
       "    </tr>\n",
       "  </tbody>\n",
       "</table>\n",
       "</div>"
      ],
      "text/plain": [
       "                  Title  ObjectID                                   Artist  \\\n",
       "0  \"Kassama\" Corn Flour      5334                Beggarstaffs (James Pryde   \n",
       "1  \"Kassama\" Corn Flour      5334   Scottish 1866-1941 & William Nicholson   \n",
       "2  \"Kassama\" Corn Flour      5334                       British 1872-1949)   \n",
       "3     (Modern Industry)    118266                              David Hogan   \n",
       "4     (Modern Industry)    118266                                 Fishbone   \n",
       "\n",
       "  ConstituentID ObjectID_unique ConstituentID_unique  \n",
       "0           437      object5334            artist437  \n",
       "1           NaN      object5334            artistnan  \n",
       "2           NaN      object5334            artistnan  \n",
       "3         34833    object118266          artist34833  \n",
       "4         34792    object118266          artist34792  "
      ]
     },
     "execution_count": 36,
     "metadata": {},
     "output_type": "execute_result"
    }
   ],
   "source": [
    "#removing the white spaces:\n",
    "single_Artist[\"ConstituentID_unique\"] = single_Artist[\"ConstituentID_unique\"].str.replace(' ', '')\n",
    "single_Artist.head()"
   ]
  },
  {
   "cell_type": "code",
   "execution_count": 37,
   "id": "61bdc478-f5dd-495f-aadc-d75f9dcd4d8a",
   "metadata": {},
   "outputs": [
    {
     "data": {
      "text/html": [
       "<div>\n",
       "<style scoped>\n",
       "    .dataframe tbody tr th:only-of-type {\n",
       "        vertical-align: middle;\n",
       "    }\n",
       "\n",
       "    .dataframe tbody tr th {\n",
       "        vertical-align: top;\n",
       "    }\n",
       "\n",
       "    .dataframe thead th {\n",
       "        text-align: right;\n",
       "    }\n",
       "</style>\n",
       "<table border=\"1\" class=\"dataframe\">\n",
       "  <thead>\n",
       "    <tr style=\"text-align: right;\">\n",
       "      <th></th>\n",
       "      <th>Title</th>\n",
       "      <th>ObjectID</th>\n",
       "      <th>Artist</th>\n",
       "      <th>ConstituentID</th>\n",
       "      <th>ObjectID_unique</th>\n",
       "      <th>ConstituentID_unique</th>\n",
       "    </tr>\n",
       "  </thead>\n",
       "  <tbody>\n",
       "    <tr>\n",
       "      <th>0</th>\n",
       "      <td>\"Kassama\" Corn Flour</td>\n",
       "      <td>5334</td>\n",
       "      <td>Beggarstaffs (James Pryde</td>\n",
       "      <td>437</td>\n",
       "      <td>object5334</td>\n",
       "      <td>artist437</td>\n",
       "    </tr>\n",
       "    <tr>\n",
       "      <th>1</th>\n",
       "      <td>\"Kassama\" Corn Flour</td>\n",
       "      <td>5334</td>\n",
       "      <td>Scottish 1866-1941 &amp; William Nicholson</td>\n",
       "      <td>NaN</td>\n",
       "      <td>object5334</td>\n",
       "      <td>artistnan</td>\n",
       "    </tr>\n",
       "    <tr>\n",
       "      <th>2</th>\n",
       "      <td>\"Kassama\" Corn Flour</td>\n",
       "      <td>5334</td>\n",
       "      <td>British 1872-1949)</td>\n",
       "      <td>NaN</td>\n",
       "      <td>object5334</td>\n",
       "      <td>artistnan</td>\n",
       "    </tr>\n",
       "    <tr>\n",
       "      <th>3</th>\n",
       "      <td>(Modern Industry)</td>\n",
       "      <td>118266</td>\n",
       "      <td>David Hogan</td>\n",
       "      <td>34833</td>\n",
       "      <td>object118266</td>\n",
       "      <td>artist34833</td>\n",
       "    </tr>\n",
       "    <tr>\n",
       "      <th>4</th>\n",
       "      <td>(Modern Industry)</td>\n",
       "      <td>118266</td>\n",
       "      <td>Fishbone</td>\n",
       "      <td>34792</td>\n",
       "      <td>object118266</td>\n",
       "      <td>artist34792</td>\n",
       "    </tr>\n",
       "  </tbody>\n",
       "</table>\n",
       "</div>"
      ],
      "text/plain": [
       "                  Title  ObjectID                                   Artist  \\\n",
       "0  \"Kassama\" Corn Flour      5334                Beggarstaffs (James Pryde   \n",
       "1  \"Kassama\" Corn Flour      5334   Scottish 1866-1941 & William Nicholson   \n",
       "2  \"Kassama\" Corn Flour      5334                       British 1872-1949)   \n",
       "3     (Modern Industry)    118266                              David Hogan   \n",
       "4     (Modern Industry)    118266                                 Fishbone   \n",
       "\n",
       "  ConstituentID ObjectID_unique ConstituentID_unique  \n",
       "0           437      object5334            artist437  \n",
       "1           NaN      object5334            artistnan  \n",
       "2           NaN      object5334            artistnan  \n",
       "3         34833    object118266          artist34833  \n",
       "4         34792    object118266          artist34792  "
      ]
     },
     "execution_count": 37,
     "metadata": {},
     "output_type": "execute_result"
    }
   ],
   "source": [
    "#To make sure there are no whitespaces in the \"ObjectID_unique\" column\n",
    "single_Artist[\"ObjectID_unique\"] = single_Artist[\"ObjectID_unique\"].str.replace(' ', '')\n",
    "single_Artist.head()"
   ]
  },
  {
   "cell_type": "markdown",
   "id": "c2ac443f-31c7-4bb4-b301-4c556e7aefdc",
   "metadata": {},
   "source": [
    "With the cleaned up data I count the unique ObjetIds and unique ConstitutenIDs again. \n"
   ]
  },
  {
   "cell_type": "code",
   "execution_count": 38,
   "id": "cec4a730-252a-45a3-85a0-e8f7be0d859f",
   "metadata": {},
   "outputs": [
    {
     "name": "stdout",
     "output_type": "stream",
     "text": [
      "There are 575 unique artists mentioned in the dataset.\n"
     ]
    }
   ],
   "source": [
    "#counting the unique artist Ids in the new DataFrame: \n",
    "artist_Ids = single_Artist[\"ConstituentID_unique\"].unique()\n",
    "print(\"There are\", len(artist_Ids), \"unique artists mentioned in the dataset.\")"
   ]
  },
  {
   "cell_type": "code",
   "execution_count": 39,
   "id": "2c5782ec-7038-4c3f-92a3-138e2a96e136",
   "metadata": {},
   "outputs": [
    {
     "name": "stdout",
     "output_type": "stream",
     "text": [
      "There are 615 unique objects mentioned in the dataset.\n"
     ]
    }
   ],
   "source": [
    "#counting the unique object Ids in the new DataFrame: \n",
    "object_Ids = single_Artist[\"ObjectID_unique\"].unique()\n",
    "print(\"There are\", len(object_Ids), \"unique objects mentioned in the dataset.\")"
   ]
  },
  {
   "cell_type": "markdown",
   "id": "d396d958-2f75-4c95-bbf4-b5cc317a0038",
   "metadata": {},
   "source": [
    "The new smaller Dataframes contains 575 artists and 615 different objects. Lets find out how they are connected to each other. "
   ]
  },
  {
   "cell_type": "markdown",
   "id": "e69a10f9-1589-474d-b9fd-6bce88c4b2cc",
   "metadata": {
    "tags": []
   },
   "source": [
    "## Adding metadata to the dataframe. \n",
    "I will now add metadata on the artist entities from the second dataset MoMA provides."
   ]
  },
  {
   "cell_type": "code",
   "execution_count": 40,
   "id": "f33f2aa5-70d0-43b6-b0ac-408ae28553d3",
   "metadata": {},
   "outputs": [
    {
     "data": {
      "text/html": [
       "<div>\n",
       "<style scoped>\n",
       "    .dataframe tbody tr th:only-of-type {\n",
       "        vertical-align: middle;\n",
       "    }\n",
       "\n",
       "    .dataframe tbody tr th {\n",
       "        vertical-align: top;\n",
       "    }\n",
       "\n",
       "    .dataframe thead th {\n",
       "        text-align: right;\n",
       "    }\n",
       "</style>\n",
       "<table border=\"1\" class=\"dataframe\">\n",
       "  <thead>\n",
       "    <tr style=\"text-align: right;\">\n",
       "      <th></th>\n",
       "      <th>ConstituentID</th>\n",
       "      <th>DisplayName</th>\n",
       "      <th>ArtistBio</th>\n",
       "      <th>Nationality</th>\n",
       "      <th>Gender</th>\n",
       "      <th>BeginDate</th>\n",
       "      <th>EndDate</th>\n",
       "      <th>Wiki QID</th>\n",
       "      <th>ULAN</th>\n",
       "    </tr>\n",
       "  </thead>\n",
       "  <tbody>\n",
       "    <tr>\n",
       "      <th>0</th>\n",
       "      <td>1</td>\n",
       "      <td>Robert Arneson</td>\n",
       "      <td>American, 1930–1992</td>\n",
       "      <td>American</td>\n",
       "      <td>Male</td>\n",
       "      <td>1930</td>\n",
       "      <td>1992</td>\n",
       "      <td>NaN</td>\n",
       "      <td>NaN</td>\n",
       "    </tr>\n",
       "    <tr>\n",
       "      <th>1</th>\n",
       "      <td>2</td>\n",
       "      <td>Doroteo Arnaiz</td>\n",
       "      <td>Spanish, born 1936</td>\n",
       "      <td>Spanish</td>\n",
       "      <td>Male</td>\n",
       "      <td>1936</td>\n",
       "      <td>0</td>\n",
       "      <td>NaN</td>\n",
       "      <td>NaN</td>\n",
       "    </tr>\n",
       "    <tr>\n",
       "      <th>2</th>\n",
       "      <td>3</td>\n",
       "      <td>Bill Arnold</td>\n",
       "      <td>American, born 1941</td>\n",
       "      <td>American</td>\n",
       "      <td>Male</td>\n",
       "      <td>1941</td>\n",
       "      <td>0</td>\n",
       "      <td>NaN</td>\n",
       "      <td>NaN</td>\n",
       "    </tr>\n",
       "    <tr>\n",
       "      <th>3</th>\n",
       "      <td>4</td>\n",
       "      <td>Charles Arnoldi</td>\n",
       "      <td>American, born 1946</td>\n",
       "      <td>American</td>\n",
       "      <td>Male</td>\n",
       "      <td>1946</td>\n",
       "      <td>0</td>\n",
       "      <td>Q1063584</td>\n",
       "      <td>500027998.0</td>\n",
       "    </tr>\n",
       "    <tr>\n",
       "      <th>4</th>\n",
       "      <td>5</td>\n",
       "      <td>Per Arnoldi</td>\n",
       "      <td>Danish, born 1941</td>\n",
       "      <td>Danish</td>\n",
       "      <td>Male</td>\n",
       "      <td>1941</td>\n",
       "      <td>0</td>\n",
       "      <td>NaN</td>\n",
       "      <td>NaN</td>\n",
       "    </tr>\n",
       "    <tr>\n",
       "      <th>5</th>\n",
       "      <td>6</td>\n",
       "      <td>Danilo Aroldi</td>\n",
       "      <td>Italian, born 1925</td>\n",
       "      <td>Italian</td>\n",
       "      <td>Male</td>\n",
       "      <td>1925</td>\n",
       "      <td>0</td>\n",
       "      <td>NaN</td>\n",
       "      <td>NaN</td>\n",
       "    </tr>\n",
       "    <tr>\n",
       "      <th>6</th>\n",
       "      <td>7</td>\n",
       "      <td>Bill Aron</td>\n",
       "      <td>American, born 1941</td>\n",
       "      <td>American</td>\n",
       "      <td>Male</td>\n",
       "      <td>1941</td>\n",
       "      <td>0</td>\n",
       "      <td>NaN</td>\n",
       "      <td>NaN</td>\n",
       "    </tr>\n",
       "    <tr>\n",
       "      <th>7</th>\n",
       "      <td>9</td>\n",
       "      <td>David Aronson</td>\n",
       "      <td>American, born Lithuania 1923</td>\n",
       "      <td>American</td>\n",
       "      <td>Male</td>\n",
       "      <td>1923</td>\n",
       "      <td>0</td>\n",
       "      <td>Q5230870</td>\n",
       "      <td>500003363.0</td>\n",
       "    </tr>\n",
       "    <tr>\n",
       "      <th>8</th>\n",
       "      <td>10</td>\n",
       "      <td>Irene Aronson</td>\n",
       "      <td>American, born Germany 1918</td>\n",
       "      <td>American</td>\n",
       "      <td>Female</td>\n",
       "      <td>1918</td>\n",
       "      <td>0</td>\n",
       "      <td>Q19748568</td>\n",
       "      <td>500042413.0</td>\n",
       "    </tr>\n",
       "    <tr>\n",
       "      <th>9</th>\n",
       "      <td>11</td>\n",
       "      <td>Jean (Hans) Arp</td>\n",
       "      <td>French, born Germany (Alsace). 1886–1966</td>\n",
       "      <td>French</td>\n",
       "      <td>Male</td>\n",
       "      <td>1886</td>\n",
       "      <td>1966</td>\n",
       "      <td>Q153739</td>\n",
       "      <td>500031000.0</td>\n",
       "    </tr>\n",
       "    <tr>\n",
       "      <th>10</th>\n",
       "      <td>12</td>\n",
       "      <td>Jüri Arrak</td>\n",
       "      <td>Estonian, born 1936</td>\n",
       "      <td>Estonian</td>\n",
       "      <td>Male</td>\n",
       "      <td>1936</td>\n",
       "      <td>0</td>\n",
       "      <td>NaN</td>\n",
       "      <td>NaN</td>\n",
       "    </tr>\n",
       "    <tr>\n",
       "      <th>11</th>\n",
       "      <td>13</td>\n",
       "      <td>J. Arrelano Fischer</td>\n",
       "      <td>Mexican, 1911–1995</td>\n",
       "      <td>Mexican</td>\n",
       "      <td>Male</td>\n",
       "      <td>1911</td>\n",
       "      <td>1995</td>\n",
       "      <td>NaN</td>\n",
       "      <td>NaN</td>\n",
       "    </tr>\n",
       "    <tr>\n",
       "      <th>12</th>\n",
       "      <td>15</td>\n",
       "      <td>Folke Arstrom</td>\n",
       "      <td>Swedish, 1907–1997</td>\n",
       "      <td>Swedish</td>\n",
       "      <td>Male</td>\n",
       "      <td>1907</td>\n",
       "      <td>1997</td>\n",
       "      <td>NaN</td>\n",
       "      <td>NaN</td>\n",
       "    </tr>\n",
       "    <tr>\n",
       "      <th>13</th>\n",
       "      <td>16</td>\n",
       "      <td>Cristobal Arteche</td>\n",
       "      <td>Spanish, 1900–1964</td>\n",
       "      <td>Spanish</td>\n",
       "      <td>Male</td>\n",
       "      <td>1900</td>\n",
       "      <td>1964</td>\n",
       "      <td>NaN</td>\n",
       "      <td>NaN</td>\n",
       "    </tr>\n",
       "    <tr>\n",
       "      <th>14</th>\n",
       "      <td>18</td>\n",
       "      <td>Artko</td>\n",
       "      <td>NaN</td>\n",
       "      <td>NaN</td>\n",
       "      <td>NaN</td>\n",
       "      <td>0</td>\n",
       "      <td>0</td>\n",
       "      <td>NaN</td>\n",
       "      <td>NaN</td>\n",
       "    </tr>\n",
       "  </tbody>\n",
       "</table>\n",
       "</div>"
      ],
      "text/plain": [
       "    ConstituentID          DisplayName  \\\n",
       "0               1       Robert Arneson   \n",
       "1               2       Doroteo Arnaiz   \n",
       "2               3          Bill Arnold   \n",
       "3               4      Charles Arnoldi   \n",
       "4               5          Per Arnoldi   \n",
       "5               6        Danilo Aroldi   \n",
       "6               7            Bill Aron   \n",
       "7               9        David Aronson   \n",
       "8              10        Irene Aronson   \n",
       "9              11      Jean (Hans) Arp   \n",
       "10             12           Jüri Arrak   \n",
       "11             13  J. Arrelano Fischer   \n",
       "12             15        Folke Arstrom   \n",
       "13             16    Cristobal Arteche   \n",
       "14             18                Artko   \n",
       "\n",
       "                                   ArtistBio Nationality  Gender  BeginDate  \\\n",
       "0                        American, 1930–1992    American    Male       1930   \n",
       "1                         Spanish, born 1936     Spanish    Male       1936   \n",
       "2                        American, born 1941    American    Male       1941   \n",
       "3                        American, born 1946    American    Male       1946   \n",
       "4                          Danish, born 1941      Danish    Male       1941   \n",
       "5                         Italian, born 1925     Italian    Male       1925   \n",
       "6                        American, born 1941    American    Male       1941   \n",
       "7              American, born Lithuania 1923    American    Male       1923   \n",
       "8                American, born Germany 1918    American  Female       1918   \n",
       "9   French, born Germany (Alsace). 1886–1966      French    Male       1886   \n",
       "10                       Estonian, born 1936    Estonian    Male       1936   \n",
       "11                        Mexican, 1911–1995     Mexican    Male       1911   \n",
       "12                        Swedish, 1907–1997     Swedish    Male       1907   \n",
       "13                        Spanish, 1900–1964     Spanish    Male       1900   \n",
       "14                                       NaN         NaN     NaN          0   \n",
       "\n",
       "    EndDate   Wiki QID         ULAN  \n",
       "0      1992        NaN          NaN  \n",
       "1         0        NaN          NaN  \n",
       "2         0        NaN          NaN  \n",
       "3         0   Q1063584  500027998.0  \n",
       "4         0        NaN          NaN  \n",
       "5         0        NaN          NaN  \n",
       "6         0        NaN          NaN  \n",
       "7         0   Q5230870  500003363.0  \n",
       "8         0  Q19748568  500042413.0  \n",
       "9      1966    Q153739  500031000.0  \n",
       "10        0        NaN          NaN  \n",
       "11     1995        NaN          NaN  \n",
       "12     1997        NaN          NaN  \n",
       "13     1964        NaN          NaN  \n",
       "14        0        NaN          NaN  "
      ]
     },
     "execution_count": 40,
     "metadata": {},
     "output_type": "execute_result"
    }
   ],
   "source": [
    "#Importing the file. \n",
    "#Import the file from github\n",
    "artists_complete = pd.read_csv(\"/Users/linsernora/Pyhton_Course/Python_CourseNorLins/MoMAartworks/Artists.csv\")\n",
    "artists_complete.head(15)"
   ]
  },
  {
   "cell_type": "code",
   "execution_count": 41,
   "id": "57af86a9-d209-4616-b819-5f39a6a1780c",
   "metadata": {},
   "outputs": [
    {
     "data": {
      "text/html": [
       "<div>\n",
       "<style scoped>\n",
       "    .dataframe tbody tr th:only-of-type {\n",
       "        vertical-align: middle;\n",
       "    }\n",
       "\n",
       "    .dataframe tbody tr th {\n",
       "        vertical-align: top;\n",
       "    }\n",
       "\n",
       "    .dataframe thead th {\n",
       "        text-align: right;\n",
       "    }\n",
       "</style>\n",
       "<table border=\"1\" class=\"dataframe\">\n",
       "  <thead>\n",
       "    <tr style=\"text-align: right;\">\n",
       "      <th></th>\n",
       "      <th>Title</th>\n",
       "      <th>ObjectID</th>\n",
       "      <th>Artist</th>\n",
       "      <th>ConstituentID</th>\n",
       "      <th>ObjectID_unique</th>\n",
       "      <th>ConstituentID_unique</th>\n",
       "    </tr>\n",
       "  </thead>\n",
       "  <tbody>\n",
       "    <tr>\n",
       "      <th>0</th>\n",
       "      <td>\"Kassama\" Corn Flour</td>\n",
       "      <td>5334</td>\n",
       "      <td>Beggarstaffs (James Pryde</td>\n",
       "      <td>437</td>\n",
       "      <td>object5334</td>\n",
       "      <td>artist437</td>\n",
       "    </tr>\n",
       "    <tr>\n",
       "      <th>1</th>\n",
       "      <td>\"Kassama\" Corn Flour</td>\n",
       "      <td>5334</td>\n",
       "      <td>Scottish 1866-1941 &amp; William Nicholson</td>\n",
       "      <td>NaN</td>\n",
       "      <td>object5334</td>\n",
       "      <td>artistnan</td>\n",
       "    </tr>\n",
       "    <tr>\n",
       "      <th>2</th>\n",
       "      <td>\"Kassama\" Corn Flour</td>\n",
       "      <td>5334</td>\n",
       "      <td>British 1872-1949)</td>\n",
       "      <td>NaN</td>\n",
       "      <td>object5334</td>\n",
       "      <td>artistnan</td>\n",
       "    </tr>\n",
       "    <tr>\n",
       "      <th>3</th>\n",
       "      <td>(Modern Industry)</td>\n",
       "      <td>118266</td>\n",
       "      <td>David Hogan</td>\n",
       "      <td>34833</td>\n",
       "      <td>object118266</td>\n",
       "      <td>artist34833</td>\n",
       "    </tr>\n",
       "    <tr>\n",
       "      <th>4</th>\n",
       "      <td>(Modern Industry)</td>\n",
       "      <td>118266</td>\n",
       "      <td>Fishbone</td>\n",
       "      <td>34792</td>\n",
       "      <td>object118266</td>\n",
       "      <td>artist34792</td>\n",
       "    </tr>\n",
       "  </tbody>\n",
       "</table>\n",
       "</div>"
      ],
      "text/plain": [
       "                  Title  ObjectID                                   Artist  \\\n",
       "0  \"Kassama\" Corn Flour      5334                Beggarstaffs (James Pryde   \n",
       "1  \"Kassama\" Corn Flour      5334   Scottish 1866-1941 & William Nicholson   \n",
       "2  \"Kassama\" Corn Flour      5334                       British 1872-1949)   \n",
       "3     (Modern Industry)    118266                              David Hogan   \n",
       "4     (Modern Industry)    118266                                 Fishbone   \n",
       "\n",
       "  ConstituentID ObjectID_unique ConstituentID_unique  \n",
       "0           437      object5334            artist437  \n",
       "1           NaN      object5334            artistnan  \n",
       "2           NaN      object5334            artistnan  \n",
       "3         34833    object118266          artist34833  \n",
       "4         34792    object118266          artist34792  "
      ]
     },
     "execution_count": 41,
     "metadata": {},
     "output_type": "execute_result"
    }
   ],
   "source": [
    "single_Artist.head()"
   ]
  },
  {
   "cell_type": "code",
   "execution_count": 42,
   "id": "68363aa1-64f8-4bce-8156-06364a3b880c",
   "metadata": {},
   "outputs": [
    {
     "data": {
      "text/plain": [
       "(1559, 6)"
      ]
     },
     "execution_count": 42,
     "metadata": {},
     "output_type": "execute_result"
    }
   ],
   "source": [
    "#just to remeber the size of the single_Artist Dateframe: \n",
    "single_Artist.shape"
   ]
  },
  {
   "cell_type": "code",
   "execution_count": 43,
   "id": "82efc508-098b-4680-b863-ec45f47a6a31",
   "metadata": {},
   "outputs": [],
   "source": [
    "#adding the metadata based on the ConstituentID (as unique value in both dfs) \n",
    "#at first try I received the error \"You are trying to merge on object and int64 columns. If you wish to proceed you should use pd.concat\". \n",
    "#So I convert the ConstituentID vlaues to type text (since there is also \"Nan\" in there).\n",
    "\n",
    "single_Artist[\"ConstituentID\"]=single_Artist[\"ConstituentID\"].astype(str)\n",
    "artists_complete[\"ConstituentID\"]=artists_complete[\"ConstituentID\"].astype(str)"
   ]
  },
  {
   "cell_type": "code",
   "execution_count": 44,
   "id": "05fd435a-0809-4382-9f96-c7a3c22d8ca4",
   "metadata": {},
   "outputs": [
    {
     "data": {
      "text/html": [
       "<div>\n",
       "<style scoped>\n",
       "    .dataframe tbody tr th:only-of-type {\n",
       "        vertical-align: middle;\n",
       "    }\n",
       "\n",
       "    .dataframe tbody tr th {\n",
       "        vertical-align: top;\n",
       "    }\n",
       "\n",
       "    .dataframe thead th {\n",
       "        text-align: right;\n",
       "    }\n",
       "</style>\n",
       "<table border=\"1\" class=\"dataframe\">\n",
       "  <thead>\n",
       "    <tr style=\"text-align: right;\">\n",
       "      <th></th>\n",
       "      <th>Title</th>\n",
       "      <th>ObjectID</th>\n",
       "      <th>Artist</th>\n",
       "      <th>ConstituentID</th>\n",
       "      <th>ObjectID_unique</th>\n",
       "      <th>ConstituentID_unique</th>\n",
       "      <th>DisplayName</th>\n",
       "      <th>ArtistBio</th>\n",
       "      <th>Nationality</th>\n",
       "      <th>Gender</th>\n",
       "      <th>BeginDate</th>\n",
       "      <th>EndDate</th>\n",
       "      <th>Wiki QID</th>\n",
       "      <th>ULAN</th>\n",
       "    </tr>\n",
       "  </thead>\n",
       "  <tbody>\n",
       "    <tr>\n",
       "      <th>0</th>\n",
       "      <td>\"Kassama\" Corn Flour</td>\n",
       "      <td>5334</td>\n",
       "      <td>Beggarstaffs (James Pryde</td>\n",
       "      <td>437</td>\n",
       "      <td>object5334</td>\n",
       "      <td>artist437</td>\n",
       "      <td>Beggarstaffs (James Pryde, Scottish 1866-1941 ...</td>\n",
       "      <td>NaN</td>\n",
       "      <td>British</td>\n",
       "      <td>NaN</td>\n",
       "      <td>1866.0</td>\n",
       "      <td>1949.0</td>\n",
       "      <td>NaN</td>\n",
       "      <td>NaN</td>\n",
       "    </tr>\n",
       "    <tr>\n",
       "      <th>1</th>\n",
       "      <td>\"Kassama\" Corn Flour</td>\n",
       "      <td>5334</td>\n",
       "      <td>Scottish 1866-1941 &amp; William Nicholson</td>\n",
       "      <td>nan</td>\n",
       "      <td>object5334</td>\n",
       "      <td>artistnan</td>\n",
       "      <td>NaN</td>\n",
       "      <td>NaN</td>\n",
       "      <td>NaN</td>\n",
       "      <td>NaN</td>\n",
       "      <td>NaN</td>\n",
       "      <td>NaN</td>\n",
       "      <td>NaN</td>\n",
       "      <td>NaN</td>\n",
       "    </tr>\n",
       "    <tr>\n",
       "      <th>2</th>\n",
       "      <td>\"Kassama\" Corn Flour</td>\n",
       "      <td>5334</td>\n",
       "      <td>British 1872-1949)</td>\n",
       "      <td>nan</td>\n",
       "      <td>object5334</td>\n",
       "      <td>artistnan</td>\n",
       "      <td>NaN</td>\n",
       "      <td>NaN</td>\n",
       "      <td>NaN</td>\n",
       "      <td>NaN</td>\n",
       "      <td>NaN</td>\n",
       "      <td>NaN</td>\n",
       "      <td>NaN</td>\n",
       "      <td>NaN</td>\n",
       "    </tr>\n",
       "    <tr>\n",
       "      <th>3</th>\n",
       "      <td>(Modern Industry)</td>\n",
       "      <td>118266</td>\n",
       "      <td>David Hogan</td>\n",
       "      <td>34833</td>\n",
       "      <td>object118266</td>\n",
       "      <td>artist34833</td>\n",
       "      <td>David Hogan</td>\n",
       "      <td>NaN</td>\n",
       "      <td>NaN</td>\n",
       "      <td>Male</td>\n",
       "      <td>0.0</td>\n",
       "      <td>0.0</td>\n",
       "      <td>NaN</td>\n",
       "      <td>NaN</td>\n",
       "    </tr>\n",
       "    <tr>\n",
       "      <th>4</th>\n",
       "      <td>(Modern Industry)</td>\n",
       "      <td>118266</td>\n",
       "      <td>Fishbone</td>\n",
       "      <td>34792</td>\n",
       "      <td>object118266</td>\n",
       "      <td>artist34792</td>\n",
       "      <td>NaN</td>\n",
       "      <td>NaN</td>\n",
       "      <td>NaN</td>\n",
       "      <td>NaN</td>\n",
       "      <td>NaN</td>\n",
       "      <td>NaN</td>\n",
       "      <td>NaN</td>\n",
       "      <td>NaN</td>\n",
       "    </tr>\n",
       "  </tbody>\n",
       "</table>\n",
       "</div>"
      ],
      "text/plain": [
       "                  Title  ObjectID                                   Artist  \\\n",
       "0  \"Kassama\" Corn Flour      5334                Beggarstaffs (James Pryde   \n",
       "1  \"Kassama\" Corn Flour      5334   Scottish 1866-1941 & William Nicholson   \n",
       "2  \"Kassama\" Corn Flour      5334                       British 1872-1949)   \n",
       "3     (Modern Industry)    118266                              David Hogan   \n",
       "4     (Modern Industry)    118266                                 Fishbone   \n",
       "\n",
       "  ConstituentID ObjectID_unique ConstituentID_unique  \\\n",
       "0           437      object5334            artist437   \n",
       "1           nan      object5334            artistnan   \n",
       "2           nan      object5334            artistnan   \n",
       "3         34833    object118266          artist34833   \n",
       "4         34792    object118266          artist34792   \n",
       "\n",
       "                                         DisplayName ArtistBio Nationality  \\\n",
       "0  Beggarstaffs (James Pryde, Scottish 1866-1941 ...       NaN     British   \n",
       "1                                                NaN       NaN         NaN   \n",
       "2                                                NaN       NaN         NaN   \n",
       "3                                        David Hogan       NaN         NaN   \n",
       "4                                                NaN       NaN         NaN   \n",
       "\n",
       "  Gender  BeginDate  EndDate Wiki QID  ULAN  \n",
       "0    NaN     1866.0   1949.0      NaN   NaN  \n",
       "1    NaN        NaN      NaN      NaN   NaN  \n",
       "2    NaN        NaN      NaN      NaN   NaN  \n",
       "3   Male        0.0      0.0      NaN   NaN  \n",
       "4    NaN        NaN      NaN      NaN   NaN  "
      ]
     },
     "execution_count": 44,
     "metadata": {},
     "output_type": "execute_result"
    }
   ],
   "source": [
    "#merging the two dataframes based on the ConstituentID column\n",
    "\n",
    "single_Artistextended = pd.merge(single_Artist, artists_complete, on=\"ConstituentID\", how = \"left\")\n",
    "single_Artistextended.head()"
   ]
  },
  {
   "cell_type": "code",
   "execution_count": 45,
   "id": "ac8a3275-a9ce-4473-8a8c-b355142ffe89",
   "metadata": {},
   "outputs": [
    {
     "data": {
      "text/plain": [
       "(1559, 14)"
      ]
     },
     "execution_count": 45,
     "metadata": {},
     "output_type": "execute_result"
    }
   ],
   "source": [
    "#checking the shape of the df and making sure only columns where added: \n",
    "single_Artistextended.shape"
   ]
  },
  {
   "cell_type": "markdown",
   "id": "c49bd165-b6f4-4da2-bb7f-efac38dd2bb4",
   "metadata": {
    "tags": []
   },
   "source": [
    "# Creating graph object \n",
    "With the smaller dataframe a new graph object is created (Gnew).  \n",
    "\n",
    "The graph is set up as undirected. Since there is no direction in the relation between artists and objects. "
   ]
  },
  {
   "cell_type": "code",
   "execution_count": 46,
   "id": "1fd00cc7-f64b-47d2-abeb-e438e65b33d0",
   "metadata": {},
   "outputs": [
    {
     "data": {
      "text/plain": [
       "networkx.classes.graph.Graph"
      ]
     },
     "execution_count": 46,
     "metadata": {},
     "output_type": "execute_result"
    }
   ],
   "source": [
    "#initiate an empty undirected graph\n",
    "Gnew = nx.Graph()\n",
    "type(Gnew)"
   ]
  },
  {
   "cell_type": "code",
   "execution_count": 47,
   "id": "16c32a4c-fc6f-40b4-b3b4-4be44b2c0ba9",
   "metadata": {},
   "outputs": [],
   "source": [
    "#adding the edges to the graph. I am setting the unique object Id columns as the source and the unique artist Ids as the target.\n",
    "Gnew= nx.from_pandas_edgelist(single_Artistextended, source=\"ObjectID_unique\", target=\"ConstituentID_unique\")"
   ]
  },
  {
   "cell_type": "markdown",
   "id": "5fbc011c-e240-4495-beb9-1680f719b883",
   "metadata": {
    "tags": []
   },
   "source": [
    "# Drawing the first graph"
   ]
  },
  {
   "cell_type": "code",
   "execution_count": 48,
   "id": "84c5c13e-85cf-438a-b602-85fed150fe49",
   "metadata": {},
   "outputs": [
    {
     "data": {
      "image/png": "[encoded data removed]",
      "text/plain": [
       "<Figure size 432x288 with 1 Axes>"
      ]
     },
     "metadata": {},
     "output_type": "display_data"
    }
   ],
   "source": [
    "#plotting the first graph without any specifications: \n",
    "nx.draw(Gnew)\n",
    "plt.show()"
   ]
  },
  {
   "cell_type": "markdown",
   "id": "4603c9af-1291-4991-a61c-eb99b59a3a0e",
   "metadata": {
    "jp-MarkdownHeadingCollapsed": true,
    "tags": []
   },
   "source": [
    "## Refining the plots\n",
    "With setting some arguments the graph plot can be refined and made better readable. "
   ]
  },
  {
   "cell_type": "code",
   "execution_count": 49,
   "id": "e8f85726-efd8-4acf-81d2-13d9498bc84c",
   "metadata": {},
   "outputs": [
    {
     "data": {
      "image/png": "[encoded data removed]",
      "text/plain": [
       "<Figure size 1440x1440 with 1 Axes>"
      ]
     },
     "metadata": {},
     "output_type": "display_data"
    }
   ],
   "source": [
    "#plotting the same graph but with some arguments \n",
    "pos = nx.spring_layout(Gnew, scale=1)\n",
    "fig = plt.figure(1, figsize=(20,20))\n",
    "nx.draw(Gnew, with_labels=False, node_color=\"seagreen\", node_size = 15)"
   ]
  },
  {
   "cell_type": "markdown",
   "id": "6b1dbf9d-d6f5-43ef-8109-582aa575033c",
   "metadata": {},
   "source": [
    "# Exploring the network"
   ]
  },
  {
   "cell_type": "code",
   "execution_count": 50,
   "id": "12b4839c-68d6-40ba-8c5f-205ad53f8a82",
   "metadata": {},
   "outputs": [
    {
     "name": "stdout",
     "output_type": "stream",
     "text": [
      "There are 1190 nodes in the network.\n"
     ]
    }
   ],
   "source": [
    "#Getting feeling for the size of the graph \n",
    "#Count of the nodes:\n",
    "print(\"There are\", len(Gnew.nodes()), \"nodes in the network.\")"
   ]
  },
  {
   "cell_type": "code",
   "execution_count": 51,
   "id": "428b7069-68a6-4b03-a941-17ae6285ffea",
   "metadata": {},
   "outputs": [
    {
     "name": "stdout",
     "output_type": "stream",
     "text": [
      "There are 1550 edges in the network.\n"
     ]
    }
   ],
   "source": [
    "#Count of the edges: \n",
    "print(\"There are\", len(Gnew.edges()), \"edges in the network.\")"
   ]
  },
  {
   "cell_type": "markdown",
   "id": "6a106fba-1516-495a-b2a5-fbc5fc9bb456",
   "metadata": {
    "tags": []
   },
   "source": [
    "# Adding node attributes\n",
    "To do so we need to get the data from the artists dataset. We will then compute different colours for the gender values in the dataset. This column will than be appended to the graph object where it will be used to plot the node color accordingly. "
   ]
  },
  {
   "cell_type": "markdown",
   "id": "c46d0c69-c489-4e42-a925-1e57a74b414a",
   "metadata": {},
   "source": []
  },
  {
   "cell_type": "code",
   "execution_count": null,
   "id": "3b261a9a-b99a-4940-bc6b-7f92930c0baa",
   "metadata": {},
   "outputs": [],
   "source": []
  },
  {
   "cell_type": "code",
   "execution_count": null,
   "id": "b17cde22-49b1-4406-8844-d8aec6dfc71b",
   "metadata": {},
   "outputs": [],
   "source": []
  },
  {
   "cell_type": "code",
   "execution_count": null,
   "id": "3c3a5c12-cf15-4fe7-8f94-f9a1fb385b64",
   "metadata": {},
   "outputs": [],
   "source": []
  },
  {
   "cell_type": "code",
   "execution_count": null,
   "id": "3693f948-cf79-4a28-8b6f-1a8ed1366df5",
   "metadata": {},
   "outputs": [],
   "source": []
  },
  {
   "cell_type": "code",
   "execution_count": null,
   "id": "59ab3c1c-c328-41cd-8e01-fefb1d1f7ddf",
   "metadata": {},
   "outputs": [],
   "source": []
  },
  {
   "cell_type": "code",
   "execution_count": null,
   "id": "2833c2f0-024d-47dc-b132-3f7887cda1ca",
   "metadata": {},
   "outputs": [],
   "source": []
  },
  {
   "cell_type": "markdown",
   "id": "4e285c6e-8f26-4b7a-bafc-9041b70f5a42",
   "metadata": {
    "tags": []
   },
   "source": [
    "Getting the gender data from the artists dataset, to have an unique identifyer we need to adapt the ConstitutentID like we did for the graph object and add \"artists\" to the values as prefix. We allso remove unwanted whitespaces."
   ]
  },
  {
   "cell_type": "code",
   "execution_count": 53,
   "id": "194ccbd9-82da-4e33-82a6-41f457071a65",
   "metadata": {},
   "outputs": [
    {
     "data": {
      "text/html": [
       "<div>\n",
       "<style scoped>\n",
       "    .dataframe tbody tr th:only-of-type {\n",
       "        vertical-align: middle;\n",
       "    }\n",
       "\n",
       "    .dataframe tbody tr th {\n",
       "        vertical-align: top;\n",
       "    }\n",
       "\n",
       "    .dataframe thead th {\n",
       "        text-align: right;\n",
       "    }\n",
       "</style>\n",
       "<table border=\"1\" class=\"dataframe\">\n",
       "  <thead>\n",
       "    <tr style=\"text-align: right;\">\n",
       "      <th></th>\n",
       "      <th>ConstituentID</th>\n",
       "      <th>DisplayName</th>\n",
       "      <th>ArtistBio</th>\n",
       "      <th>Nationality</th>\n",
       "      <th>Gender</th>\n",
       "      <th>BeginDate</th>\n",
       "      <th>EndDate</th>\n",
       "      <th>Wiki QID</th>\n",
       "      <th>ULAN</th>\n",
       "      <th>ConstituentID_unique</th>\n",
       "    </tr>\n",
       "  </thead>\n",
       "  <tbody>\n",
       "    <tr>\n",
       "      <th>0</th>\n",
       "      <td>1</td>\n",
       "      <td>Robert Arneson</td>\n",
       "      <td>American, 1930–1992</td>\n",
       "      <td>American</td>\n",
       "      <td>Male</td>\n",
       "      <td>1930</td>\n",
       "      <td>1992</td>\n",
       "      <td>NaN</td>\n",
       "      <td>NaN</td>\n",
       "      <td>artist1</td>\n",
       "    </tr>\n",
       "    <tr>\n",
       "      <th>1</th>\n",
       "      <td>2</td>\n",
       "      <td>Doroteo Arnaiz</td>\n",
       "      <td>Spanish, born 1936</td>\n",
       "      <td>Spanish</td>\n",
       "      <td>Male</td>\n",
       "      <td>1936</td>\n",
       "      <td>0</td>\n",
       "      <td>NaN</td>\n",
       "      <td>NaN</td>\n",
       "      <td>artist2</td>\n",
       "    </tr>\n",
       "    <tr>\n",
       "      <th>2</th>\n",
       "      <td>3</td>\n",
       "      <td>Bill Arnold</td>\n",
       "      <td>American, born 1941</td>\n",
       "      <td>American</td>\n",
       "      <td>Male</td>\n",
       "      <td>1941</td>\n",
       "      <td>0</td>\n",
       "      <td>NaN</td>\n",
       "      <td>NaN</td>\n",
       "      <td>artist3</td>\n",
       "    </tr>\n",
       "    <tr>\n",
       "      <th>3</th>\n",
       "      <td>4</td>\n",
       "      <td>Charles Arnoldi</td>\n",
       "      <td>American, born 1946</td>\n",
       "      <td>American</td>\n",
       "      <td>Male</td>\n",
       "      <td>1946</td>\n",
       "      <td>0</td>\n",
       "      <td>Q1063584</td>\n",
       "      <td>500027998.0</td>\n",
       "      <td>artist4</td>\n",
       "    </tr>\n",
       "    <tr>\n",
       "      <th>4</th>\n",
       "      <td>5</td>\n",
       "      <td>Per Arnoldi</td>\n",
       "      <td>Danish, born 1941</td>\n",
       "      <td>Danish</td>\n",
       "      <td>Male</td>\n",
       "      <td>1941</td>\n",
       "      <td>0</td>\n",
       "      <td>NaN</td>\n",
       "      <td>NaN</td>\n",
       "      <td>artist5</td>\n",
       "    </tr>\n",
       "  </tbody>\n",
       "</table>\n",
       "</div>"
      ],
      "text/plain": [
       "  ConstituentID      DisplayName            ArtistBio Nationality Gender  \\\n",
       "0             1   Robert Arneson  American, 1930–1992    American   Male   \n",
       "1             2   Doroteo Arnaiz   Spanish, born 1936     Spanish   Male   \n",
       "2             3      Bill Arnold  American, born 1941    American   Male   \n",
       "3             4  Charles Arnoldi  American, born 1946    American   Male   \n",
       "4             5      Per Arnoldi    Danish, born 1941      Danish   Male   \n",
       "\n",
       "   BeginDate  EndDate  Wiki QID         ULAN ConstituentID_unique  \n",
       "0       1930     1992       NaN          NaN              artist1  \n",
       "1       1936        0       NaN          NaN              artist2  \n",
       "2       1941        0       NaN          NaN              artist3  \n",
       "3       1946        0  Q1063584  500027998.0              artist4  \n",
       "4       1941        0       NaN          NaN              artist5  "
      ]
     },
     "execution_count": 53,
     "metadata": {},
     "output_type": "execute_result"
    }
   ],
   "source": [
    "#Add the \"ConstitutentID_unique\" column to the artis df, so that we have a unique identifier.\n",
    "artists_complete[\"ConstituentID_unique\"] = \"artist\" + artists_complete[\"ConstituentID\"].astype(str)\n",
    "#remove the whitespaces\n",
    "artists_complete[\"ConstituentID_unique\"] = artists_complete[\"ConstituentID_unique\"].str.replace('_', '')\n",
    "artists_complete.head()\n"
   ]
  },
  {
   "cell_type": "code",
   "execution_count": 54,
   "id": "b6075721-a9ab-4c30-acdb-77a6c58d79d6",
   "metadata": {},
   "outputs": [
    {
     "data": {
      "text/plain": [
       "7"
      ]
     },
     "execution_count": 54,
     "metadata": {},
     "output_type": "execute_result"
    }
   ],
   "source": [
    "#getting the count of the unique values\n",
    "len(artists_complete[\"Gender\"].unique())"
   ]
  },
  {
   "cell_type": "code",
   "execution_count": 55,
   "id": "97887e71-f042-4961-9d43-4083d26d2f31",
   "metadata": {},
   "outputs": [
    {
     "data": {
      "text/plain": [
       "array(['Male', 'Female', nan, 'Non-Binary', 'male', 'female',\n",
       "       'Non-binary'], dtype=object)"
      ]
     },
     "execution_count": 55,
     "metadata": {},
     "output_type": "execute_result"
    }
   ],
   "source": [
    "#getting the unique values\n",
    "artists_complete[\"Gender\"].unique()"
   ]
  },
  {
   "cell_type": "markdown",
   "id": "8790f712-8ca0-403f-8ebe-16f2fce4647c",
   "metadata": {},
   "source": [
    "We need to unify the gender entries to four unique values: \"non-binary\", \"male\", \"female\", \"nan\".\n"
   ]
  },
  {
   "cell_type": "code",
   "execution_count": 58,
   "id": "dd3662d5-af62-4961-af9b-1491c8a2e8ae",
   "metadata": {},
   "outputs": [
    {
     "data": {
      "text/html": [
       "<div>\n",
       "<style scoped>\n",
       "    .dataframe tbody tr th:only-of-type {\n",
       "        vertical-align: middle;\n",
       "    }\n",
       "\n",
       "    .dataframe tbody tr th {\n",
       "        vertical-align: top;\n",
       "    }\n",
       "\n",
       "    .dataframe thead th {\n",
       "        text-align: right;\n",
       "    }\n",
       "</style>\n",
       "<table border=\"1\" class=\"dataframe\">\n",
       "  <thead>\n",
       "    <tr style=\"text-align: right;\">\n",
       "      <th></th>\n",
       "      <th>ConstituentID</th>\n",
       "      <th>DisplayName</th>\n",
       "      <th>ArtistBio</th>\n",
       "      <th>Nationality</th>\n",
       "      <th>Gender</th>\n",
       "      <th>BeginDate</th>\n",
       "      <th>EndDate</th>\n",
       "      <th>Wiki QID</th>\n",
       "      <th>ULAN</th>\n",
       "      <th>ConstituentID_unique</th>\n",
       "    </tr>\n",
       "  </thead>\n",
       "  <tbody>\n",
       "  </tbody>\n",
       "</table>\n",
       "</div>"
      ],
      "text/plain": [
       "Empty DataFrame\n",
       "Columns: [ConstituentID, DisplayName, ArtistBio, Nationality, Gender, BeginDate, EndDate, Wiki QID, ULAN, ConstituentID_unique]\n",
       "Index: []"
      ]
     },
     "execution_count": 58,
     "metadata": {},
     "output_type": "execute_result"
    }
   ],
   "source": [
    "artists_complete[artists_complete[\"ConstituentID_unique\"] == \"artistsnan\"]"
   ]
  },
  {
   "cell_type": "code",
   "execution_count": null,
   "id": "9214fb16-bc1b-4b46-9543-1912d7c01b8c",
   "metadata": {},
   "outputs": [],
   "source": []
  },
  {
   "cell_type": "code",
   "execution_count": null,
   "id": "d8dc8b26-9a49-479c-9dc9-f952c5744b03",
   "metadata": {},
   "outputs": [],
   "source": []
  },
  {
   "cell_type": "code",
   "execution_count": 59,
   "id": "4b46ce14-72ed-44b4-b7c0-f9a00fd7b06c",
   "metadata": {},
   "outputs": [
    {
     "data": {
      "text/plain": [
       "array(['male', 'female', nan, 'non-binary'], dtype=object)"
      ]
     },
     "execution_count": 59,
     "metadata": {},
     "output_type": "execute_result"
    }
   ],
   "source": [
    "#unify the gender values:\n",
    "artists_complete[\"Gender\"] = artists_complete[\"Gender\"].str.replace('Male', 'male')\n",
    "artists_complete[\"Gender\"] = artists_complete[\"Gender\"].str.replace('Female', 'female')\n",
    "artists_complete[\"Gender\"] = artists_complete[\"Gender\"].str.replace('Non-Binary', 'non-binary')\n",
    "artists_complete[\"Gender\"] = artists_complete[\"Gender\"].str.replace('Non-binary', 'non-binary')\n",
    "#checking how many unique values we have now:\n",
    "artists_complete[\"Gender\"].unique()"
   ]
  },
  {
   "cell_type": "code",
   "execution_count": 60,
   "id": "3ed10741-fb9e-4039-83e0-6018dd3b9862",
   "metadata": {},
   "outputs": [
    {
     "data": {
      "text/plain": [
       "4"
      ]
     },
     "execution_count": 60,
     "metadata": {},
     "output_type": "execute_result"
    }
   ],
   "source": [
    "#checking if we now have 4 unique values.\n",
    "len(artists_complete[\"Gender\"].unique())"
   ]
  },
  {
   "cell_type": "code",
   "execution_count": 61,
   "id": "4e9055ef-400a-46f2-bffb-d0a0e70ffe93",
   "metadata": {},
   "outputs": [
    {
     "data": {
      "text/plain": [
       "array(['male', 'female', 'notspecified', 'non-binary'], dtype=object)"
      ]
     },
     "execution_count": 61,
     "metadata": {},
     "output_type": "execute_result"
    }
   ],
   "source": [
    "#Replace NaN values with the value \"notspecified\"\n",
    "artists_complete[\"Gender\"] = artists_complete[\"Gender\"].fillna(\"notspecified\")\n",
    "artists_complete[\"Gender\"].unique()"
   ]
  },
  {
   "cell_type": "markdown",
   "id": "fe658ef3-b257-4190-af13-7b0c281e0e39",
   "metadata": {},
   "source": [
    "We now use the numpy package to add a new column \"GenderColour\" to the dataframe artists_complete. The colum stores colours according to one of the 4 gender values. "
   ]
  },
  {
   "cell_type": "code",
   "execution_count": 62,
   "id": "f8d7aab8-c0ab-4265-8553-07badb001700",
   "metadata": {},
   "outputs": [
    {
     "data": {
      "text/html": [
       "<div>\n",
       "<style scoped>\n",
       "    .dataframe tbody tr th:only-of-type {\n",
       "        vertical-align: middle;\n",
       "    }\n",
       "\n",
       "    .dataframe tbody tr th {\n",
       "        vertical-align: top;\n",
       "    }\n",
       "\n",
       "    .dataframe thead th {\n",
       "        text-align: right;\n",
       "    }\n",
       "</style>\n",
       "<table border=\"1\" class=\"dataframe\">\n",
       "  <thead>\n",
       "    <tr style=\"text-align: right;\">\n",
       "      <th></th>\n",
       "      <th>ConstituentID</th>\n",
       "      <th>DisplayName</th>\n",
       "      <th>ArtistBio</th>\n",
       "      <th>Nationality</th>\n",
       "      <th>Gender</th>\n",
       "      <th>BeginDate</th>\n",
       "      <th>EndDate</th>\n",
       "      <th>Wiki QID</th>\n",
       "      <th>ULAN</th>\n",
       "      <th>ConstituentID_unique</th>\n",
       "      <th>GenderColour</th>\n",
       "    </tr>\n",
       "  </thead>\n",
       "  <tbody>\n",
       "    <tr>\n",
       "      <th>0</th>\n",
       "      <td>1</td>\n",
       "      <td>Robert Arneson</td>\n",
       "      <td>American, 1930–1992</td>\n",
       "      <td>American</td>\n",
       "      <td>male</td>\n",
       "      <td>1930</td>\n",
       "      <td>1992</td>\n",
       "      <td>NaN</td>\n",
       "      <td>NaN</td>\n",
       "      <td>artist1</td>\n",
       "      <td>green</td>\n",
       "    </tr>\n",
       "    <tr>\n",
       "      <th>1</th>\n",
       "      <td>2</td>\n",
       "      <td>Doroteo Arnaiz</td>\n",
       "      <td>Spanish, born 1936</td>\n",
       "      <td>Spanish</td>\n",
       "      <td>male</td>\n",
       "      <td>1936</td>\n",
       "      <td>0</td>\n",
       "      <td>NaN</td>\n",
       "      <td>NaN</td>\n",
       "      <td>artist2</td>\n",
       "      <td>green</td>\n",
       "    </tr>\n",
       "    <tr>\n",
       "      <th>2</th>\n",
       "      <td>3</td>\n",
       "      <td>Bill Arnold</td>\n",
       "      <td>American, born 1941</td>\n",
       "      <td>American</td>\n",
       "      <td>male</td>\n",
       "      <td>1941</td>\n",
       "      <td>0</td>\n",
       "      <td>NaN</td>\n",
       "      <td>NaN</td>\n",
       "      <td>artist3</td>\n",
       "      <td>green</td>\n",
       "    </tr>\n",
       "    <tr>\n",
       "      <th>3</th>\n",
       "      <td>4</td>\n",
       "      <td>Charles Arnoldi</td>\n",
       "      <td>American, born 1946</td>\n",
       "      <td>American</td>\n",
       "      <td>male</td>\n",
       "      <td>1946</td>\n",
       "      <td>0</td>\n",
       "      <td>Q1063584</td>\n",
       "      <td>500027998.0</td>\n",
       "      <td>artist4</td>\n",
       "      <td>green</td>\n",
       "    </tr>\n",
       "    <tr>\n",
       "      <th>4</th>\n",
       "      <td>5</td>\n",
       "      <td>Per Arnoldi</td>\n",
       "      <td>Danish, born 1941</td>\n",
       "      <td>Danish</td>\n",
       "      <td>male</td>\n",
       "      <td>1941</td>\n",
       "      <td>0</td>\n",
       "      <td>NaN</td>\n",
       "      <td>NaN</td>\n",
       "      <td>artist5</td>\n",
       "      <td>green</td>\n",
       "    </tr>\n",
       "  </tbody>\n",
       "</table>\n",
       "</div>"
      ],
      "text/plain": [
       "  ConstituentID      DisplayName            ArtistBio Nationality Gender  \\\n",
       "0             1   Robert Arneson  American, 1930–1992    American   male   \n",
       "1             2   Doroteo Arnaiz   Spanish, born 1936     Spanish   male   \n",
       "2             3      Bill Arnold  American, born 1941    American   male   \n",
       "3             4  Charles Arnoldi  American, born 1946    American   male   \n",
       "4             5      Per Arnoldi    Danish, born 1941      Danish   male   \n",
       "\n",
       "   BeginDate  EndDate  Wiki QID         ULAN ConstituentID_unique GenderColour  \n",
       "0       1930     1992       NaN          NaN              artist1        green  \n",
       "1       1936        0       NaN          NaN              artist2        green  \n",
       "2       1941        0       NaN          NaN              artist3        green  \n",
       "3       1946        0  Q1063584  500027998.0              artist4        green  \n",
       "4       1941        0       NaN          NaN              artist5        green  "
      ]
     },
     "execution_count": 62,
     "metadata": {},
     "output_type": "execute_result"
    }
   ],
   "source": [
    "#https://www.dataquest.io/blog/tutorial-add-column-pandas-dataframe-based-on-if-else-condition/ \n",
    "#create list of conditions\n",
    "import numpy as np\n",
    "conditions = [\n",
    "    (artists_complete[\"Gender\"] == \"male\"), \n",
    "    (artists_complete[\"Gender\"] == \"female\"), \n",
    "    (artists_complete[\"Gender\"] == \"non-binary\"),\n",
    "    (artists_complete[\"Gender\"] == \"notspecified\")\n",
    "    #(artists_complete[\"Gender\"] == \"NaN\")\n",
    "    ]\n",
    "#create a list of the values we want to assign for each condition (order is important)\n",
    "values = [\"green\", \"blue\", \"red\", \"gray\"]\n",
    "#create a new column and use np.select to assign values to it using our lists as arguments\n",
    "artists_complete[\"GenderColour\"] = np.select(conditions,values)\n",
    "#inspect the df\n",
    "artists_complete.head()"
   ]
  },
  {
   "cell_type": "markdown",
   "id": "7bb2f3b8-81b0-4615-b263-271e8a56c281",
   "metadata": {},
   "source": [
    "Now that we have the Gendercolors column we will add this column as attribute to the nodes of our node object. "
   ]
  },
  {
   "cell_type": "code",
   "execution_count": 63,
   "id": "6ede4335-6b69-4e0a-b1f7-1373e966acea",
   "metadata": {},
   "outputs": [],
   "source": [
    "#set_node_attributes() takes a dictionary as input. To assign multiple attriputes to the nodes at once, we have to create a dictionary of dictionaries. \n",
    "#the outer dictionary represents the nodes, the inner the keys korresponding to the attributes. \n",
    "#good thing: nodes that are not in the graph are ignored. \n",
    "\n",
    "#we start with one attripute (gender): \n",
    "artists_gender= artists_complete[[\"ConstituentID_unique\", \"GenderColour\"]]\n",
    "#setting the index\n",
    "artists_gender_dic = artists_gender.set_index(\"ConstituentID_unique\").T.to_dict(\"list\")\n",
    "#adding the \"gender\"data to the node attributes\n",
    "nx.set_node_attributes(Gnew, artists_gender_dic, \"GenderColour\")\n"
   ]
  },
  {
   "cell_type": "code",
   "execution_count": 65,
   "id": "2b09226c-79e2-4786-bda9-44a92ee37bb2",
   "metadata": {},
   "outputs": [],
   "source": [
    "#Gnew.nodes(data=True)"
   ]
  },
  {
   "cell_type": "markdown",
   "id": "06c34824-fd29-4114-88df-a96774bdf924",
   "metadata": {},
   "source": [
    "All artists nodes hold data as \"GenderColour\" attribute. The object nodes also have the attribute as key, but no value is saved for them. We need to add a colour to those nodes as well, otherwise we would not be able to iterate over the attributes when drawing the network. "
   ]
  },
  {
   "cell_type": "code",
   "execution_count": null,
   "id": "e0e73b0a-f873-4b40-a02a-0d3b96384baf",
   "metadata": {},
   "outputs": [],
   "source": [
    "#gender_nodes = nx.get_node_attributes(Gnew, \"GenderColour\")"
   ]
  },
  {
   "cell_type": "code",
   "execution_count": 66,
   "id": "e2bd3fc6-66ac-41de-be2a-35d43ed78b95",
   "metadata": {},
   "outputs": [
    {
     "data": {
      "text/html": [
       "<div>\n",
       "<style scoped>\n",
       "    .dataframe tbody tr th:only-of-type {\n",
       "        vertical-align: middle;\n",
       "    }\n",
       "\n",
       "    .dataframe tbody tr th {\n",
       "        vertical-align: top;\n",
       "    }\n",
       "\n",
       "    .dataframe thead th {\n",
       "        text-align: right;\n",
       "    }\n",
       "</style>\n",
       "<table border=\"1\" class=\"dataframe\">\n",
       "  <thead>\n",
       "    <tr style=\"text-align: right;\">\n",
       "      <th></th>\n",
       "      <th>Title</th>\n",
       "      <th>ObjectID</th>\n",
       "      <th>Artist</th>\n",
       "      <th>ConstituentID</th>\n",
       "      <th>ObjectID_unique</th>\n",
       "      <th>ConstituentID_unique</th>\n",
       "      <th>object_colour</th>\n",
       "    </tr>\n",
       "  </thead>\n",
       "  <tbody>\n",
       "    <tr>\n",
       "      <th>0</th>\n",
       "      <td>\"Kassama\" Corn Flour</td>\n",
       "      <td>5334</td>\n",
       "      <td>Beggarstaffs (James Pryde</td>\n",
       "      <td>437</td>\n",
       "      <td>object5334</td>\n",
       "      <td>artist437</td>\n",
       "      <td>lightgray</td>\n",
       "    </tr>\n",
       "    <tr>\n",
       "      <th>1</th>\n",
       "      <td>\"Kassama\" Corn Flour</td>\n",
       "      <td>5334</td>\n",
       "      <td>Scottish 1866-1941 &amp; William Nicholson</td>\n",
       "      <td>nan</td>\n",
       "      <td>object5334</td>\n",
       "      <td>artistnan</td>\n",
       "      <td>lightgray</td>\n",
       "    </tr>\n",
       "    <tr>\n",
       "      <th>2</th>\n",
       "      <td>\"Kassama\" Corn Flour</td>\n",
       "      <td>5334</td>\n",
       "      <td>British 1872-1949)</td>\n",
       "      <td>nan</td>\n",
       "      <td>object5334</td>\n",
       "      <td>artistnan</td>\n",
       "      <td>lightgray</td>\n",
       "    </tr>\n",
       "    <tr>\n",
       "      <th>3</th>\n",
       "      <td>(Modern Industry)</td>\n",
       "      <td>118266</td>\n",
       "      <td>David Hogan</td>\n",
       "      <td>34833</td>\n",
       "      <td>object118266</td>\n",
       "      <td>artist34833</td>\n",
       "      <td>lightgray</td>\n",
       "    </tr>\n",
       "    <tr>\n",
       "      <th>4</th>\n",
       "      <td>(Modern Industry)</td>\n",
       "      <td>118266</td>\n",
       "      <td>Fishbone</td>\n",
       "      <td>34792</td>\n",
       "      <td>object118266</td>\n",
       "      <td>artist34792</td>\n",
       "      <td>lightgray</td>\n",
       "    </tr>\n",
       "  </tbody>\n",
       "</table>\n",
       "</div>"
      ],
      "text/plain": [
       "                  Title  ObjectID                                   Artist  \\\n",
       "0  \"Kassama\" Corn Flour      5334                Beggarstaffs (James Pryde   \n",
       "1  \"Kassama\" Corn Flour      5334   Scottish 1866-1941 & William Nicholson   \n",
       "2  \"Kassama\" Corn Flour      5334                       British 1872-1949)   \n",
       "3     (Modern Industry)    118266                              David Hogan   \n",
       "4     (Modern Industry)    118266                                 Fishbone   \n",
       "\n",
       "  ConstituentID ObjectID_unique ConstituentID_unique object_colour  \n",
       "0           437      object5334            artist437     lightgray  \n",
       "1           nan      object5334            artistnan     lightgray  \n",
       "2           nan      object5334            artistnan     lightgray  \n",
       "3         34833    object118266          artist34833     lightgray  \n",
       "4         34792    object118266          artist34792     lightgray  "
      ]
     },
     "execution_count": 66,
     "metadata": {},
     "output_type": "execute_result"
    }
   ],
   "source": [
    "#adding a column to the dataframe that holds the objects with the colour the object nodes should be displayed in the graph\n",
    "single_Artist[\"object_colour\"] = \"lightgray\"\n",
    "single_Artist.head()"
   ]
  },
  {
   "cell_type": "code",
   "execution_count": 67,
   "id": "80458ed9-c831-4ba4-ba92-e688781c9ed8",
   "metadata": {},
   "outputs": [
    {
     "data": {
      "text/plain": [
       "['Title',\n",
       " 'ObjectID',\n",
       " 'Artist',\n",
       " 'ConstituentID',\n",
       " 'ObjectID_unique',\n",
       " 'ConstituentID_unique',\n",
       " 'object_colour']"
      ]
     },
     "execution_count": 67,
     "metadata": {},
     "output_type": "execute_result"
    }
   ],
   "source": [
    "list(single_Artist.columns)"
   ]
  },
  {
   "cell_type": "code",
   "execution_count": 74,
   "id": "ed2d1bf4-5fd0-49dc-9204-ba457e38d735",
   "metadata": {},
   "outputs": [
    {
     "name": "stderr",
     "output_type": "stream",
     "text": [
      "/var/folders/34/sw2csfvn5p534d16zdzqdqk40000gn/T/ipykernel_7452/2526785295.py:6: UserWarning: DataFrame columns are not unique, some columns will be omitted.\n",
      "  objectcoldic = objectcol.set_index(\"ObjectID_unique\").T.to_dict(\"list\")\n"
     ]
    }
   ],
   "source": [
    "#Adding the colour data to the graph object:\n",
    "#creating a dataframe containing only the relevant data: \n",
    "objectcol = single_Artist[[\"ObjectID_unique\", \"object_colour\"]]\n",
    "\n",
    "#Creating a dictionary and setting the index.\n",
    "objectcoldic = objectcol.set_index(\"ObjectID_unique\").T.to_dict(\"list\")\n",
    "\n",
    "#adding the \"colour\" data as node attribut\n",
    "nx.set_node_attributes(Gnew, object_colour_dic, \"GenderColour\")\n"
   ]
  },
  {
   "cell_type": "code",
   "execution_count": 123,
   "id": "cb7536a0-b025-41a9-8288-200aca8788cb",
   "metadata": {},
   "outputs": [],
   "source": [
    "#Gnew.nodes(data=True)"
   ]
  },
  {
   "cell_type": "markdown",
   "id": "4712225f-4abc-429a-a840-0eb57f5a0a6f",
   "metadata": {},
   "source": [
    "The graph objects now holds an colour attribute based on the gender of the artists. for objects the colour \"lightgray\" was chooosen. Next up is plotting the graph that prints the nodes colours repectively. "
   ]
  },
  {
   "cell_type": "markdown",
   "id": "6b4e6dd5-9694-4f69-8c2e-215e898abbce",
   "metadata": {},
   "source": [
    "# Plotting node colour (object or artist) (1.2.22)"
   ]
  },
  {
   "cell_type": "code",
   "execution_count": 125,
   "id": "ab5404f6-f0db-4e3d-bd4b-920cabbc3cda",
   "metadata": {},
   "outputs": [
    {
     "ename": "NameError",
     "evalue": "name 'random' is not defined",
     "output_type": "error",
     "traceback": [
      "\u001b[0;31m---------------------------------------------------------------------------\u001b[0m",
      "\u001b[0;31mNameError\u001b[0m                                 Traceback (most recent call last)",
      "\u001b[0;32m/var/folders/34/sw2csfvn5p534d16zdzqdqk40000gn/T/ipykernel_7452/753310161.py\u001b[0m in \u001b[0;36m<module>\u001b[0;34m\u001b[0m\n\u001b[0;32m----> 1\u001b[0;31m \u001b[0mc\u001b[0m \u001b[0;34m=\u001b[0m \u001b[0;34m[\u001b[0m\u001b[0mrandom\u001b[0m\u001b[0;34m.\u001b[0m\u001b[0mrandom\u001b[0m\u001b[0;34m(\u001b[0m\u001b[0;34m)\u001b[0m\u001b[0;34m]\u001b[0m \u001b[0;34m*\u001b[0m \u001b[0mlen\u001b[0m\u001b[0;34m(\u001b[0m\u001b[0mGnew\u001b[0m\u001b[0;34m)\u001b[0m \u001b[0;31m# random color...\u001b[0m\u001b[0;34m\u001b[0m\u001b[0;34m\u001b[0m\u001b[0m\n\u001b[0m\u001b[1;32m      2\u001b[0m \u001b[0mnx\u001b[0m\u001b[0;34m.\u001b[0m\u001b[0mdraw\u001b[0m\u001b[0;34m(\u001b[0m\u001b[0mGnew\u001b[0m\u001b[0;34m,\u001b[0m \u001b[0mnode_colour\u001b[0m \u001b[0;34m=\u001b[0m \u001b[0mc\u001b[0m\u001b[0;34m)\u001b[0m\u001b[0;34m\u001b[0m\u001b[0;34m\u001b[0m\u001b[0m\n",
      "\u001b[0;31mNameError\u001b[0m: name 'random' is not defined"
     ]
    }
   ],
   "source": [
    "c = [random.random()] * len(Gnew) # random color...\n",
    "nx.draw(Gnew, node_colour = c)"
   ]
  },
  {
   "cell_type": "markdown",
   "id": "8be26a2b-d555-4c3c-b76c-05ac6f3edea2",
   "metadata": {
    "jp-MarkdownHeadingCollapsed": true,
    "tags": []
   },
   "source": [
    "# Plotting node colours (Approach 1.2.22)"
   ]
  },
  {
   "cell_type": "code",
   "execution_count": 83,
   "id": "4ce5d3d8-f41f-4244-b31b-de6ea5f4fe7c",
   "metadata": {},
   "outputs": [
    {
     "ename": "KeyError",
     "evalue": "'GenderColour'",
     "output_type": "error",
     "traceback": [
      "\u001b[0;31m---------------------------------------------------------------------------\u001b[0m",
      "\u001b[0;31mKeyError\u001b[0m                                  Traceback (most recent call last)",
      "\u001b[0;32m/var/folders/34/sw2csfvn5p534d16zdzqdqk40000gn/T/ipykernel_7452/3932157508.py\u001b[0m in \u001b[0;36m<module>\u001b[0;34m\u001b[0m\n\u001b[1;32m      2\u001b[0m \u001b[0;34m\u001b[0m\u001b[0m\n\u001b[1;32m      3\u001b[0m \u001b[0;32mfor\u001b[0m \u001b[0mnode\u001b[0m \u001b[0;32min\u001b[0m \u001b[0mGnew\u001b[0m\u001b[0;34m.\u001b[0m\u001b[0mnodes\u001b[0m\u001b[0;34m(\u001b[0m\u001b[0mdata\u001b[0m\u001b[0;34m=\u001b[0m\u001b[0;32mTrue\u001b[0m\u001b[0;34m)\u001b[0m\u001b[0;34m:\u001b[0m\u001b[0;34m\u001b[0m\u001b[0;34m\u001b[0m\u001b[0m\n\u001b[0;32m----> 4\u001b[0;31m     \u001b[0;32mif\u001b[0m \u001b[0;34m\"gray\"\u001b[0m \u001b[0;32min\u001b[0m \u001b[0mnode\u001b[0m\u001b[0;34m[\u001b[0m\u001b[0;36m1\u001b[0m\u001b[0;34m]\u001b[0m\u001b[0;34m[\u001b[0m\u001b[0;34m\"GenderColour\"\u001b[0m\u001b[0;34m]\u001b[0m\u001b[0;34m:\u001b[0m\u001b[0;34m\u001b[0m\u001b[0;34m\u001b[0m\u001b[0m\n\u001b[0m\u001b[1;32m      5\u001b[0m         \u001b[0mnode_colorTest\u001b[0m\u001b[0;34m.\u001b[0m\u001b[0mappend\u001b[0m\u001b[0;34m(\u001b[0m\u001b[0;34m\"gray\"\u001b[0m\u001b[0;34m)\u001b[0m\u001b[0;34m\u001b[0m\u001b[0;34m\u001b[0m\u001b[0m\n\u001b[1;32m      6\u001b[0m \u001b[0;34m\u001b[0m\u001b[0m\n",
      "\u001b[0;31mKeyError\u001b[0m: 'GenderColour'"
     ]
    }
   ],
   "source": [
    "#does not work\n",
    "node_colorTest = []\n",
    "\n",
    "for node in Gnew.nodes(data=True): \n",
    "    if \"gray\" in node[1][\"GenderColour\"]: \n",
    "        node_colorTest.append(\"gray\")\n",
    "        \n",
    "    if \"lightgray\" in node[1][\"GenderColour\"]: \n",
    "        node_colorTest.append(\"lightgray\")\n",
    "    if \"green\" in node[1][\"GenderColour\"]: \n",
    "        node_colorTest.append(\"green\") \n",
    "    if \"blue\" in node[1][\"GenderColour\"]: \n",
    "        node_colorTest.append(\"blue\")\n",
    "    if \"red\" in node[1][\"GenderColour\"]: \n",
    "        node_colorTest.append(\"red\")\n",
    "    else: \n",
    "        node_colorTest.append(\"black\")\n",
    "\n",
    "nx.draw(Gnew, node_color=node_colorTest)"
   ]
  },
  {
   "cell_type": "code",
   "execution_count": 100,
   "id": "1b8c57a2-a03d-4676-a771-b2b718e9ff85",
   "metadata": {},
   "outputs": [],
   "source": [
    "#colors3 = nx.get_node_attributes(Gnew, \"GenderColour\")\n",
    "#nx.get_node_attributes(Gnew, 'GenderColour').values()"
   ]
  },
  {
   "cell_type": "code",
   "execution_count": 114,
   "id": "155867b2-1913-4281-a5db-d2d7549aa944",
   "metadata": {},
   "outputs": [],
   "source": [
    "#https://stackoverflow.com/questions/28910766/python-networkx-set-node-color-automatically-based-on-number-of-attribute-opt\n",
    "import matplotlib.pyplot as plt\n",
    "from itertools import count\n",
    "\n",
    "genCol = set(nx.get_node_attributes(Gnew, 'GenderColour'))"
   ]
  },
  {
   "cell_type": "code",
   "execution_count": 120,
   "id": "8f5ab0b4-d532-433b-b8c7-3257a0b43840",
   "metadata": {},
   "outputs": [
    {
     "ename": "TypeError",
     "evalue": "unhashable type: 'list'",
     "output_type": "error",
     "traceback": [
      "\u001b[0;31m---------------------------------------------------------------------------\u001b[0m",
      "\u001b[0;31mTypeError\u001b[0m                                 Traceback (most recent call last)",
      "\u001b[0;32m/var/folders/34/sw2csfvn5p534d16zdzqdqk40000gn/T/ipykernel_7452/3518173702.py\u001b[0m in \u001b[0;36m<module>\u001b[0;34m\u001b[0m\n\u001b[1;32m      1\u001b[0m \u001b[0mmapping\u001b[0m \u001b[0;34m=\u001b[0m \u001b[0mdict\u001b[0m\u001b[0;34m(\u001b[0m\u001b[0mzip\u001b[0m\u001b[0;34m(\u001b[0m\u001b[0msorted\u001b[0m\u001b[0;34m(\u001b[0m\u001b[0mgenCol\u001b[0m\u001b[0;34m)\u001b[0m\u001b[0;34m,\u001b[0m \u001b[0mcount\u001b[0m\u001b[0;34m(\u001b[0m\u001b[0;34m)\u001b[0m\u001b[0;34m)\u001b[0m\u001b[0;34m)\u001b[0m\u001b[0;34m\u001b[0m\u001b[0;34m\u001b[0m\u001b[0m\n\u001b[1;32m      2\u001b[0m \u001b[0mnodes\u001b[0m \u001b[0;34m=\u001b[0m \u001b[0mGnew\u001b[0m\u001b[0;34m.\u001b[0m\u001b[0mnodes\u001b[0m\u001b[0;34m(\u001b[0m\u001b[0;34m)\u001b[0m\u001b[0;34m\u001b[0m\u001b[0;34m\u001b[0m\u001b[0m\n\u001b[0;32m----> 3\u001b[0;31m \u001b[0mcolors\u001b[0m \u001b[0;34m=\u001b[0m \u001b[0;34m[\u001b[0m\u001b[0mmapping\u001b[0m\u001b[0;34m[\u001b[0m\u001b[0mGnew\u001b[0m\u001b[0;34m.\u001b[0m\u001b[0mnodes\u001b[0m\u001b[0;34m[\u001b[0m\u001b[0mn\u001b[0m\u001b[0;34m]\u001b[0m\u001b[0;34m[\u001b[0m\u001b[0;34m\"GenderColour\"\u001b[0m\u001b[0;34m]\u001b[0m\u001b[0;34m]\u001b[0m \u001b[0;32mfor\u001b[0m \u001b[0mn\u001b[0m \u001b[0;32min\u001b[0m \u001b[0mnodes\u001b[0m\u001b[0;34m]\u001b[0m\u001b[0;34m\u001b[0m\u001b[0;34m\u001b[0m\u001b[0m\n\u001b[0m\u001b[1;32m      4\u001b[0m \u001b[0mcolors4\u001b[0m \u001b[0;34m=\u001b[0m \u001b[0;34m[\u001b[0m\u001b[0mnx\u001b[0m\u001b[0;34m.\u001b[0m\u001b[0mget_node_attributes\u001b[0m\u001b[0;34m(\u001b[0m\u001b[0mGnew\u001b[0m\u001b[0;34m,\u001b[0m \u001b[0;34m\"GenderColour\"\u001b[0m\u001b[0;34m)\u001b[0m\u001b[0;34m[\u001b[0m\u001b[0mg\u001b[0m\u001b[0;34m]\u001b[0m \u001b[0;32mfor\u001b[0m \u001b[0mg\u001b[0m \u001b[0;32min\u001b[0m \u001b[0mGnew\u001b[0m\u001b[0;34m.\u001b[0m\u001b[0mnodes\u001b[0m\u001b[0;34m(\u001b[0m\u001b[0;34m)\u001b[0m\u001b[0;34m]\u001b[0m\u001b[0;34m\u001b[0m\u001b[0;34m\u001b[0m\u001b[0m\n\u001b[1;32m      5\u001b[0m \u001b[0;34m\u001b[0m\u001b[0m\n",
      "\u001b[0;32m/var/folders/34/sw2csfvn5p534d16zdzqdqk40000gn/T/ipykernel_7452/3518173702.py\u001b[0m in \u001b[0;36m<listcomp>\u001b[0;34m(.0)\u001b[0m\n\u001b[1;32m      1\u001b[0m \u001b[0mmapping\u001b[0m \u001b[0;34m=\u001b[0m \u001b[0mdict\u001b[0m\u001b[0;34m(\u001b[0m\u001b[0mzip\u001b[0m\u001b[0;34m(\u001b[0m\u001b[0msorted\u001b[0m\u001b[0;34m(\u001b[0m\u001b[0mgenCol\u001b[0m\u001b[0;34m)\u001b[0m\u001b[0;34m,\u001b[0m \u001b[0mcount\u001b[0m\u001b[0;34m(\u001b[0m\u001b[0;34m)\u001b[0m\u001b[0;34m)\u001b[0m\u001b[0;34m)\u001b[0m\u001b[0;34m\u001b[0m\u001b[0;34m\u001b[0m\u001b[0m\n\u001b[1;32m      2\u001b[0m \u001b[0mnodes\u001b[0m \u001b[0;34m=\u001b[0m \u001b[0mGnew\u001b[0m\u001b[0;34m.\u001b[0m\u001b[0mnodes\u001b[0m\u001b[0;34m(\u001b[0m\u001b[0;34m)\u001b[0m\u001b[0;34m\u001b[0m\u001b[0;34m\u001b[0m\u001b[0m\n\u001b[0;32m----> 3\u001b[0;31m \u001b[0mcolors\u001b[0m \u001b[0;34m=\u001b[0m \u001b[0;34m[\u001b[0m\u001b[0mmapping\u001b[0m\u001b[0;34m[\u001b[0m\u001b[0mGnew\u001b[0m\u001b[0;34m.\u001b[0m\u001b[0mnodes\u001b[0m\u001b[0;34m[\u001b[0m\u001b[0mn\u001b[0m\u001b[0;34m]\u001b[0m\u001b[0;34m[\u001b[0m\u001b[0;34m\"GenderColour\"\u001b[0m\u001b[0;34m]\u001b[0m\u001b[0;34m]\u001b[0m \u001b[0;32mfor\u001b[0m \u001b[0mn\u001b[0m \u001b[0;32min\u001b[0m \u001b[0mnodes\u001b[0m\u001b[0;34m]\u001b[0m\u001b[0;34m\u001b[0m\u001b[0;34m\u001b[0m\u001b[0m\n\u001b[0m\u001b[1;32m      4\u001b[0m \u001b[0mcolors4\u001b[0m \u001b[0;34m=\u001b[0m \u001b[0;34m[\u001b[0m\u001b[0mnx\u001b[0m\u001b[0;34m.\u001b[0m\u001b[0mget_node_attributes\u001b[0m\u001b[0;34m(\u001b[0m\u001b[0mGnew\u001b[0m\u001b[0;34m,\u001b[0m \u001b[0;34m\"GenderColour\"\u001b[0m\u001b[0;34m)\u001b[0m\u001b[0;34m[\u001b[0m\u001b[0mg\u001b[0m\u001b[0;34m]\u001b[0m \u001b[0;32mfor\u001b[0m \u001b[0mg\u001b[0m \u001b[0;32min\u001b[0m \u001b[0mGnew\u001b[0m\u001b[0;34m.\u001b[0m\u001b[0mnodes\u001b[0m\u001b[0;34m(\u001b[0m\u001b[0;34m)\u001b[0m\u001b[0;34m]\u001b[0m\u001b[0;34m\u001b[0m\u001b[0;34m\u001b[0m\u001b[0m\n\u001b[1;32m      5\u001b[0m \u001b[0;34m\u001b[0m\u001b[0m\n",
      "\u001b[0;31mTypeError\u001b[0m: unhashable type: 'list'"
     ]
    }
   ],
   "source": [
    "mapping = dict(zip(sorted(genCol), count()))\n",
    "nodes = Gnew.nodes()\n",
    "colors = [mapping[Gnew.nodes[n][\"GenderColour\"]] for n in nodes]\n",
    "colors4 = [nx.get_node_attributes(Gnew, \"GenderColour\")[g] for g in Gnew.nodes()]\n",
    "\n",
    "#drawing\n",
    "\n",
    "pos = nx.spring_layout(Gnew)\n",
    "ec = nx.draw_network_edges(Gnew, pos, alpha = 0.2)\n",
    "nc = nx.draw_network_nodes(Gnew, pos, nodelist = nodes, node_colour = colors4, with_labels = False, node_size = 100, cmap=plt.cm.jet)\n",
    "\n",
    "plt.colorbar(nc)\n",
    "plt.axis(\"off\")\n",
    "plt.show()"
   ]
  },
  {
   "cell_type": "markdown",
   "id": "5635d072-6a2e-4915-8036-477c57100a07",
   "metadata": {
    "tags": []
   },
   "source": [
    "# Nodes Color Apprach 29.1.22"
   ]
  },
  {
   "cell_type": "code",
   "execution_count": null,
   "id": "d34b9bcd-cc4a-4d04-b327-127e2375bf30",
   "metadata": {},
   "outputs": [],
   "source": [
    "#To iterate over graph object: \n",
    "#https://stackoverflow.com/questions/31922917/select-network-nodes-with-a-given-attribute-value\n",
    "\n",
    "#nodesNoColour = [x for x,y in Gnew.nodes(data=True) if y[\"GenderColour\"]== \"grey\"]\n",
    "                 #and if y[\"Gendercolour\"]!= \"lightgray\" \n",
    "                    #and if y[\"Gendercolour\"]!= \"green\" \n",
    "                    #and if y[\"Gendercolour\"]!= \"blue\" \n",
    "                    #and if y[\"Gendercolour\"]!= \"orange\"]\n",
    "#nodesNoColour   \n"
   ]
  },
  {
   "cell_type": "code",
   "execution_count": 80,
   "id": "d35e007d-a176-4a1c-9888-b25fd3001a73",
   "metadata": {},
   "outputs": [
    {
     "ename": "KeyError",
     "evalue": "'artistnan'",
     "output_type": "error",
     "traceback": [
      "\u001b[0;31m---------------------------------------------------------------------------\u001b[0m",
      "\u001b[0;31mKeyError\u001b[0m                                  Traceback (most recent call last)",
      "\u001b[0;32m/var/folders/34/sw2csfvn5p534d16zdzqdqk40000gn/T/ipykernel_7452/4112250570.py\u001b[0m in \u001b[0;36m<module>\u001b[0;34m\u001b[0m\n\u001b[0;32m----> 1\u001b[0;31m \u001b[0mcolour\u001b[0m \u001b[0;34m=\u001b[0m \u001b[0;34m[\u001b[0m\u001b[0mnx\u001b[0m\u001b[0;34m.\u001b[0m\u001b[0mget_node_attributes\u001b[0m\u001b[0;34m(\u001b[0m\u001b[0mGnew\u001b[0m\u001b[0;34m,\u001b[0m\u001b[0;34m'GenderColour'\u001b[0m\u001b[0;34m)\u001b[0m\u001b[0;34m[\u001b[0m\u001b[0mg\u001b[0m\u001b[0;34m]\u001b[0m \u001b[0;32mfor\u001b[0m \u001b[0mg\u001b[0m \u001b[0;32min\u001b[0m \u001b[0mGnew\u001b[0m\u001b[0;34m.\u001b[0m\u001b[0mnodes\u001b[0m\u001b[0;34m(\u001b[0m\u001b[0;34m)\u001b[0m\u001b[0;34m]\u001b[0m\u001b[0;34m\u001b[0m\u001b[0;34m\u001b[0m\u001b[0m\n\u001b[0m\u001b[1;32m      2\u001b[0m \u001b[0mcolour\u001b[0m\u001b[0;34m\u001b[0m\u001b[0;34m\u001b[0m\u001b[0m\n",
      "\u001b[0;32m/var/folders/34/sw2csfvn5p534d16zdzqdqk40000gn/T/ipykernel_7452/4112250570.py\u001b[0m in \u001b[0;36m<listcomp>\u001b[0;34m(.0)\u001b[0m\n\u001b[0;32m----> 1\u001b[0;31m \u001b[0mcolour\u001b[0m \u001b[0;34m=\u001b[0m \u001b[0;34m[\u001b[0m\u001b[0mnx\u001b[0m\u001b[0;34m.\u001b[0m\u001b[0mget_node_attributes\u001b[0m\u001b[0;34m(\u001b[0m\u001b[0mGnew\u001b[0m\u001b[0;34m,\u001b[0m\u001b[0;34m'GenderColour'\u001b[0m\u001b[0;34m)\u001b[0m\u001b[0;34m[\u001b[0m\u001b[0mg\u001b[0m\u001b[0;34m]\u001b[0m \u001b[0;32mfor\u001b[0m \u001b[0mg\u001b[0m \u001b[0;32min\u001b[0m \u001b[0mGnew\u001b[0m\u001b[0;34m.\u001b[0m\u001b[0mnodes\u001b[0m\u001b[0;34m(\u001b[0m\u001b[0;34m)\u001b[0m\u001b[0;34m]\u001b[0m\u001b[0;34m\u001b[0m\u001b[0;34m\u001b[0m\u001b[0m\n\u001b[0m\u001b[1;32m      2\u001b[0m \u001b[0mcolour\u001b[0m\u001b[0;34m\u001b[0m\u001b[0;34m\u001b[0m\u001b[0m\n",
      "\u001b[0;31mKeyError\u001b[0m: 'artistnan'"
     ]
    }
   ],
   "source": [
    "colour = [nx.get_node_attributes(Gnew,'GenderColour')[g] for g in Gnew.nodes()]\n",
    "colour"
   ]
  },
  {
   "cell_type": "code",
   "execution_count": null,
   "id": "6d55038f-5cf1-453b-9ebc-7acf762cdc47",
   "metadata": {},
   "outputs": [],
   "source": [
    "#tryping to find the nodes where the colour is missing\n"
   ]
  },
  {
   "cell_type": "code",
   "execution_count": null,
   "id": "e648c8a0-df5e-484f-ae59-1999b015f570",
   "metadata": {},
   "outputs": [],
   "source": [
    "\n",
    "#plot graph T with the node colour based on the gender. \n",
    "#plotting T with node_size depending on betweenness centrality\n",
    "npos = nx.spring_layout(Gnew, scale=1)\n",
    "fig = plt.figure(1, figsize=(20,20))\n",
    "gendercolours = [nx.get_node_attributes(Gnew, \"GenderColour\")[g] for g in Gnew.nodes()]\n",
    "nx.draw(Gnew, pos=npos, \n",
    "        node_size=[v * 10000 for v in between_centrality_T.values()], \n",
    "        #also adding labels\n",
    "        with_labels=True,\n",
    "        node_color=gendercolours,\n",
    "        #node_color = [nx.get_node_attributes(Gnew,'GenderColour')[g] for g in Gnew.nodes()], \n",
    "        edge_color=\"black\")\n",
    "plt.show()"
   ]
  },
  {
   "cell_type": "markdown",
   "id": "bee2f2fd-98ba-4dcf-8f2e-53ab96799008",
   "metadata": {
    "jp-MarkdownHeadingCollapsed": true,
    "tags": []
   },
   "source": [
    "# Investigating the centrality measure of the network: "
   ]
  },
  {
   "cell_type": "markdown",
   "id": "7a7bd502-8057-47c8-89e6-32022043ca58",
   "metadata": {
    "jp-MarkdownHeadingCollapsed": true,
    "tags": []
   },
   "source": [
    "## Degree centrality\n",
    "Finding the network centrality meassures.\n",
    "Since the network is not directed, we don't need to take in degree and out degree into account. "
   ]
  },
  {
   "cell_type": "code",
   "execution_count": null,
   "id": "3d4cf62e-e85b-4c43-a652-eb706d6afa7d",
   "metadata": {},
   "outputs": [],
   "source": [
    "#computing the degree centrality\n",
    "centrality = nx.degree_centrality(Gnew)\n",
    "#adding the degree_centrality values as node attributes\n",
    "nx.set_node_attributes(Gnew, centrality, \"DegreeCentrality\")"
   ]
  },
  {
   "cell_type": "code",
   "execution_count": null,
   "id": "4c8dcc36-d01e-49fd-943b-a8e920c95cc0",
   "metadata": {},
   "outputs": [],
   "source": [
    "#plotting the degree distribution of the network\n",
    "plt.title(\"Histogram of degree centrality distribution\")\n",
    "plt.hist(list(centrality.values()))\n",
    "plt.show()"
   ]
  },
  {
   "cell_type": "code",
   "execution_count": null,
   "id": "03695665-ae60-4a4c-9205-0c66ec257f50",
   "metadata": {},
   "outputs": [],
   "source": [
    "#importing matplotlib\n",
    "import matplotlib.cm as cm"
   ]
  },
  {
   "cell_type": "code",
   "execution_count": null,
   "id": "742778f3-5276-40bd-ae39-0886e898c306",
   "metadata": {},
   "outputs": [],
   "source": [
    "#drawing the graph with nodessizes based on the centrality meassure\n",
    "pos = nx.spring_layout(Gnew, scale=1)\n",
    "fig = plt.figure(1, figsize=(30,30))\n",
    "nx.draw(Gnew, pos=pos, node_size=[v * 1000 for v in centrality.values()])\n",
    "plt.show()"
   ]
  },
  {
   "cell_type": "markdown",
   "id": "276a9687-b262-4a9a-bdd5-b4ba30653897",
   "metadata": {
    "tags": []
   },
   "source": [
    "#### Defining the function *find_nodes_with_highest_deg_cent* \n",
    "The function eturns the nodes with the highest degree centrality in the graph. "
   ]
  },
  {
   "cell_type": "code",
   "execution_count": null,
   "id": "3931a191-9c47-4237-b681-033eac354128",
   "metadata": {},
   "outputs": [],
   "source": [
    "# Defining find_nodes_with_highest_deg_cent()\n",
    "def find_nodes_with_highest_deg_cent(G):\n",
    "    '''returns the nodes with the higehst degree centrality in the graph G'''\n",
    "    # Computing the degree centrality of G: deg_cent\n",
    "    deg_cent = nx.degree_centrality(G)\n",
    "    # Computing the maximum degree centrality: max_dc\n",
    "    max_dc = max(list(deg_cent.values()))\n",
    "    nodes = set()\n",
    "    # Iterating over the degree centrality dictionary\n",
    "    for k, v in deg_cent.items():\n",
    "        # Checking if the current value has the maximum degree centrality\n",
    "        if v == max_dc:\n",
    "            # Adding the current node to the set of nodes\n",
    "            nodes.add(k)\n",
    "    return nodes\n",
    "\n",
    "# Find the node(s) that has the highest degree centrality in G: top_dc\n",
    "top_dc = find_nodes_with_highest_deg_cent(Gnew)\n",
    "print(\"Those are the nodes with the highest degree centrality: \", top_dc)"
   ]
  },
  {
   "cell_type": "code",
   "execution_count": null,
   "id": "df288a99-230d-4965-820b-5f1cfa3d6437",
   "metadata": {},
   "outputs": [],
   "source": [
    "# Assertion statement that checks that the node(s) is/are correctly identified.\n",
    "for node in top_dc:\n",
    "    assert nx.degree_centrality(Gnew)[node] == max(nx.degree_centrality(Gnew).values())"
   ]
  },
  {
   "cell_type": "markdown",
   "id": "441ec3aa-a61e-4ca5-ae73-4337280eacd0",
   "metadata": {
    "jp-MarkdownHeadingCollapsed": true,
    "tags": []
   },
   "source": [
    "## Closeness Centrality: \n",
    "Assuming that important nodes are closer to other nodes. \n",
    "*Closeness centrality* is calucalted as the sum of the path length from the given node to all other nodes. "
   ]
  },
  {
   "cell_type": "code",
   "execution_count": null,
   "id": "418aa33a-dcd4-474a-80e7-f7b829546e8b",
   "metadata": {},
   "outputs": [],
   "source": [
    "#calculating the closeness centrality:\n",
    "close_centrality = nx.closeness_centrality(Gnew)\n",
    "#adding the meassure as node attribute to the graph object\n",
    "nx.set_node_attributes(Gnew, centrality, \"ClosenessCentrality\")"
   ]
  },
  {
   "cell_type": "code",
   "execution_count": null,
   "id": "ef30ba61-527d-49ae-bc2d-6b618467f2bd",
   "metadata": {},
   "outputs": [],
   "source": [
    "#plotting the closeness centrality of the network as histogram\n",
    "plt.hist(list(close_centrality.values()))\n",
    "plt.title(\"Histogram on Closeness Centrality Distribution\")\n",
    "plt.show()"
   ]
  },
  {
   "cell_type": "code",
   "execution_count": null,
   "id": "808b539c-f211-45f3-95c0-ef3a72024771",
   "metadata": {},
   "outputs": [],
   "source": [
    "#plotting the graph with the node sizes depending on the closeness centrality messure of the nodes.\n",
    "fig = plt.figure(1, figsize=(30,30))\n",
    "nx.draw(Gnew, pos = pos, nodelist=close_centrality.keys(), node_color=\"seagreen\", node_size=[v * 10000 for v in close_centrality.values()])\n",
    "plt.show()"
   ]
  },
  {
   "cell_type": "markdown",
   "id": "1a8bd8eb-71b4-4130-9885-34db5eca7775",
   "metadata": {
    "jp-MarkdownHeadingCollapsed": true,
    "tags": []
   },
   "source": [
    "## Betweenness Centrality: \n",
    "*Betweenness centrality* is computed under the assumption that important nodes connect other nodes. Nodes with a high betweeness cetnrality act like bridges in the network. "
   ]
  },
  {
   "cell_type": "code",
   "execution_count": null,
   "id": "912b47f5-66c1-4918-91d1-89a6c6087d1d",
   "metadata": {},
   "outputs": [],
   "source": [
    "#calculating the betweeness centrality:\n",
    "bet_centrality = nx.betweenness_centrality(Gnew)\n",
    "#adding the betweeness centrality as node attribute to the graph object: \n",
    "nx.set_node_attributes(Gnew, bet_centrality, \"BetweenessCentrality\")"
   ]
  },
  {
   "cell_type": "code",
   "execution_count": null,
   "id": "d62821ce-1461-4bda-a550-ca90e13fbf08",
   "metadata": {},
   "outputs": [],
   "source": [
    "#plotting the degree distribution of the network\n",
    "plt.hist(list(bet_centrality.values()))\n",
    "plt.title(\"Histogramm on the Betweenness Centrality Distribution\")\n",
    "plt.show()"
   ]
  },
  {
   "cell_type": "markdown",
   "id": "fc164f60-7d73-4e1c-af09-d1fd91b5bd70",
   "metadata": {},
   "source": [
    "### Finding the Nodes with highest betweenness centrality\n",
    "Defining the function *summary* that profides us with the nodes that have the highest betweeness centrality. "
   ]
  },
  {
   "cell_type": "code",
   "execution_count": null,
   "id": "525019e0-3124-4aa5-bc4c-a982bbb1334e",
   "metadata": {},
   "outputs": [],
   "source": [
    "# defining the function summary\n",
    "def summary(G):\n",
    "    '''\n",
    "    Getting the values and nodes with the highest betweeness centrality in descending order\n",
    "    '''\n",
    "    #use from_dic() to create a dataframe with the keys and vlaues of the bet_centrality object\n",
    "    df = pd.DataFrame.from_dict({\n",
    "        'node': list(bet_centrality.keys()),\n",
    "        'between_centrality': list(bet_centrality.values())\n",
    "    })\n",
    "    #sort the values by centrality with descending order:\n",
    "    return df.sort_values('between_centrality', ascending=False)"
   ]
  },
  {
   "cell_type": "code",
   "execution_count": null,
   "id": "34cd06ed-68bc-4bf5-8454-cd72c306f63a",
   "metadata": {},
   "outputs": [],
   "source": [
    "top_bet_cent = summary(Gnew)\n",
    "top_bet_cent.head()"
   ]
  },
  {
   "cell_type": "markdown",
   "id": "1a3cb9e9-7859-4e1d-b2f3-da302bfd6774",
   "metadata": {},
   "source": [
    "Subsetting the graphobject on the top 100 nodes with the highest in betweeness centrality meassure. "
   ]
  },
  {
   "cell_type": "code",
   "execution_count": null,
   "id": "661ff9a5-76c6-4653-9402-369a1f4d9be2",
   "metadata": {},
   "outputs": [],
   "source": [
    "#subsetting the dataframe, keeping only the top 100 nodes with the highest betweenness centrality. \n",
    "topbet = top_bet_cent.iloc[0:100]\n",
    "topbet.head()"
   ]
  },
  {
   "cell_type": "markdown",
   "id": "3fa8b90c-bcd7-4b1f-b180-59b30ab9af84",
   "metadata": {},
   "source": [
    "### Plotting the new graph object T. "
   ]
  },
  {
   "cell_type": "code",
   "execution_count": null,
   "id": "1f4883ea-2c31-442f-b456-541f52c0952e",
   "metadata": {},
   "outputs": [],
   "source": [
    "#Creating new graph object as a subgraph og Gnew only with the top 100 nodes: \n",
    "topbet_nodes = topbet[\"node\"]\n",
    "T = Gnew.subgraph(topbet_nodes)"
   ]
  },
  {
   "cell_type": "code",
   "execution_count": null,
   "id": "75adc6e6-18b3-4fad-b4d3-97dff4ff305a",
   "metadata": {},
   "outputs": [],
   "source": [
    "#Plotting the new graph object:\n",
    "npos = nx.spring_layout(T, scale=1)\n",
    "fig = plt.figure(1, figsize=(30,30))\n",
    "nx.draw(T, pos=npos, node_color=\"seagreen\", node_size=500, edge_color=\"black\")\n",
    "plt.show()"
   ]
  },
  {
   "cell_type": "markdown",
   "id": "85e5a666-8981-4f06-92d7-25bfcc9f90f9",
   "metadata": {},
   "source": [
    "Plotting the graphobject T with nodes size depending on the betweenness centrality meassure. "
   ]
  },
  {
   "cell_type": "code",
   "execution_count": null,
   "id": "5322d9c8-5339-452b-b2aa-c42ec57cde53",
   "metadata": {},
   "outputs": [],
   "source": [
    "#calculating the betweenness centrality of the graph object T\n",
    "between_centrality_T = nx.betweenness_centrality(T)\n",
    "#plotting T with node_size depending on betweenness centrality\n",
    "npos = nx.spring_layout(T, scale=1)\n",
    "fig = plt.figure(1, figsize=(20,20))\n",
    "nx.draw(T, pos=npos, node_color=\"seagreen\", \n",
    "        node_size=[v * 10000 for v in between_centrality_T.values()], \n",
    "        #also adding labels\n",
    "        with_labels=True,\n",
    "        edge_color=\"black\")\n",
    "plt.show()"
   ]
  },
  {
   "cell_type": "markdown",
   "id": "67625d94-ddc4-41fd-908f-1f964bc14636",
   "metadata": {
    "tags": []
   },
   "source": [
    "### Defining a function *find_node_with_highest_bet_cent* \n",
    "The function returns the nodes with the highest betweeness centrality in the graph G."
   ]
  },
  {
   "cell_type": "code",
   "execution_count": null,
   "id": "33487934-1be6-432d-af42-635c82396877",
   "metadata": {},
   "outputs": [],
   "source": [
    "# Define find_node_with_highest_bet_cent()\n",
    "def find_node_with_highest_bet_cent(G):\n",
    "    '''returns the nodes with the highest betweeness centrality in the graph G.'''\n",
    "    # Computing betweenness centrality: bet_cent\n",
    "    bet_cent = nx.betweenness_centrality(G)\n",
    "    # Computing maximum betweenness centrality: max_bc\n",
    "    max_bc = max(list(bet_cent.values()))\n",
    "    nodes = set()\n",
    "    # Iterating over the betweenness centrality dictionary\n",
    "    for k, v in bet_cent.items():\n",
    "        # Checking if the current value has the maximum betweenness centrality\n",
    "        if v == max_bc:\n",
    "            # Adding the current node to the set of nodes\n",
    "            nodes.add(k)\n",
    "    return nodes\n",
    "\n",
    "# Using that function to find the node(s) that has the highest betweenness centrality in the network: top_bc\n",
    "top_bc = find_node_with_highest_bet_cent(Gnew)\n",
    "print(\"This is the node with the highest betweeness centrality: \",top_bc)\n",
    "\n",
    "# Assertion statement that checks that the node(s) is/are correctly identified.\n",
    "for node in top_bc:\n",
    "    assert nx.betweenness_centrality(Gnew)[node] == max(nx.betweenness_centrality(Gnew).values())"
   ]
  },
  {
   "cell_type": "markdown",
   "id": "85ba683e-4bec-4029-85fe-6e864bc24def",
   "metadata": {
    "jp-MarkdownHeadingCollapsed": true,
    "tags": []
   },
   "source": [
    "## Neihgbors of nodes\n",
    "Getting the degree of every nodes in the graph. Plotting a histogram of the degree centrality distribution. "
   ]
  },
  {
   "cell_type": "code",
   "execution_count": null,
   "id": "91688d94-fa45-48a5-8a31-70b31ce276f6",
   "metadata": {},
   "outputs": [],
   "source": [
    "#computing the degree of every node: degrees\n",
    "degrees = [len(list(Gnew.neighbors(n))) for n in Gnew.nodes()]\n",
    "print(degrees)"
   ]
  },
  {
   "cell_type": "code",
   "execution_count": null,
   "id": "d0d180ed-7ccb-4910-be34-be15a03769a1",
   "metadata": {},
   "outputs": [],
   "source": [
    "#Plot a histogram of the degree distribution of the graph\n",
    "plt.figure()\n",
    "plt.hist(degrees)\n",
    "plt.title(\"Histogram of the degree distribution of the graph\")\n",
    "plt.show()"
   ]
  },
  {
   "cell_type": "code",
   "execution_count": null,
   "id": "8ed4ad4e-7dc5-478b-bb48-ecef4df6a407",
   "metadata": {},
   "outputs": [],
   "source": [
    "#Plot a scatter plot of the centrality distribution and the degree distribution\n",
    "plt.figure()\n",
    "plt.scatter(degrees, list(centrality.values()))\n",
    "plt.title(\"Scatter Plot of the centrality and the degree distribution\")\n",
    "plt.show()"
   ]
  },
  {
   "cell_type": "markdown",
   "id": "91ab89ac-141e-4c51-bef1-19205bd898ac",
   "metadata": {},
   "source": [
    "#### Defing the function *nodes_neighbors*\n",
    "The function *nodes_neighbors*  returns the count of neighbors the nodes have. "
   ]
  },
  {
   "cell_type": "code",
   "execution_count": null,
   "id": "b8421c61-01b7-4839-8636-26db953d4378",
   "metadata": {},
   "outputs": [],
   "source": [
    "#defining the function nodes_neighbors\n",
    "def nodes_neighbors(G):\n",
    "    \"\"\"\n",
    "    Returns the count of neighbors the nodes in G have.\n",
    "    \"\"\"\n",
    "    nodes = set()\n",
    "    #iterate over all nodes in G\n",
    "    for n in G.nodes():\n",
    "        #counting the nodes and adding them to the set:\n",
    "        nodes.add(len(list(G.neighbors(n))))\n",
    "        \n",
    "    #return the neighbor of n\n",
    "    return nodes\n"
   ]
  },
  {
   "cell_type": "code",
   "execution_count": null,
   "id": "5e8ea22d-4ebf-4b82-9b59-343403f1cacb",
   "metadata": {},
   "outputs": [],
   "source": [
    "neighbors = nodes_neighbors(Gnew)\n",
    "print(neighbors)"
   ]
  },
  {
   "cell_type": "markdown",
   "id": "5c814879-6e1c-42e0-9e93-6057a3ee1fa9",
   "metadata": {},
   "source": [
    "#### Defining a functure *nodes_with_m_nrbs* \n",
    "The function return all nodes in a graph that have a soecific count of (m) neighbors."
   ]
  },
  {
   "cell_type": "code",
   "execution_count": null,
   "id": "5bf73162-63f3-49c7-a822-1e7b0ebc0a2f",
   "metadata": {},
   "outputs": [],
   "source": [
    "# Define nodes_with_m_nbrs()\n",
    "def nodes_with_m_nbrs(G, m):\n",
    "    \"\"\"\n",
    "    Returns all nodes in graph G that have m neighbors.\n",
    "    \"\"\"\n",
    "    nodes = set()\n",
    "\n",
    "    # Iterate over all nodes in G\n",
    "    for n in G.nodes():\n",
    "\n",
    "        # Check if the number of neighbors of n matches m\n",
    "        if len(list(G.neighbors(n))) == m:\n",
    "\n",
    "            # Add the node n to the set\n",
    "            nodes.add(n)\n",
    "\n",
    "    # Return the nodes with m neighbors\n",
    "    return nodes"
   ]
  },
  {
   "cell_type": "code",
   "execution_count": null,
   "id": "6a0af738-79da-4a6f-a613-f6f4e013cc14",
   "metadata": {},
   "outputs": [],
   "source": [
    "# Compute and print all nodes in Gnew that have 6 neighbors\n",
    "six_nbrs = nodes_with_m_nbrs(Gnew, 6)\n",
    "print(six_nbrs)\n"
   ]
  },
  {
   "cell_type": "code",
   "execution_count": null,
   "id": "7ce6d6d5-8daf-4ed9-8ce0-533c3da42ce4",
   "metadata": {},
   "outputs": [],
   "source": [
    "# Compute and print all nodes in Gnew that have 72 neighbors\n",
    "seventytwo_nbrs = nodes_with_m_nbrs(Gnew, 72)\n",
    "print(seventytwo_nbrs)"
   ]
  },
  {
   "cell_type": "code",
   "execution_count": null,
   "id": "46e7d94f-4cd7-4383-8b1c-f6b7396421b8",
   "metadata": {},
   "outputs": [],
   "source": [
    "#checking if there realy is no node with 14 neighbors \n",
    "#(As the result shows when using the nodes_neighbors function on Gnew): \n",
    "fourteen_nbrs = nodes_with_m_nbrs(Gnew, 14)\n",
    "print(fourteen_nbrs)"
   ]
  },
  {
   "cell_type": "markdown",
   "id": "d39b48c7-2989-4f7e-a8dd-fca488a1449b",
   "metadata": {
    "jp-MarkdownHeadingCollapsed": true,
    "tags": []
   },
   "source": [
    "## Investigate Triangles in the graph\n",
    "Finding nodes that are involved in triangles. The API nx.triangles() returns a dictionary where the nodes are the keys and the values are the number of triangles. "
   ]
  },
  {
   "cell_type": "code",
   "execution_count": null,
   "id": "6632da34-7523-4350-95c1-ef6c2aa5d455",
   "metadata": {},
   "outputs": [],
   "source": [
    "#creating a dictionary with the triangles of nodes. \n",
    "triangles = nx.triangles(Gnew)"
   ]
  },
  {
   "cell_type": "code",
   "execution_count": null,
   "id": "c02d1baf-c84a-462a-8433-2563ef1fa91d",
   "metadata": {},
   "outputs": [],
   "source": [
    "triangles.get(1)\n",
    "#nothing is return, there is no node with 1 triangle. "
   ]
  },
  {
   "cell_type": "code",
   "execution_count": null,
   "id": "ea32dd52-ba5e-4ed6-b22c-180b2b42032d",
   "metadata": {},
   "outputs": [],
   "source": [
    "triangles_values = list(triangles.values())\n",
    "print(sorted(triangles_values))"
   ]
  },
  {
   "cell_type": "code",
   "execution_count": null,
   "id": "2b001542-b6fe-486a-b9f8-ac87456a1ae2",
   "metadata": {},
   "outputs": [],
   "source": [
    "#complicate way to find out if there are tringles. \n",
    "triangles_values = list(triangles.values())\n",
    "triangles2 = [i for i in triangles_values if i > 1]\n",
    "print(triangles2)"
   ]
  },
  {
   "cell_type": "markdown",
   "id": "decfdbe5-7ee1-4c78-a9cc-5ebab05c2862",
   "metadata": {},
   "source": [
    "There are no triangles in the graph object Gnew.Therefore tThe following function is not useful in this case, since there are no nodes in a triangle relationships.\n",
    "Code was: \n",
    "from itertools import combinations\n",
    "#Function that identifies all nodes in a triangle relationship.\n",
    "def nodes_in_triangle(G, n):\n",
    "    \"\"\"\n",
    "    Returns the nodes in a graph G that are involved in a triangle relationship.\n",
    "    \"\"\"\n",
    "    triangle_nodes = set([n])\n",
    "    # Iterating over all possible triangle relationship combinations\n",
    "    for n1, n2 in combinations(G.neighbors(n), 2):\n",
    "        # Checking if n1 and n2 have an edge between them\n",
    "        if G.has_edge(n1, n2) == True:\n",
    "            # Adding n1 to triangle_nodes\n",
    "            triangle_nodes.add(n1)\n",
    "            # Adding n2 to triangle_nodes\n",
    "            triangle_nodes.add(n2)\n",
    "    return triangle_nodes\n",
    "\n",
    "nodes_in_triangle(Gnew, 1)\n",
    "#shouldn't the result show at least two nodes? "
   ]
  },
  {
   "cell_type": "markdown",
   "id": "685096e9-7a80-4ca5-a65b-41a94723281c",
   "metadata": {
    "jp-MarkdownHeadingCollapsed": true,
    "tags": []
   },
   "source": [
    "## Cliques"
   ]
  },
  {
   "cell_type": "code",
   "execution_count": null,
   "id": "d8b9d5e2-f43e-43b1-a1ae-3607fba19449",
   "metadata": {},
   "outputs": [],
   "source": [
    "#finding all cliques. not very informative in this case. Only holds pairs of two nodes. \n",
    "cliques = list(nx.find_cliques(Gnew))\n",
    "print(cliques[:5])"
   ]
  },
  {
   "cell_type": "markdown",
   "id": "97cbf3ad-fa23-491b-97ca-3ac24a22572d",
   "metadata": {},
   "source": [
    "##### Finding cliques.  \n",
    "cliques are \"groups of nodes that are fully connected to one another\", while a maximal clique is a clique that cannot be extended by adding another node in the graph."
   ]
  },
  {
   "cell_type": "code",
   "execution_count": null,
   "id": "b8c2fb19-3638-47c1-8a3c-6e884514bdd4",
   "metadata": {},
   "outputs": [],
   "source": [
    "#finding the cliques: \n",
    "cliques = nx.find_cliques(Gnew)\n",
    "cliques"
   ]
  },
  {
   "cell_type": "code",
   "execution_count": null,
   "id": "1c0c97ec-49f5-42e6-8468-356ffb258301",
   "metadata": {},
   "outputs": [],
   "source": [
    "print(\"There are\", len(list(cliques)), \"cliques in the graph\")\n",
    "#why do I get the result 0?"
   ]
  },
  {
   "cell_type": "code",
   "execution_count": null,
   "id": "fbffd5ee-145f-4c01-a83d-2eede18a5db2",
   "metadata": {},
   "outputs": [],
   "source": [
    "largest_clique = sorted(nx.find_cliques(Gnew), key=lambda x:len(x))[-1]\n",
    "print(\"The largest clique constists of the nodes: \", largest_clique)"
   ]
  },
  {
   "cell_type": "markdown",
   "id": "7dec1267-3ea5-4872-aee2-3a39d2170a98",
   "metadata": {},
   "source": [
    "When the largest clique constits of only two nodes, there are no real cliques. "
   ]
  }
 ],
 "metadata": {
  "kernelspec": {
   "display_name": "Python 3 (ipykernel)",
   "language": "python",
   "name": "python3"
  },
  "language_info": {
   "codemirror_mode": {
    "name": "ipython",
    "version": 3
   },
   "file_extension": ".py",
   "mimetype": "text/x-python",
   "name": "python",
   "nbconvert_exporter": "python",
   "pygments_lexer": "ipython3",
   "version": "3.8.12"
  }
 },
 "nbformat": 4,
 "nbformat_minor": 5
}
